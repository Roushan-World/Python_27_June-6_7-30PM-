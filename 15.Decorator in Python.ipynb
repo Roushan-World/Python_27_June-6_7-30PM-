{
 "cells": [
  {
   "cell_type": "markdown",
   "id": "d7902a1d-5d19-486a-8cdb-c3cf79fd7dda",
   "metadata": {},
   "source": [
    "# 15. Decorator in Python\n",
    "\n",
    " * __Decorator provide a simple syntax for calling higher-order functions.__\n",
    " * __By definition, a decorator is a function that takes antoher funciton and extends their behaviour of the latter function without explictily modifying it.__\n",
    " * __A decorator in Python is a function that takes another function as it's argument, and return yet another fucntions.__\n",
    " * __Decorators can extremely useful as they allow the extension of existing functions, withyout any modifications to the original fucntion source code.__\n",
    " * __In fact, there are two types of decorators in Python including class decorators and function decorators.__\n",
    " * __In application, decorators are majorly used in creating middle layer in the backend, it perform taks like toekn authentication, validation, image compression.__"
   ]
  },
  {
   "cell_type": "code",
   "execution_count": 1,
   "id": "0ce8864c-0f12-431b-960d-b76c3a656b56",
   "metadata": {},
   "outputs": [],
   "source": [
    "import decorator"
   ]
  },
  {
   "cell_type": "code",
   "execution_count": 2,
   "id": "440a7411-77f2-400a-94bf-4a6a4733fabf",
   "metadata": {},
   "outputs": [],
   "source": [
    "from decorator import *"
   ]
  },
  {
   "cell_type": "code",
   "execution_count": 3,
   "id": "dbf0d96b-3d1f-4365-9fb3-374916b53b58",
   "metadata": {},
   "outputs": [
    {
     "data": {
      "text/plain": [
       "'Hello world'"
      ]
     },
     "execution_count": 3,
     "metadata": {},
     "output_type": "execute_result"
    }
   ],
   "source": [
    "def text(text):\n",
    "    return text\n",
    "\n",
    "text('Hello world')"
   ]
  },
  {
   "cell_type": "code",
   "execution_count": 4,
   "id": "5adcd17c-b821-47ae-bf2c-d4cacaa29eee",
   "metadata": {},
   "outputs": [
    {
     "data": {
      "text/plain": [
       "9"
      ]
     },
     "execution_count": 4,
     "metadata": {},
     "output_type": "execute_result"
    }
   ],
   "source": [
    "def multi(x):\n",
    "    return x*x\n",
    "\n",
    "multi(3)"
   ]
  },
  {
   "cell_type": "code",
   "execution_count": 7,
   "id": "2b51a960-8dfb-4d5b-a839-6f6ee9178eb2",
   "metadata": {},
   "outputs": [
    {
     "name": "stdout",
     "output_type": "stream",
     "text": [
      "hello world how are you?\n",
      "hello world\n",
      "Congratulations\n"
     ]
    }
   ],
   "source": [
    "def mytext():\n",
    "    print('hello world how are you?')\n",
    "    def text1():\n",
    "        print('hello world')\n",
    "    def text2():\n",
    "        print('Congratulations')\n",
    "    text1()\n",
    "    text2()\n",
    "\n",
    "mytext()"
   ]
  },
  {
   "cell_type": "code",
   "execution_count": 11,
   "id": "f814185f-166a-4ae9-9401-5cf0d287ddeb",
   "metadata": {},
   "outputs": [
    {
     "data": {
      "text/plain": [
       "80"
      ]
     },
     "execution_count": 11,
     "metadata": {},
     "output_type": "execute_result"
    }
   ],
   "source": [
    "def mult1(x):\n",
    "    return 10*x\n",
    "    \n",
    "def add1(x):\n",
    "    y=int(input('Enter any number'))\n",
    "    return y+x\n",
    "\n",
    "def sub1(x):\n",
    "    return 100-x\n",
    "    \n",
    "def division(x):\n",
    "    return 10/x\n",
    "\n",
    "\n",
    "def operator(func,value):\n",
    "    new_function=func(value)\n",
    "    return new_function\n",
    "\n",
    "\n",
    "obj1=operator(sub1,20)\n",
    "obj1"
   ]
  },
  {
   "cell_type": "code",
   "execution_count": 13,
   "id": "a31bb798-095a-4f76-b791-d4e7cdd75acf",
   "metadata": {},
   "outputs": [
    {
     "name": "stdin",
     "output_type": "stream",
     "text": [
      "Enter function value: 10\n",
      "Enter any number 100\n"
     ]
    },
    {
     "data": {
      "text/plain": [
       "110"
      ]
     },
     "execution_count": 13,
     "metadata": {},
     "output_type": "execute_result"
    }
   ],
   "source": [
    "x=int(input('Enter function value:'))\n",
    "obj2=operator(add1,x)\n",
    "obj2"
   ]
  },
  {
   "cell_type": "code",
   "execution_count": 17,
   "id": "479bec79-0a27-4198-b487-5ab4e4d92ea9",
   "metadata": {},
   "outputs": [
    {
     "name": "stdin",
     "output_type": "stream",
     "text": [
      "Enter your string: The quick brown fox jumpy over the lazy dog\n"
     ]
    },
    {
     "data": {
      "text/plain": [
       "'THE QUICK BROWN FOX JUMPY OVER THE LAZY DOG'"
      ]
     },
     "execution_count": 17,
     "metadata": {},
     "output_type": "execute_result"
    }
   ],
   "source": [
    "def decorated_upper_case(func):\n",
    "    def upper():\n",
    "        function=func()\n",
    "        text_upper=function.upper()\n",
    "        return text_upper\n",
    "    return upper\n",
    "\n",
    "\n",
    "def text1():\n",
    "    y=input('Enter your string:')\n",
    "    return y\n",
    "\n",
    "x=decorated_upper_case(text1)\n",
    "x()"
   ]
  },
  {
   "cell_type": "code",
   "execution_count": 20,
   "id": "4f1d219d-5d18-41c1-975e-501cca872cec",
   "metadata": {},
   "outputs": [
    {
     "data": {
      "text/plain": [
       "'CONGRATULATIONS'"
      ]
     },
     "execution_count": 20,
     "metadata": {},
     "output_type": "execute_result"
    }
   ],
   "source": [
    "@decorated_upper_case   # decorator\n",
    "def text2():\n",
    "    y=\"congratulations\"\n",
    "    return y\n",
    "\n",
    "text2()"
   ]
  },
  {
   "cell_type": "code",
   "execution_count": 22,
   "id": "c2d871e2-8c1d-4665-a4eb-d6bf594fa85e",
   "metadata": {},
   "outputs": [
    {
     "data": {
      "text/plain": [
       "\"THE FIRST BOOK EXPLAINS NODDY'S ORIGINS. HE IS MADE BY A WOODCARVER IN A TOY SHOP BUT RUNS AWAY AFTER THE MAN BEGINS TO MAKE A WOODEN LION, WHICH SCARES NODDY. AS HE WANDERS THROUGH THE WOODS NAKED, PENNILESS, AND HOMELESS, HE MEETS BIG EARS, A FRIENDLY BROWNIE. BIG EARS DECIDES THAT NODDY IS A TOY AND TAKES HIM TO LIVE IN TOYLAND. HE GENEROUSLY PROVIDES NODDY WITH A SET OF CLOTHING AND A HOUSE. WHILE NODDY IS QUITE HAPPY TO BE A TOY, THE CITIZENS OF TOYLAND ARE NOT SURE THAT HE ACTUALLY IS ONE. THEY PUT NODDY ON TRIAL AND EXAMINE WHETHER HE IS A TOY OR AN ORNAMENT. EVENTUALLY, NODDY IS DECLARED A TOY, BUT STILL HAS TO CONVINCE THE COURT THAT HE IS A GOOD TOY. THE JUDGE ACCEPTS THAT NODDY IS GOOD AFTER A DOLL TELLS THE COURT THAT HE SAVED HER LITTLE GIRL FROM A LION, AND HE IS ALLOWED TO STAY IN TOYLAND. NODDY GETS HIS CAR IN THE SECOND BOOK. IT IS GIVEN TO HIM AFTER HE HELPS SOLVE A LOCAL MYSTERY.\""
      ]
     },
     "execution_count": 22,
     "metadata": {},
     "output_type": "execute_result"
    }
   ],
   "source": [
    "@decorated_upper_case\n",
    "def text3():\n",
    "    y=\"The first book explains Noddy's origins. He is made by a woodcarver in a toy shop but runs away after the man begins to make a wooden lion, which scares Noddy. As he wanders through the woods naked, penniless, and homeless, he meets Big Ears, a friendly brownie. Big Ears decides that Noddy is a toy and takes him to live in Toyland. He generously provides Noddy with a set of clothing and a house. While Noddy is quite happy to be a toy, the citizens of Toyland are not sure that he actually is one. They put Noddy on trial and examine whether he is a toy or an ornament. Eventually, Noddy is declared a toy, but still has to convince the court that he is a good toy. The judge accepts that Noddy is good after a doll tells the court that he saved her little girl from a lion, and he is allowed to stay in Toyland. Noddy gets his car in the second book. It is given to him after he helps solve a local mystery.\"\n",
    "    return y\n",
    "\n",
    "text3()"
   ]
  },
  {
   "cell_type": "code",
   "execution_count": null,
   "id": "5bcaf0b5-3a28-41c1-943e-021c9a4a5ec0",
   "metadata": {},
   "outputs": [],
   "source": []
  }
 ],
 "metadata": {
  "kernelspec": {
   "display_name": "Python 3 (ipykernel)",
   "language": "python",
   "name": "python3"
  },
  "language_info": {
   "codemirror_mode": {
    "name": "ipython",
    "version": 3
   },
   "file_extension": ".py",
   "mimetype": "text/x-python",
   "name": "python",
   "nbconvert_exporter": "python",
   "pygments_lexer": "ipython3",
   "version": "3.12.2"
  }
 },
 "nbformat": 4,
 "nbformat_minor": 5
}
