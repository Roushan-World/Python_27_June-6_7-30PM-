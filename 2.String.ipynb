{
 "cells": [
  {
   "cell_type": "code",
   "execution_count": 1,
   "id": "f96850db-bb15-4e4e-896e-48d2ed0042da",
   "metadata": {},
   "outputs": [
    {
     "name": "stdout",
     "output_type": "stream",
     "text": [
      "Hello world\n"
     ]
    }
   ],
   "source": [
    "#  sequence datatype of python (string)\n",
    "\n",
    "print('Hello world')"
   ]
  },
  {
   "cell_type": "code",
   "execution_count": 2,
   "id": "baed13ee-f1a0-46ed-9158-5e097214f954",
   "metadata": {},
   "outputs": [
    {
     "name": "stdout",
     "output_type": "stream",
     "text": [
      "100\n"
     ]
    }
   ],
   "source": [
    "print('100')"
   ]
  },
  {
   "cell_type": "code",
   "execution_count": 3,
   "id": "68c5c8f9-21c5-4323-98cd-5eb8097042cd",
   "metadata": {},
   "outputs": [
    {
     "name": "stdout",
     "output_type": "stream",
     "text": [
      "!@#$%\n"
     ]
    }
   ],
   "source": [
    "print('!@#$%')"
   ]
  },
  {
   "cell_type": "code",
   "execution_count": 4,
   "id": "97781538-6e50-408a-a5e6-fb9586156ab6",
   "metadata": {},
   "outputs": [
    {
     "ename": "SyntaxError",
     "evalue": "invalid syntax (3856800116.py, line 1)",
     "output_type": "error",
     "traceback": [
      "\u001b[1;36m  Cell \u001b[1;32mIn[4], line 1\u001b[1;36m\u001b[0m\n\u001b[1;33m    $%\u001b[0m\n\u001b[1;37m    ^\u001b[0m\n\u001b[1;31mSyntaxError\u001b[0m\u001b[1;31m:\u001b[0m invalid syntax\n"
     ]
    }
   ],
   "source": [
    "$%"
   ]
  },
  {
   "cell_type": "code",
   "execution_count": 5,
   "id": "e103bf7e-27c2-4f16-9bee-a17e87f5dc0c",
   "metadata": {},
   "outputs": [
    {
     "name": "stdout",
     "output_type": "stream",
     "text": [
      "Hello world\n"
     ]
    }
   ],
   "source": [
    "message=\"Hello world\"\n",
    "print(message)"
   ]
  },
  {
   "cell_type": "code",
   "execution_count": 6,
   "id": "d6f5427c-4726-4df7-9f5b-e17fec9d8cd6",
   "metadata": {},
   "outputs": [
    {
     "data": {
      "text/plain": [
       "'Hello Python'"
      ]
     },
     "execution_count": 6,
     "metadata": {},
     "output_type": "execute_result"
    }
   ],
   "source": [
    "# index value\n",
    "\n",
    "x=\"Hello Python\"\n",
    "x"
   ]
  },
  {
   "cell_type": "code",
   "execution_count": 20,
   "id": "643f7bae-cf83-4104-96d7-d4d9db62f5e1",
   "metadata": {},
   "outputs": [
    {
     "name": "stdout",
     "output_type": "stream",
     "text": [
      "H\n",
      "e\n",
      "l\n",
      "l\n",
      "o\n",
      " \n",
      "P\n",
      "y\n",
      "t\n",
      "h\n",
      "o\n",
      "n\n"
     ]
    }
   ],
   "source": [
    "# positive indexing\n",
    "print(x[0])\n",
    "print(x[1])\n",
    "print(x[2])\n",
    "print(x[3])\n",
    "print(x[4])\n",
    "print(x[5])\n",
    "print(x[6])\n",
    "print(x[7])\n",
    "print(x[8])\n",
    "print(x[9])\n",
    "print(x[10])\n",
    "print(x[11])\n",
    "# print(x[12])"
   ]
  },
  {
   "cell_type": "code",
   "execution_count": 34,
   "id": "e3dc2551-f879-44e5-b1ec-7d2c28256fdd",
   "metadata": {},
   "outputs": [
    {
     "name": "stdout",
     "output_type": "stream",
     "text": [
      "n\n",
      "o\n",
      "h\n",
      "t\n",
      "y\n",
      "P\n",
      " \n",
      "o\n",
      "l\n",
      "l\n",
      "e\n",
      "H\n"
     ]
    }
   ],
   "source": [
    "# negative indexing\n",
    "print(x[-1])\n",
    "print(x[-2])\n",
    "print(x[-3])\n",
    "print(x[-4])\n",
    "print(x[-5])\n",
    "print(x[-6])\n",
    "print(x[-7])\n",
    "print(x[-8])\n",
    "print(x[-9])\n",
    "print(x[-10])\n",
    "print(x[-11])\n",
    "print(x[-12])\n",
    "# print(x[-13])"
   ]
  },
  {
   "cell_type": "code",
   "execution_count": 37,
   "id": "2f9e087c-f8c6-4614-8b77-8956773f180b",
   "metadata": {},
   "outputs": [
    {
     "name": "stdout",
     "output_type": "stream",
     "text": [
      "Hello world\n",
      "Hello\n"
     ]
    }
   ],
   "source": [
    "# Slicing of string.\n",
    "\n",
    "x1='Hello world'\n",
    "print(x1)\n",
    "print(x1[0:5])    # n-1=5-1=4"
   ]
  },
  {
   "cell_type": "code",
   "execution_count": 38,
   "id": "4ccc8af8-7325-4e5d-87d2-14cdd898b086",
   "metadata": {},
   "outputs": [
    {
     "name": "stdout",
     "output_type": "stream",
     "text": [
      "world\n"
     ]
    }
   ],
   "source": [
    "print(x1[6:12])"
   ]
  },
  {
   "cell_type": "code",
   "execution_count": 42,
   "id": "3a05adcd-e31e-4535-97f6-0f1578a80e54",
   "metadata": {},
   "outputs": [
    {
     "name": "stdout",
     "output_type": "stream",
     "text": [
      "o\n"
     ]
    }
   ],
   "source": [
    "print(x[4:5])"
   ]
  },
  {
   "cell_type": "code",
   "execution_count": 43,
   "id": "6ab9c1f9-d092-4d81-83f1-59babab3ee39",
   "metadata": {},
   "outputs": [
    {
     "name": "stdout",
     "output_type": "stream",
     "text": [
      "The Quick Brown fox jump over the lazy dog.\n"
     ]
    }
   ],
   "source": [
    "# with the help of slicing print all text inside the string.\n",
    "\n",
    "x=\"The Quick Brown fox jump over the lazy dog.\"\n",
    "print(x[:])"
   ]
  },
  {
   "cell_type": "code",
   "execution_count": 44,
   "id": "79656d9a-211b-4a6b-b671-6c3087c54c42",
   "metadata": {},
   "outputs": [
    {
     "name": "stdout",
     "output_type": "stream",
     "text": [
      "The Quick\n"
     ]
    }
   ],
   "source": [
    "print(x[:9])"
   ]
  },
  {
   "cell_type": "code",
   "execution_count": 45,
   "id": "52b51de7-6046-4dac-ae27-9d2311ccea1a",
   "metadata": {},
   "outputs": [
    {
     "name": "stdout",
     "output_type": "stream",
     "text": [
      "Brown fox jump over the lazy dog.\n"
     ]
    }
   ],
   "source": [
    "print(x[10:])"
   ]
  },
  {
   "cell_type": "code",
   "execution_count": 48,
   "id": "7ab18812-34de-4537-a1cc-509525660a9c",
   "metadata": {},
   "outputs": [
    {
     "name": "stdout",
     "output_type": "stream",
     "text": [
      "Hlowrd\n"
     ]
    }
   ],
   "source": [
    "# reverse the string\n",
    "\n",
    "x= 'Hello world'\n",
    "\n",
    "print(x[::2])"
   ]
  },
  {
   "cell_type": "code",
   "execution_count": 50,
   "id": "eba9d23e-3b41-46bf-89b4-c53f2c7c12d4",
   "metadata": {},
   "outputs": [
    {
     "data": {
      "text/plain": [
       "'Hlwl'"
      ]
     },
     "execution_count": 50,
     "metadata": {},
     "output_type": "execute_result"
    }
   ],
   "source": [
    "#\n",
    "x=\"Hello world\"\n",
    "x[::3]"
   ]
  },
  {
   "cell_type": "code",
   "execution_count": 51,
   "id": "9b6393c1-8be2-4eab-828a-18402d9ca6ed",
   "metadata": {},
   "outputs": [
    {
     "name": "stdout",
     "output_type": "stream",
     "text": [
      "Hlo\n"
     ]
    }
   ],
   "source": [
    "print(x[0:5:2])"
   ]
  },
  {
   "cell_type": "code",
   "execution_count": 52,
   "id": "d41116a9-efc8-4c09-9aeb-90855c4785ff",
   "metadata": {},
   "outputs": [
    {
     "name": "stdout",
     "output_type": "stream",
     "text": [
      "Hlo\n"
     ]
    }
   ],
   "source": [
    "print(x[:5:2])"
   ]
  },
  {
   "cell_type": "code",
   "execution_count": 53,
   "id": "9296584c-84ce-436b-aa0a-3b2945883252",
   "metadata": {},
   "outputs": [
    {
     "name": "stdout",
     "output_type": "stream",
     "text": [
      "wrd\n"
     ]
    }
   ],
   "source": [
    "print(x[6:12:2])"
   ]
  },
  {
   "cell_type": "code",
   "execution_count": 54,
   "id": "8ce770e4-fda5-4f60-84ef-27cea51a37ea",
   "metadata": {},
   "outputs": [
    {
     "name": "stdout",
     "output_type": "stream",
     "text": [
      "wrd\n"
     ]
    }
   ],
   "source": [
    "print(x[6::2])"
   ]
  },
  {
   "cell_type": "code",
   "execution_count": 55,
   "id": "0bfdf122-be37-40bd-91bd-dff2896f31c8",
   "metadata": {},
   "outputs": [
    {
     "data": {
      "text/plain": [
       "'dlrow olleH'"
      ]
     },
     "execution_count": 55,
     "metadata": {},
     "output_type": "execute_result"
    }
   ],
   "source": [
    "# reverse\n",
    "\n",
    "x1='Hello world'\n",
    "\n",
    "x1[::-1]"
   ]
  },
  {
   "cell_type": "code",
   "execution_count": 56,
   "id": "d28468a4-f36f-4b44-8dcd-3e26df979372",
   "metadata": {},
   "outputs": [
    {
     "data": {
      "text/plain": [
       "'vahsiR'"
      ]
     },
     "execution_count": 56,
     "metadata": {},
     "output_type": "execute_result"
    }
   ],
   "source": [
    "x=\"Rishav\"\n",
    "x[::-1]"
   ]
  },
  {
   "cell_type": "code",
   "execution_count": 61,
   "id": "c89aafcd-4c17-4f89-a63f-42ca2c5e5825",
   "metadata": {},
   "outputs": [
    {
     "name": "stdin",
     "output_type": "stream",
     "text": [
      "Enter your name 100\n"
     ]
    },
    {
     "name": "stdout",
     "output_type": "stream",
     "text": [
      "Your Reversed Name is: 001\n"
     ]
    }
   ],
   "source": [
    "# input() -> it helps to take input from the user.\n",
    "\n",
    "x=input('Enter your name')\n",
    "\n",
    "print('Your Reversed Name is:',x[::-1])"
   ]
  },
  {
   "cell_type": "code",
   "execution_count": 64,
   "id": "9ece4f70-e139-46fa-99b7-3e12e1ad93ae",
   "metadata": {},
   "outputs": [
    {
     "name": "stdin",
     "output_type": "stream",
     "text": [
      "Enter your name game\n"
     ]
    },
    {
     "name": "stdout",
     "output_type": "stream",
     "text": [
      "Your Reversed Name is: emag\n"
     ]
    }
   ],
   "source": [
    "# input() -> it helps to take input from the user.\n",
    "\n",
    "x=input('Enter your name')\n",
    "\n",
    "print('Your Reversed Name is:',x[::-1])"
   ]
  },
  {
   "cell_type": "markdown",
   "id": "0cb175c3-0099-4a44-8c12-4861bf3fdb83",
   "metadata": {},
   "source": [
    "# string operations"
   ]
  },
  {
   "cell_type": "code",
   "execution_count": 9,
   "id": "b7b89882-19fe-4a4e-9619-a59c8cd0484a",
   "metadata": {},
   "outputs": [
    {
     "name": "stdout",
     "output_type": "stream",
     "text": [
      "<class 'str'>\n",
      "hello world\n",
      "HELLO WORLD\n",
      "hello world\n",
      "Hello world\n",
      "Hello World\n",
      "11\n"
     ]
    }
   ],
   "source": [
    "x=\"hello world\"\n",
    "print(type(x))\n",
    "print(x)\n",
    "\n",
    "\n",
    "# uppercase(), lowercase(), capitalize(), title(), casefold()\n",
    "\n",
    "# uppercase(): It convert your text into upper.\n",
    "upper1=x.upper()\n",
    "print(upper1)\n",
    "\n",
    "# lowercase(): It convert your text into lower.\n",
    "lower1=x.lower()\n",
    "print(lower1)\n",
    "\n",
    "# capitalize: It contain first letter in capital otherone are in lower.\n",
    "cap1=x.capitalize()\n",
    "print(cap1)\n",
    "\n",
    "# title: It convert first character in capital and after space first letter also in capital.\n",
    "\n",
    "title1=x.title()\n",
    "print(title1)\n",
    "\n",
    "\n",
    "# len: it return total character or letter in your words.\n",
    "print(len(x))  # including spaces."
   ]
  },
  {
   "cell_type": "code",
   "execution_count": 14,
   "id": "cb192429-c629-45e9-a24b-7e48895dc841",
   "metadata": {},
   "outputs": [
    {
     "data": {
      "text/plain": [
       "'Hye Rishav'"
      ]
     },
     "execution_count": 14,
     "metadata": {},
     "output_type": "execute_result"
    }
   ],
   "source": [
    "# replace\n",
    "\n",
    "x=\"Hello world\"\n",
    "\n",
    "y=x.replace('world',\"Rishav\")\n",
    "y\n",
    "\n",
    "y1=y.replace('Hello',\"Hye\")\n",
    "y1\n"
   ]
  },
  {
   "cell_type": "code",
   "execution_count": 25,
   "id": "bfdea186-1ecb-4a4c-bc06-5cac636f093f",
   "metadata": {},
   "outputs": [
    {
     "name": "stdout",
     "output_type": "stream",
     "text": [
      "Hello World\n",
      "Hey,My name is Rishav and I am 100 years old.\n",
      "Hey,My name is 100 and I am Rishav years old.\n",
      "Hey,My name is Aman and I am 100 years old.\n",
      "Hello, My name is Rishav and I am 200 years old. I belong from Assam.\n"
     ]
    }
   ],
   "source": [
    "# string formattin\n",
    "\n",
    "txt=\"Hello {word}\"   #{} it is placeholder\n",
    "\n",
    "print(txt.format(word=\"World\"))\n",
    "\n",
    "\n",
    "txt1='Hey,My name is {} and I am {} years old.'\n",
    "print(txt1.format('Rishav','100'))\n",
    "print(txt1.format('100','Rishav'))\n",
    "\n",
    "txt2='Hey,My name is {1} and I am {0} years old.'\n",
    "\n",
    "print(txt2.format('100','Aman'))\n",
    "\n",
    "txt3=\"Hello, My name is {c} and I am {b} years old. I belong from {a}.\"\n",
    "print(txt3.format(c=\"Rishav\",b=\"200\",a=\"Assam\"))"
   ]
  },
  {
   "cell_type": "code",
   "execution_count": null,
   "id": "a867012f-de69-441e-8c3e-ac5f7547ea38",
   "metadata": {},
   "outputs": [],
   "source": []
  }
 ],
 "metadata": {
  "kernelspec": {
   "display_name": "Python 3 (ipykernel)",
   "language": "python",
   "name": "python3"
  },
  "language_info": {
   "codemirror_mode": {
    "name": "ipython",
    "version": 3
   },
   "file_extension": ".py",
   "mimetype": "text/x-python",
   "name": "python",
   "nbconvert_exporter": "python",
   "pygments_lexer": "ipython3",
   "version": "3.12.2"
  }
 },
 "nbformat": 4,
 "nbformat_minor": 5
}
