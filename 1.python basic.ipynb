{
 "cells": [
  {
   "cell_type": "markdown",
   "id": "4cd2616f-ead3-47c8-84a8-e0d6f16c0f92",
   "metadata": {},
   "source": [
    "# Python Basic"
   ]
  },
  {
   "cell_type": "code",
   "execution_count": 4,
   "id": "19694a6c-ec89-4cba-a13d-fdd891f73cfd",
   "metadata": {},
   "outputs": [
    {
     "name": "stdout",
     "output_type": "stream",
     "text": [
      "Hello world\n"
     ]
    }
   ],
   "source": [
    "print('Hello world')"
   ]
  },
  {
   "cell_type": "code",
   "execution_count": 5,
   "id": "8338b7cb-3a47-4c4a-9763-d2a3adaa1028",
   "metadata": {},
   "outputs": [
    {
     "name": "stdout",
     "output_type": "stream",
     "text": [
      "Rishav\n"
     ]
    }
   ],
   "source": [
    "# print() is keyword which is used to display the output whateven you write inside the print.\n",
    "print('Rishav')"
   ]
  },
  {
   "cell_type": "code",
   "execution_count": 6,
   "id": "59661fc6-2f95-4b6c-839e-b98b655c93a0",
   "metadata": {},
   "outputs": [
    {
     "name": "stdout",
     "output_type": "stream",
     "text": [
      "Aman\n"
     ]
    }
   ],
   "source": [
    "print('Aman')"
   ]
  },
  {
   "cell_type": "code",
   "execution_count": 7,
   "id": "dce4529a-43dc-4aad-b8a1-e6ec91f7a3b5",
   "metadata": {},
   "outputs": [
    {
     "name": "stdout",
     "output_type": "stream",
     "text": [
      "3.12.2 (tags/v3.12.2:6abddd9, Feb  6 2024, 21:26:36) [MSC v.1937 64 bit (AMD64)]\n"
     ]
    }
   ],
   "source": [
    "# how to check python version in jupyter \n",
    "\n",
    "import sys   # sys-> system.\n",
    "\n",
    "print(sys.version)"
   ]
  },
  {
   "cell_type": "code",
   "execution_count": 12,
   "id": "540b13f6-9706-4f35-a3cd-715fdcfb5fe9",
   "metadata": {},
   "outputs": [],
   "source": [
    "# how to write comment in python 3\n",
    "\n",
    "# quotes \n",
    "# ''  <- single quotes\n",
    "# \"\" <- doubel quotes\n",
    "\n",
    "# ''' '''  <- trimple single quotes  # multiple line comment.\n",
    "# \"\"\" \"\"\"  <- trimple double quotes."
   ]
  },
  {
   "cell_type": "code",
   "execution_count": 13,
   "id": "413d44cd-44a4-4919-ac4a-366c4302f0e2",
   "metadata": {},
   "outputs": [
    {
     "name": "stdout",
     "output_type": "stream",
     "text": [
      "Hello world\n"
     ]
    }
   ],
   "source": [
    "print('Hello world')"
   ]
  },
  {
   "cell_type": "code",
   "execution_count": 14,
   "id": "f359ca4e-f9c4-465e-8e6d-6e4445b5f5c8",
   "metadata": {},
   "outputs": [
    {
     "name": "stdout",
     "output_type": "stream",
     "text": [
      "Hi,python\n"
     ]
    }
   ],
   "source": [
    "print('Hi,python')"
   ]
  },
  {
   "cell_type": "code",
   "execution_count": 15,
   "id": "fab9c228-3f14-43f7-a4f5-fc8e36c73af6",
   "metadata": {},
   "outputs": [
    {
     "name": "stdout",
     "output_type": "stream",
     "text": [
      "Hello world\n"
     ]
    }
   ],
   "source": [
    "print(\"Hello world\")"
   ]
  },
  {
   "cell_type": "code",
   "execution_count": 16,
   "id": "0e224687-dc52-4430-8d05-2d8e9ba6d8ce",
   "metadata": {},
   "outputs": [
    {
     "name": "stdout",
     "output_type": "stream",
     "text": [
      "Hy, python\n"
     ]
    }
   ],
   "source": [
    "print(\"Hy, python\")"
   ]
  },
  {
   "cell_type": "code",
   "execution_count": 18,
   "id": "2133587e-d079-4402-a9ba-bd30630fdd09",
   "metadata": {},
   "outputs": [
    {
     "data": {
      "text/plain": [
       "'c'"
      ]
     },
     "execution_count": 18,
     "metadata": {},
     "output_type": "execute_result"
    }
   ],
   "source": [
    "'c'"
   ]
  },
  {
   "cell_type": "code",
   "execution_count": 21,
   "id": "21533ccb-2e16-4905-9ef8-2694ebef0e8f",
   "metadata": {},
   "outputs": [
    {
     "name": "stdout",
     "output_type": "stream",
     "text": [
      "Rishav\n"
     ]
    }
   ],
   "source": [
    "print(\"Rishav\")"
   ]
  },
  {
   "cell_type": "code",
   "execution_count": 22,
   "id": "ca72b388-2959-4aaf-b013-35263a8d77ed",
   "metadata": {},
   "outputs": [
    {
     "name": "stdout",
     "output_type": "stream",
     "text": [
      "Rishav\n"
     ]
    }
   ],
   "source": [
    "print('Rishav')"
   ]
  },
  {
   "cell_type": "code",
   "execution_count": 24,
   "id": "068412f3-5915-4831-b035-903a1fd38564",
   "metadata": {},
   "outputs": [
    {
     "name": "stdout",
     "output_type": "stream",
     "text": [
      "Whats your name?\n"
     ]
    }
   ],
   "source": [
    "# difference of single and double quotes.\n",
    "\n",
    "print('What''s your name?')"
   ]
  },
  {
   "cell_type": "code",
   "execution_count": 25,
   "id": "e9d41382-fa41-4664-b28c-c8554d02e166",
   "metadata": {},
   "outputs": [
    {
     "name": "stdout",
     "output_type": "stream",
     "text": [
      "what's your name?\n"
     ]
    }
   ],
   "source": [
    "print(\"what's your name?\")"
   ]
  },
  {
   "cell_type": "code",
   "execution_count": 26,
   "id": "778f1671-ba47-452d-8a78-bec488da468e",
   "metadata": {},
   "outputs": [
    {
     "name": "stdout",
     "output_type": "stream",
     "text": [
      "What\"s your name?\n"
     ]
    }
   ],
   "source": [
    "print('What\"s your name?')"
   ]
  },
  {
   "cell_type": "code",
   "execution_count": 5,
   "id": "628d3733-f077-428f-a168-14dc5ae0e7d2",
   "metadata": {},
   "outputs": [
    {
     "name": "stdout",
     "output_type": "stream",
     "text": [
      "100\n",
      "365\n",
      "200\n",
      "100.23\n",
      "100.0\n",
      "200.56\n",
      "100\n",
      "Hello world\n",
      "500.0\n",
      "True\n",
      "False\n"
     ]
    }
   ],
   "source": [
    "# Integer: \n",
    "print(100)\n",
    "print(365)\n",
    "print(200)\n",
    "\n",
    "# float\n",
    "print(100.23)\n",
    "print(100.0)\n",
    "print(200.56)\n",
    "\n",
    "# string\n",
    "print('100')\n",
    "print('Hello world')\n",
    "print('500.0')\n",
    "\n",
    "# boolean\n",
    "print(True)   # 1\n",
    "print(False)  # 0"
   ]
  },
  {
   "cell_type": "markdown",
   "id": "f8c4de9e-c5f1-4c66-ad14-7a05b80818f5",
   "metadata": {},
   "source": [
    "# type() function"
   ]
  },
  {
   "cell_type": "code",
   "execution_count": 14,
   "id": "e21b0c6a-73c2-4e6e-88c5-ed90a4c7076d",
   "metadata": {},
   "outputs": [
    {
     "name": "stdout",
     "output_type": "stream",
     "text": [
      "100\n",
      "<class 'int'>\n",
      "100\n",
      "<class 'str'>\n",
      "100.0\n",
      "<class 'float'>\n",
      "True\n",
      "<class 'bool'>\n",
      "False\n",
      "<class 'bool'>\n"
     ]
    }
   ],
   "source": [
    "x= 100\n",
    "print(x)\n",
    "print(type(x))\n",
    "\n",
    "# string\n",
    "x='100'\n",
    "print(x)\n",
    "print(type(x))\n",
    "\n",
    "\n",
    "# float\n",
    "x=100.0\n",
    "print(x)\n",
    "print(type(x))\n",
    "\n",
    "#Boolean\n",
    "x1=True\n",
    "print(x1)\n",
    "print(type(x1))\n",
    "\n",
    "x2=False\n",
    "print(x2)\n",
    "print(type(x2))"
   ]
  },
  {
   "cell_type": "code",
   "execution_count": 16,
   "id": "c815619c-d62f-4532-90b8-93ca6f9efd79",
   "metadata": {},
   "outputs": [
    {
     "name": "stdout",
     "output_type": "stream",
     "text": [
      "100100\n"
     ]
    }
   ],
   "source": [
    "# string and integer\n",
    "\n",
    "print('100'+'100')\n"
   ]
  },
  {
   "cell_type": "code",
   "execution_count": 17,
   "id": "5fc2e4de-6e77-41a1-90e7-0bd5f2dcf6cf",
   "metadata": {},
   "outputs": [
    {
     "name": "stdout",
     "output_type": "stream",
     "text": [
      "200\n"
     ]
    }
   ],
   "source": [
    "print(100+100)"
   ]
  },
  {
   "cell_type": "code",
   "execution_count": 18,
   "id": "e5efa771-37d5-4e00-baac-aaf3a7157202",
   "metadata": {},
   "outputs": [
    {
     "name": "stdout",
     "output_type": "stream",
     "text": [
      "200.23000000000002\n"
     ]
    }
   ],
   "source": [
    "print(100.23+100)"
   ]
  },
  {
   "cell_type": "code",
   "execution_count": 19,
   "id": "0cd49d38-6354-4870-8f54-06513687a96f",
   "metadata": {},
   "outputs": [
    {
     "name": "stdout",
     "output_type": "stream",
     "text": [
      "2\n"
     ]
    }
   ],
   "source": [
    "print(True+True)"
   ]
  },
  {
   "cell_type": "code",
   "execution_count": 21,
   "id": "d6b1ebae-2508-47e9-8765-6559adcb6d0f",
   "metadata": {},
   "outputs": [
    {
     "name": "stdout",
     "output_type": "stream",
     "text": [
      "1\n"
     ]
    }
   ],
   "source": [
    "print(int(True))"
   ]
  },
  {
   "cell_type": "code",
   "execution_count": 22,
   "id": "d8b46d8f-af3f-409f-b937-a85a826551cd",
   "metadata": {},
   "outputs": [
    {
     "name": "stdout",
     "output_type": "stream",
     "text": [
      "0\n"
     ]
    }
   ],
   "source": [
    "print(int(False))"
   ]
  },
  {
   "cell_type": "code",
   "execution_count": 23,
   "id": "9cf66d97-7534-434d-a75b-4268e80171ad",
   "metadata": {},
   "outputs": [
    {
     "name": "stdout",
     "output_type": "stream",
     "text": [
      "0\n"
     ]
    }
   ],
   "source": [
    "print(True*False)"
   ]
  },
  {
   "cell_type": "code",
   "execution_count": 24,
   "id": "be0d8ae1-8cef-467a-8263-19e60803b113",
   "metadata": {},
   "outputs": [
    {
     "ename": "ZeroDivisionError",
     "evalue": "division by zero",
     "output_type": "error",
     "traceback": [
      "\u001b[1;31m---------------------------------------------------------------------------\u001b[0m",
      "\u001b[1;31mZeroDivisionError\u001b[0m                         Traceback (most recent call last)",
      "Cell \u001b[1;32mIn[24], line 1\u001b[0m\n\u001b[1;32m----> 1\u001b[0m \u001b[38;5;28mprint\u001b[39m(\u001b[38;5;28;01mTrue\u001b[39;00m\u001b[38;5;241m+\u001b[39m\u001b[38;5;28;43;01mTrue\u001b[39;49;00m\u001b[38;5;241;43m/\u001b[39;49m\u001b[38;5;28;43;01mFalse\u001b[39;49;00m)\n",
      "\u001b[1;31mZeroDivisionError\u001b[0m: division by zero"
     ]
    }
   ],
   "source": [
    "print(True+True/False)"
   ]
  },
  {
   "cell_type": "code",
   "execution_count": 25,
   "id": "bbe85ceb-cbae-4e49-851e-5bc80cf9a7e8",
   "metadata": {},
   "outputs": [
    {
     "ename": "ZeroDivisionError",
     "evalue": "division by zero",
     "output_type": "error",
     "traceback": [
      "\u001b[1;31m---------------------------------------------------------------------------\u001b[0m",
      "\u001b[1;31mZeroDivisionError\u001b[0m                         Traceback (most recent call last)",
      "Cell \u001b[1;32mIn[25], line 1\u001b[0m\n\u001b[1;32m----> 1\u001b[0m \u001b[38;5;241;43m1\u001b[39;49m\u001b[38;5;241;43m/\u001b[39;49m\u001b[38;5;241;43m0\u001b[39;49m\n",
      "\u001b[1;31mZeroDivisionError\u001b[0m: division by zero"
     ]
    }
   ],
   "source": [
    "1/0"
   ]
  },
  {
   "cell_type": "code",
   "execution_count": 28,
   "id": "36592e99-ec23-4287-88f3-58925b2496e5",
   "metadata": {},
   "outputs": [
    {
     "data": {
      "text/plain": [
       "'Hello world'"
      ]
     },
     "execution_count": 28,
     "metadata": {},
     "output_type": "execute_result"
    }
   ],
   "source": [
    "# Data type casting\n",
    "\n",
    "# variable:- \n",
    "\n",
    "x1=\"Hello world\"\n",
    "x1"
   ]
  },
  {
   "cell_type": "code",
   "execution_count": 33,
   "id": "f5288ff2-87ab-4f58-a2c2-b97fba54d02e",
   "metadata": {},
   "outputs": [
    {
     "name": "stdout",
     "output_type": "stream",
     "text": [
      "100\n",
      "<class 'int'>\n",
      "100.0\n",
      "<class 'float'>\n",
      "100\n",
      "<class 'str'>\n"
     ]
    }
   ],
   "source": [
    "# data typecasting\n",
    "num=100\n",
    "print(num)\n",
    "print(type(num))\n",
    "\n",
    "\n",
    "# changing in float\n",
    "float1=float(num)\n",
    "print(float1)\n",
    "print(type(float1))\n",
    "\n",
    "\n",
    "# changing in string\n",
    "str1=str(num)\n",
    "print(str1)\n",
    "print(type(str1))"
   ]
  },
  {
   "cell_type": "code",
   "execution_count": 34,
   "id": "e5ca2203-7e7d-4d2f-8f13-da50fc637459",
   "metadata": {},
   "outputs": [],
   "source": [
    "num1= 100.56 # str,int,  =4\n",
    "\n",
    "num2=True  # str,int,float = 6\n",
    "\n",
    "num3=False # str,int,float =6"
   ]
  },
  {
   "cell_type": "code",
   "execution_count": 35,
   "id": "56d28cfd-d86d-4454-b7c6-2aaed076112d",
   "metadata": {},
   "outputs": [
    {
     "name": "stdout",
     "output_type": "stream",
     "text": [
      "90\n"
     ]
    }
   ],
   "source": [
    "# Basic calculation\n",
    "\n",
    "add1=45+45\n",
    "print(add1)"
   ]
  },
  {
   "cell_type": "code",
   "execution_count": 36,
   "id": "25ec28e0-2ec8-41a0-8ac7-5f8f47426cc6",
   "metadata": {},
   "outputs": [
    {
     "name": "stdout",
     "output_type": "stream",
     "text": [
      "-25\n"
     ]
    }
   ],
   "source": [
    "# substraction\n",
    "\n",
    "sub1=100-125\n",
    "print(sub1)"
   ]
  },
  {
   "cell_type": "code",
   "execution_count": 37,
   "id": "8e4124f4-c3f2-4486-acc9-17b2097b291a",
   "metadata": {},
   "outputs": [
    {
     "name": "stdout",
     "output_type": "stream",
     "text": [
      "225\n"
     ]
    }
   ],
   "source": [
    "# Multiplication\n",
    "mul1=45*5\n",
    "print(mul1)"
   ]
  },
  {
   "cell_type": "code",
   "execution_count": 38,
   "id": "e8bd5b28-16c7-4032-ab72-229ff7a15031",
   "metadata": {},
   "outputs": [
    {
     "name": "stdout",
     "output_type": "stream",
     "text": [
      "9.0\n"
     ]
    }
   ],
   "source": [
    "# Division\n",
    "\n",
    "div1=45/5\n",
    "print(div1)"
   ]
  },
  {
   "cell_type": "code",
   "execution_count": 39,
   "id": "959d61c1-de9a-438e-86f8-16a4033f6caf",
   "metadata": {},
   "outputs": [
    {
     "name": "stdout",
     "output_type": "stream",
     "text": [
      "9\n"
     ]
    }
   ],
   "source": [
    "# floor division\n",
    "\n",
    "div1=45//5\n",
    "print(div1)"
   ]
  },
  {
   "cell_type": "code",
   "execution_count": 41,
   "id": "bc9d603e-6570-42b0-a0a2-58bfd8d63a28",
   "metadata": {},
   "outputs": [
    {
     "name": "stdout",
     "output_type": "stream",
     "text": [
      "1\n"
     ]
    }
   ],
   "source": [
    "# Modulus\n",
    "\n",
    "mod1=3%2\n",
    "print(mod1)"
   ]
  },
  {
   "cell_type": "code",
   "execution_count": 42,
   "id": "8bfb3d7d-e09e-438e-afab-be7e3f2d0a7e",
   "metadata": {},
   "outputs": [
    {
     "name": "stdout",
     "output_type": "stream",
     "text": [
      "0\n"
     ]
    }
   ],
   "source": [
    "mod2=2%2\n",
    "print(mod2)"
   ]
  },
  {
   "cell_type": "code",
   "execution_count": 43,
   "id": "f16035b3-1605-4f9c-b66f-bf7d6d0ea556",
   "metadata": {},
   "outputs": [
    {
     "name": "stdout",
     "output_type": "stream",
     "text": [
      "1.5\n"
     ]
    }
   ],
   "source": [
    "div1=3/2  \n",
    "print(div1)"
   ]
  },
  {
   "cell_type": "code",
   "execution_count": 44,
   "id": "69214516-f1df-459d-9927-1a8b82da93bb",
   "metadata": {},
   "outputs": [
    {
     "name": "stdout",
     "output_type": "stream",
     "text": [
      "1\n"
     ]
    }
   ],
   "source": [
    "div2=3//2\n",
    "print(div2)"
   ]
  },
  {
   "cell_type": "code",
   "execution_count": 45,
   "id": "1d8824c3-5726-44d2-bef2-8e36420a8452",
   "metadata": {},
   "outputs": [
    {
     "data": {
      "text/plain": [
       "4"
      ]
     },
     "execution_count": 45,
     "metadata": {},
     "output_type": "execute_result"
    }
   ],
   "source": [
    "# Exponent\n",
    "\n",
    "expo1=2**2\n",
    "expo1"
   ]
  },
  {
   "cell_type": "code",
   "execution_count": 46,
   "id": "e6642b4f-39ea-4610-a13d-31a02226cb00",
   "metadata": {},
   "outputs": [
    {
     "data": {
      "text/plain": [
       "16"
      ]
     },
     "execution_count": 46,
     "metadata": {},
     "output_type": "execute_result"
    }
   ],
   "source": [
    "expo2=2**4\n",
    "expo2"
   ]
  },
  {
   "cell_type": "code",
   "execution_count": 48,
   "id": "6dd09b25-50a2-46ed-ad71-487aa9237df7",
   "metadata": {},
   "outputs": [
    {
     "name": "stdout",
     "output_type": "stream",
     "text": [
      "Total Minutes in 50 hrs 3000 minutes\n"
     ]
    }
   ],
   "source": [
    "# An Example calculate how many minutes are there in 50 hrs.\n",
    "\n",
    "one_hrs=60    # mint\n",
    "hrs = 50   # hrs\n",
    "\n",
    "minutes=hrs*one_hrs\n",
    "print('Total Minutes in 50 hrs',minutes,'minutes')"
   ]
  },
  {
   "cell_type": "code",
   "execution_count": 50,
   "id": "a241c2d5-0092-4797-8292-a72b10779307",
   "metadata": {},
   "outputs": [
    {
     "name": "stdout",
     "output_type": "stream",
     "text": [
      "Hours: 9\n"
     ]
    }
   ],
   "source": [
    "# an Example let's calculate how many hours are there in 548 minutes?\n",
    "\n",
    "one_hrs= 60    # mint\n",
    "minutes= 548   \n",
    "\n",
    "hours= minutes//one_hrs\n",
    "print('Hours:',hours)"
   ]
  },
  {
   "cell_type": "code",
   "execution_count": 56,
   "id": "15337cf1-7057-49a7-859a-e02595cc6202",
   "metadata": {},
   "outputs": [
    {
     "name": "stdout",
     "output_type": "stream",
     "text": [
      "100\n",
      "<class 'int'>\n",
      "100.0\n",
      "<class 'float'>\n",
      "100\n",
      "<class 'str'>\n"
     ]
    }
   ],
   "source": [
    "num=100    # integer\n",
    "print(num)\n",
    "print(type(num))\n",
    "print(float(num))\n",
    "print(type(float(num)))\n",
    "\n",
    "print(str(num))\n",
    "print(type(str(num)))"
   ]
  },
  {
   "cell_type": "code",
   "execution_count": null,
   "id": "6e38da12-69dd-4357-839e-5a51556d04de",
   "metadata": {},
   "outputs": [],
   "source": []
  }
 ],
 "metadata": {
  "kernelspec": {
   "display_name": "Python 3 (ipykernel)",
   "language": "python",
   "name": "python3"
  },
  "language_info": {
   "codemirror_mode": {
    "name": "ipython",
    "version": 3
   },
   "file_extension": ".py",
   "mimetype": "text/x-python",
   "name": "python",
   "nbconvert_exporter": "python",
   "pygments_lexer": "ipython3",
   "version": "3.12.2"
  }
 },
 "nbformat": 4,
 "nbformat_minor": 5
}
