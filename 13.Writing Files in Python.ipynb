{
 "cells": [
  {
   "cell_type": "markdown",
   "id": "36b88509-7463-4c74-92b6-2853b3094ae3",
   "metadata": {},
   "source": [
    "# 13. Writing Files in Python\n",
    "\n",
    " * __To Write a text file in pyhton, you follows these steps:__\n",
    " * __First, Open your text file for writing(or appending) using open() functions.__\n",
    " * __Second, write to the text file using write() or writelines() method.__\n",
    " * __Thirs, close the file using close() method.__"
   ]
  },
  {
   "cell_type": "code",
   "execution_count": 1,
   "id": "8aff2863-6bc3-471c-a9e2-6d1c69291096",
   "metadata": {},
   "outputs": [],
   "source": [
    "fname=\"Dev.txt\"\n",
    "with open(fname,'w') as variable:\n",
    "    variable.write('My name is Dev.\\n')\n",
    "    variable.write('I belong from Assam.\\n')\n",
    "    variable.write(\"I am studing in CS\")\n",
    "    "
   ]
  },
  {
   "cell_type": "code",
   "execution_count": 2,
   "id": "cd0b3211-f6c6-4916-a0ec-4b9d52471f5f",
   "metadata": {},
   "outputs": [],
   "source": [
    "with open(fname,'w') as let:\n",
    "    let.write('My Name is XYZ')\n",
    "    "
   ]
  },
  {
   "cell_type": "code",
   "execution_count": 3,
   "id": "9785ef2f-cac9-43c2-82b9-546b6cd1feab",
   "metadata": {},
   "outputs": [],
   "source": [
    "fname=\"C:\\\\Users\\\\Admin\\\\Downloads\\\\Dev.txt\"\n",
    "with open(fname,'w') as variable:\n",
    "    variable.write('My name is Dev.\\n')\n",
    "    variable.write('I belong from Assam.\\n')\n",
    "    variable.write(\"I am studing in CS\")"
   ]
  },
  {
   "cell_type": "code",
   "execution_count": 4,
   "id": "f42acfec-d768-4879-a609-3d0e671db0f2",
   "metadata": {},
   "outputs": [
    {
     "name": "stdout",
     "output_type": "stream",
     "text": [
      "My name is Dev.\n",
      "I belong from Assam.\n",
      "I am studing in CS\n"
     ]
    }
   ],
   "source": [
    "with open(fname,'r') as f:\n",
    "    print(f.read())"
   ]
  },
  {
   "cell_type": "code",
   "execution_count": 6,
   "id": "af51ef98-32b3-46a1-80d9-ffe298788029",
   "metadata": {},
   "outputs": [
    {
     "name": "stdin",
     "output_type": "stream",
     "text": [
      "Enter your file name: rishabh\n"
     ]
    }
   ],
   "source": [
    "fname=input('Enter your file name:')\n",
    "fname=\"C:\\\\Users\\\\Admin\\\\Downloads\\\\\"+fname+'.txt'\n",
    "with open(fname,'w') as f:\n",
    "    f.write('My name is Rishabh.')"
   ]
  },
  {
   "cell_type": "code",
   "execution_count": 8,
   "id": "9d3f7ed8-f6ad-4a19-a1bd-bb558fc30d49",
   "metadata": {},
   "outputs": [
    {
     "name": "stdin",
     "output_type": "stream",
     "text": [
      "Enter your file name: rishabh\n",
      "Enter Number of lines you want to write:  5\n",
      "Enter Your text here 1: Apple\n",
      "Enter Your text here 2: Ball\n",
      "Enter Your text here 3: Cat\n",
      "Enter Your text here 4: Doll\n",
      "Enter Your text here 5: Elephant\n"
     ]
    }
   ],
   "source": [
    "# Write a program to ask the user how many lines write after the input box opened. Finally saved the \n",
    "# file on desired location in your pc.\n",
    "\n",
    "fname=input('Enter your file name:')\n",
    "fname=fname+'.txt'\n",
    "x=int(input('Enter Number of lines you want to write: '))\n",
    "with open(fname,'w') as f:\n",
    "\n",
    "    for i in range(1,x+1):\n",
    "        y=input(f'Enter Your text here {i}:')\n",
    "        f.write(y)\n",
    "        f.write('\\n')\n",
    "        "
   ]
  },
  {
   "cell_type": "code",
   "execution_count": null,
   "id": "ac02b13c-08c4-4a16-be25-325b031f1c68",
   "metadata": {},
   "outputs": [],
   "source": [
    "# Lambda \n",
    "# Generator\n",
    "# Decorator."
   ]
  }
 ],
 "metadata": {
  "kernelspec": {
   "display_name": "Python 3 (ipykernel)",
   "language": "python",
   "name": "python3"
  },
  "language_info": {
   "codemirror_mode": {
    "name": "ipython",
    "version": 3
   },
   "file_extension": ".py",
   "mimetype": "text/x-python",
   "name": "python",
   "nbconvert_exporter": "python",
   "pygments_lexer": "ipython3",
   "version": "3.12.2"
  }
 },
 "nbformat": 4,
 "nbformat_minor": 5
}
