{
 "cells": [
  {
   "cell_type": "markdown",
   "id": "0b275556-0997-4219-966b-fc24ddd2c8ef",
   "metadata": {},
   "source": [
    "# 5. Sets in Python\n",
    "\n",
    " * __Set is one of the 4 built-in types in Python used to store collection of data including List,Tuples, and Dictionary.__\n",
    " * __Sets are unordered, but your can remove items and add new items.__\n",
    " * __Set elements are unique. Duplicate elements are not allowed.__\n",
    " * __A set itself may be modified, but the elements contained in the set must be of an immutable data type.__\n",
    " * __Sets are used to store multiple items in a single variable.__\n",
    " * __You can denote a set with a pair of curly brackets{}.__"
   ]
  },
  {
   "cell_type": "code",
   "execution_count": 3,
   "id": "28f91972-88c8-4a7a-9930-146ee5f50de6",
   "metadata": {},
   "outputs": [
    {
     "name": "stdout",
     "output_type": "stream",
     "text": [
      "{}\n",
      "<class 'dict'>\n"
     ]
    }
   ],
   "source": [
    "y={}\n",
    "print(y)\n",
    "print(type(y))"
   ]
  },
  {
   "cell_type": "code",
   "execution_count": 5,
   "id": "e68c5716-05f3-4587-ab47-8e36e3e19e30",
   "metadata": {},
   "outputs": [
    {
     "name": "stdout",
     "output_type": "stream",
     "text": [
      "set()\n",
      "<class 'set'>\n"
     ]
    }
   ],
   "source": [
    "# how to create empty set\n",
    "\n",
    "y=set()  # it takes one parameter at one time.\n",
    "print(y) \n",
    "print(type(y))"
   ]
  },
  {
   "cell_type": "code",
   "execution_count": 11,
   "id": "257dbad1-755a-456a-a0b8-0891a952fa6b",
   "metadata": {},
   "outputs": [
    {
     "name": "stdout",
     "output_type": "stream",
     "text": [
      "{True, 'Hello world', 'Hello World'}\n",
      "<class 'set'>\n"
     ]
    }
   ],
   "source": [
    "# cheat sheet shift+tab\n",
    "\n",
    "set1={'Hello world','Hello world','Hello World',True}\n",
    "print(set1)\n",
    "print(type(set1))"
   ]
  },
  {
   "cell_type": "code",
   "execution_count": 14,
   "id": "6a037839-8357-4908-84a5-849381ae48c5",
   "metadata": {},
   "outputs": [
    {
     "name": "stdout",
     "output_type": "stream",
     "text": [
      "['Hello world', 'Hey Rishabh', 'Hello world', True, False, 10, 10, 10, 10, 20, 20, 20, 30, 30, 30, 30]\n",
      "{False, True, 'Hey Rishabh', 'Hello world', 10, 20, 30}\n"
     ]
    }
   ],
   "source": [
    "# set()\n",
    "list1=['Hello world','Hey Rishabh',\"Hello world\",True,False,10,10,10,10,20,20,20,30,30,30,30]\n",
    "print(list1)\n",
    "\n",
    "\n",
    "# converting list to set\n",
    "set1=set(list1)\n",
    "print(set1)"
   ]
  },
  {
   "cell_type": "code",
   "execution_count": 15,
   "id": "6d8006b3-d376-4257-a2e3-9f56fb0ee405",
   "metadata": {},
   "outputs": [
    {
     "data": {
      "text/plain": [
       "'Hello world'"
      ]
     },
     "execution_count": 15,
     "metadata": {},
     "output_type": "execute_result"
    }
   ],
   "source": [
    "list1[0]"
   ]
  },
  {
   "cell_type": "code",
   "execution_count": 16,
   "id": "c5b9f261-a990-4f86-9675-8bd0c5da0468",
   "metadata": {},
   "outputs": [
    {
     "data": {
      "text/plain": [
       "{10, 20, 30, False, 'Hello world', 'Hey Rishabh', True}"
      ]
     },
     "execution_count": 16,
     "metadata": {},
     "output_type": "execute_result"
    }
   ],
   "source": [
    "set1"
   ]
  },
  {
   "cell_type": "code",
   "execution_count": 17,
   "id": "8a8b9b08-fbd0-4b49-b5e3-f3d618c32049",
   "metadata": {},
   "outputs": [
    {
     "ename": "TypeError",
     "evalue": "'set' object is not subscriptable",
     "output_type": "error",
     "traceback": [
      "\u001b[1;31m---------------------------------------------------------------------------\u001b[0m",
      "\u001b[1;31mTypeError\u001b[0m                                 Traceback (most recent call last)",
      "Cell \u001b[1;32mIn[17], line 1\u001b[0m\n\u001b[1;32m----> 1\u001b[0m \u001b[43mset1\u001b[49m\u001b[43m[\u001b[49m\u001b[38;5;241;43m0\u001b[39;49m\u001b[43m]\u001b[49m\n",
      "\u001b[1;31mTypeError\u001b[0m: 'set' object is not subscriptable"
     ]
    }
   ],
   "source": [
    "set1[0]"
   ]
  },
  {
   "cell_type": "code",
   "execution_count": 18,
   "id": "aca32c15-0627-435b-989b-9aa608358a50",
   "metadata": {},
   "outputs": [
    {
     "data": {
      "text/plain": [
       "{10, 20, 30, False, 'Hello world', 'Hey Rishabh', True}"
      ]
     },
     "execution_count": 18,
     "metadata": {},
     "output_type": "execute_result"
    }
   ],
   "source": [
    "set1"
   ]
  },
  {
   "cell_type": "code",
   "execution_count": 19,
   "id": "fa62aeb7-a0ef-44a6-9235-167daf9e6731",
   "metadata": {},
   "outputs": [
    {
     "name": "stdout",
     "output_type": "stream",
     "text": [
      "{10, 20, 'Hello world'}\n"
     ]
    }
   ],
   "source": [
    "tuple1=('Hello world',10,10,10,20,20,20,20)\n",
    "set2=set(tuple1)\n",
    "print(set2)"
   ]
  },
  {
   "cell_type": "markdown",
   "id": "a888ad5e-36c0-412b-ae08-6781971436d1",
   "metadata": {},
   "source": [
    "# set operations"
   ]
  },
  {
   "cell_type": "markdown",
   "id": "dc1e6196-4443-42c4-a237-e813a2eab374",
   "metadata": {},
   "source": [
    "# add() function"
   ]
  },
  {
   "cell_type": "code",
   "execution_count": 21,
   "id": "764b8dc0-cfa5-4ce2-83f8-5a70ad61a0ee",
   "metadata": {},
   "outputs": [],
   "source": [
    "set2.add('Rishabh')"
   ]
  },
  {
   "cell_type": "code",
   "execution_count": 22,
   "id": "5c9b419d-eb2f-430c-8aad-57f675cc6fcd",
   "metadata": {},
   "outputs": [
    {
     "data": {
      "text/plain": [
       "{10, 20, 'Hello world', 'Rishabh'}"
      ]
     },
     "execution_count": 22,
     "metadata": {},
     "output_type": "execute_result"
    }
   ],
   "source": [
    "set2"
   ]
  },
  {
   "cell_type": "code",
   "execution_count": 23,
   "id": "27555706-16d7-4118-aa66-4f1a49da40e3",
   "metadata": {},
   "outputs": [
    {
     "ename": "AttributeError",
     "evalue": "'set' object has no attribute 'append'",
     "output_type": "error",
     "traceback": [
      "\u001b[1;31m---------------------------------------------------------------------------\u001b[0m",
      "\u001b[1;31mAttributeError\u001b[0m                            Traceback (most recent call last)",
      "Cell \u001b[1;32mIn[23], line 1\u001b[0m\n\u001b[1;32m----> 1\u001b[0m \u001b[43mset2\u001b[49m\u001b[38;5;241;43m.\u001b[39;49m\u001b[43mappend\u001b[49m(\u001b[38;5;124m'\u001b[39m\u001b[38;5;124mSahil\u001b[39m\u001b[38;5;124m'\u001b[39m)\n\u001b[0;32m      2\u001b[0m set2\n",
      "\u001b[1;31mAttributeError\u001b[0m: 'set' object has no attribute 'append'"
     ]
    }
   ],
   "source": [
    "set2.append('Sahil')\n",
    "set2"
   ]
  },
  {
   "cell_type": "code",
   "execution_count": 24,
   "id": "d8a90034-1d65-42b4-9ce7-db215317bcc6",
   "metadata": {},
   "outputs": [
    {
     "data": {
      "text/plain": [
       "{10, 20, 'Hello world', 'Rishabh'}"
      ]
     },
     "execution_count": 24,
     "metadata": {},
     "output_type": "execute_result"
    }
   ],
   "source": [
    "set2"
   ]
  },
  {
   "cell_type": "code",
   "execution_count": 26,
   "id": "f2634b96-5f7f-436d-951b-8746287645a7",
   "metadata": {},
   "outputs": [
    {
     "data": {
      "text/plain": [
       "{10, 20, 3, 4, 5, 'Hello world', 'Rishabh'}"
      ]
     },
     "execution_count": 26,
     "metadata": {},
     "output_type": "execute_result"
    }
   ],
   "source": [
    "# update()\n",
    "set3={3,4,5,'Rishabh'}\n",
    "set2.update(set3) # it takes one parameter at one time.\n",
    "\n",
    "set2"
   ]
  },
  {
   "cell_type": "code",
   "execution_count": 27,
   "id": "9a23c617-891f-4c1a-b48f-74bc678de3ae",
   "metadata": {},
   "outputs": [
    {
     "data": {
      "text/plain": [
       "{10, 20, 3, 4, 5, 'Hello world', 'Rishabh'}"
      ]
     },
     "execution_count": 27,
     "metadata": {},
     "output_type": "execute_result"
    }
   ],
   "source": [
    "set2"
   ]
  },
  {
   "cell_type": "code",
   "execution_count": 29,
   "id": "6fdc431c-c4ea-4ca0-a803-d7d9b586b364",
   "metadata": {},
   "outputs": [
    {
     "data": {
      "text/plain": [
       "{10, 20, 3, 4, 'Hello world', 'Rishabh'}"
      ]
     },
     "execution_count": 29,
     "metadata": {},
     "output_type": "execute_result"
    }
   ],
   "source": [
    "# how to delete element inside the set\n",
    "# remove()\n",
    "set2.remove(5)\n",
    "set2"
   ]
  },
  {
   "cell_type": "code",
   "execution_count": 30,
   "id": "fbc52907-80fb-46a2-bdd8-93d855051d9c",
   "metadata": {},
   "outputs": [
    {
     "ename": "KeyError",
     "evalue": "5",
     "output_type": "error",
     "traceback": [
      "\u001b[1;31m---------------------------------------------------------------------------\u001b[0m",
      "\u001b[1;31mKeyError\u001b[0m                                  Traceback (most recent call last)",
      "Cell \u001b[1;32mIn[30], line 1\u001b[0m\n\u001b[1;32m----> 1\u001b[0m \u001b[43mset2\u001b[49m\u001b[38;5;241;43m.\u001b[39;49m\u001b[43mremove\u001b[49m\u001b[43m(\u001b[49m\u001b[38;5;241;43m5\u001b[39;49m\u001b[43m)\u001b[49m\n\u001b[0;32m      2\u001b[0m set2\n",
      "\u001b[1;31mKeyError\u001b[0m: 5"
     ]
    }
   ],
   "source": [
    "set2.remove(5)\n",
    "set2"
   ]
  },
  {
   "cell_type": "code",
   "execution_count": 31,
   "id": "c81d7946-443a-49a0-bf6e-c08e55b71fc7",
   "metadata": {},
   "outputs": [
    {
     "data": {
      "text/plain": [
       "{10, 20, 3, 'Hello world', 'Rishabh'}"
      ]
     },
     "execution_count": 31,
     "metadata": {},
     "output_type": "execute_result"
    }
   ],
   "source": [
    "# discard(): it removes the element if found, otherwise it doen't through an error perhapes it returns all element inside the set.\n",
    "set2.discard(4)\n",
    "set2"
   ]
  },
  {
   "cell_type": "code",
   "execution_count": 32,
   "id": "0094a12f-1b89-4d1c-9bbb-302b99b22277",
   "metadata": {},
   "outputs": [
    {
     "data": {
      "text/plain": [
       "{10, 20, 3, 'Hello world', 'Rishabh'}"
      ]
     },
     "execution_count": 32,
     "metadata": {},
     "output_type": "execute_result"
    }
   ],
   "source": [
    "set2.discard(4)\n",
    "set2"
   ]
  },
  {
   "cell_type": "code",
   "execution_count": 33,
   "id": "06c8852b-e2ea-4bfa-8133-c9bf7cfe9b93",
   "metadata": {},
   "outputs": [
    {
     "name": "stdout",
     "output_type": "stream",
     "text": [
      "{2, 4, 6, 8, 10, 12}\n"
     ]
    }
   ],
   "source": [
    "# union,intersection,difference,symmetric difference\n",
    "# union: it returns unique value upon two sets.\n",
    "a={2,4,6,8}\n",
    "b={6,8,10,12}\n",
    "\n",
    "# union\n",
    "print(a.union(b))\n"
   ]
  },
  {
   "cell_type": "code",
   "execution_count": 34,
   "id": "7409086c-75ba-457b-a7c2-16ba821916c8",
   "metadata": {},
   "outputs": [
    {
     "name": "stdout",
     "output_type": "stream",
     "text": [
      "{8, 6}\n"
     ]
    }
   ],
   "source": [
    "# intersection: it return duplicate value upon two sets.\n",
    "a={2,4,6,8}\n",
    "b={6,8,10,12}\n",
    "\n",
    "print(a.intersection(b))\n"
   ]
  },
  {
   "cell_type": "code",
   "execution_count": 35,
   "id": "e4818e33-2b7e-4c2c-b7b4-e181913ec97d",
   "metadata": {},
   "outputs": [
    {
     "name": "stdout",
     "output_type": "stream",
     "text": [
      "{8, 6}\n"
     ]
    }
   ],
   "source": [
    "# another method to print intersection\n",
    "\n",
    "print(a&b)"
   ]
  },
  {
   "cell_type": "code",
   "execution_count": 43,
   "id": "fd0b2058-d259-43e6-b477-fdfb7b92207a",
   "metadata": {
    "scrolled": true
   },
   "outputs": [
    {
     "name": "stdout",
     "output_type": "stream",
     "text": [
      "{2, 4}\n",
      "{10, 12}\n"
     ]
    }
   ],
   "source": [
    "# difference (a-b) (b-a)\n",
    "a={2,4,6,8}\n",
    "b={6,8,10,12}\n",
    "\n",
    "\n",
    "print(a.difference(b)) # a-b\n",
    "print(b.difference(a))  #b-a\n"
   ]
  },
  {
   "cell_type": "code",
   "execution_count": 40,
   "id": "c428b2f0-7dd3-45a5-a27e-b94462ff1670",
   "metadata": {},
   "outputs": [
    {
     "name": "stdout",
     "output_type": "stream",
     "text": [
      "{2, 4}\n",
      "{10, 12}\n"
     ]
    }
   ],
   "source": [
    "# anthoer method to find intersection between two sets.\n",
    "\n",
    "print(a-b)\n",
    "print(b-a)"
   ]
  },
  {
   "cell_type": "code",
   "execution_count": 45,
   "id": "943232b4-2928-41e1-985a-7e9a4043a5d5",
   "metadata": {},
   "outputs": [
    {
     "name": "stdout",
     "output_type": "stream",
     "text": [
      "{'h', 'g', 'a', 'b', 'c'}\n"
     ]
    }
   ],
   "source": [
    "# symmetric difference\n",
    "a={'a','b','c','d','e','f'}\n",
    "b={'d','e','f','g','h'}\n",
    "\n",
    "print(a.symmetric_difference(b))"
   ]
  },
  {
   "cell_type": "markdown",
   "id": "539e5b1c-4154-4844-9947-b9af6d438105",
   "metadata": {},
   "source": [
    "# Aggrigate function (min,max,len,avg,sum)"
   ]
  },
  {
   "cell_type": "code",
   "execution_count": 55,
   "id": "f537afc9-19c8-41f4-a766-065683fc03e1",
   "metadata": {},
   "outputs": [
    {
     "name": "stdout",
     "output_type": "stream",
     "text": [
      "The minimum element: 1\n",
      "The minimum element: 1\n",
      "The maximum elemnet: 5\n",
      "The maximum element: 5\n",
      "The total of list1: 45\n",
      "The total of set1: 15\n",
      "Total lenght of list1: 15\n",
      "Total length of set1: 5\n",
      "The average of list1: 3.0\n",
      "The average of set1: 3.0\n"
     ]
    }
   ],
   "source": [
    "list1=[1,1,1,2,2,2,3,3,3,4,4,4,5,5,5]\n",
    "set1={1,1,1,2,2,2,3,3,3,4,4,4,5,5,5}\n",
    "print('The minimum element:',min(list1))\n",
    "print('The minimum element:',min(set1))\n",
    "print('The maximum elemnet:',max(list1))\n",
    "print('The maximum element:',max(set1))\n",
    "print('The total of list1:',sum(list1))\n",
    "print('The total of set1:',sum(set1))\n",
    "print('Total lenght of list1:',len(list1))\n",
    "print('Total length of set1:',len(set1))\n",
    "print('The average of list1:',sum(list1)/len(list1))\n",
    "print('The average of set1:',sum(set1)/len(set1))"
   ]
  },
  {
   "cell_type": "markdown",
   "id": "1b49a270-326a-4007-baa1-ebdd20d74983",
   "metadata": {},
   "source": [
    "# set is immutable element"
   ]
  },
  {
   "cell_type": "code",
   "execution_count": 57,
   "id": "fcebccb8-4ac2-4bfc-8ba0-348e7ef17615",
   "metadata": {},
   "outputs": [
    {
     "ename": "TypeError",
     "evalue": "unhashable type: 'list'",
     "output_type": "error",
     "traceback": [
      "\u001b[1;31m---------------------------------------------------------------------------\u001b[0m",
      "\u001b[1;31mTypeError\u001b[0m                                 Traceback (most recent call last)",
      "Cell \u001b[1;32mIn[57], line 1\u001b[0m\n\u001b[1;32m----> 1\u001b[0m set1\u001b[38;5;241m=\u001b[39m{\u001b[38;5;124m'\u001b[39m\u001b[38;5;124mHello world\u001b[39m\u001b[38;5;124m'\u001b[39m,\u001b[38;5;28;01mTrue\u001b[39;00m,(\u001b[38;5;241m10\u001b[39m,\u001b[38;5;241m20\u001b[39m),[\u001b[38;5;124m'\u001b[39m\u001b[38;5;124mhello world\u001b[39m\u001b[38;5;124m'\u001b[39m]}\n\u001b[0;32m      2\u001b[0m set1\n",
      "\u001b[1;31mTypeError\u001b[0m: unhashable type: 'list'"
     ]
    }
   ],
   "source": [
    "set1={'Hello world',True,(10,20),['hello world']}\n",
    "set1"
   ]
  },
  {
   "cell_type": "code",
   "execution_count": 59,
   "id": "45ed349e-cf7a-4238-b189-c1d87d16ee23",
   "metadata": {},
   "outputs": [
    {
     "ename": "TypeError",
     "evalue": "'set' object is not subscriptable",
     "output_type": "error",
     "traceback": [
      "\u001b[1;31m---------------------------------------------------------------------------\u001b[0m",
      "\u001b[1;31mTypeError\u001b[0m                                 Traceback (most recent call last)",
      "Cell \u001b[1;32mIn[59], line 1\u001b[0m\n\u001b[1;32m----> 1\u001b[0m \u001b[43mset1\u001b[49m\u001b[43m[\u001b[49m\u001b[38;5;241;43m0\u001b[39;49m\u001b[43m]\u001b[49m\n",
      "\u001b[1;31mTypeError\u001b[0m: 'set' object is not subscriptable"
     ]
    }
   ],
   "source": [
    "set1[0]"
   ]
  },
  {
   "cell_type": "code",
   "execution_count": 60,
   "id": "d2d5a403-92b3-48b9-b67a-bd47f4f78f7e",
   "metadata": {},
   "outputs": [
    {
     "data": {
      "text/plain": [
       "{(10, 20), 'Hello world', True}"
      ]
     },
     "execution_count": 60,
     "metadata": {},
     "output_type": "execute_result"
    }
   ],
   "source": [
    "# clear(): it removes all element inside the set and returns empty set.\n",
    "set1"
   ]
  },
  {
   "cell_type": "code",
   "execution_count": 61,
   "id": "2f4e440e-f61f-4c22-95da-9569cca8f98c",
   "metadata": {},
   "outputs": [
    {
     "data": {
      "text/plain": [
       "set()"
      ]
     },
     "execution_count": 61,
     "metadata": {},
     "output_type": "execute_result"
    }
   ],
   "source": [
    "set1.clear()\n",
    "set1"
   ]
  },
  {
   "cell_type": "code",
   "execution_count": 62,
   "id": "60dd5fef-452a-4050-bd3e-078ab904b877",
   "metadata": {},
   "outputs": [
    {
     "data": {
      "text/plain": [
       "{(10, 20), 'Hello world', True}"
      ]
     },
     "execution_count": 62,
     "metadata": {},
     "output_type": "execute_result"
    }
   ],
   "source": [
    "set1={'Hello world',True,(10,20)}\n",
    "set1"
   ]
  },
  {
   "cell_type": "code",
   "execution_count": 63,
   "id": "077db9ca-e917-47dc-8073-2f0e7a9ccba8",
   "metadata": {},
   "outputs": [
    {
     "data": {
      "text/plain": [
       "True"
      ]
     },
     "execution_count": 63,
     "metadata": {},
     "output_type": "execute_result"
    }
   ],
   "source": [
    "set1.pop()"
   ]
  },
  {
   "cell_type": "code",
   "execution_count": 64,
   "id": "88e9d803-5f46-49aa-bc53-bb0c9ad919d3",
   "metadata": {},
   "outputs": [
    {
     "data": {
      "text/plain": [
       "{(10, 20), 'Hello world'}"
      ]
     },
     "execution_count": 64,
     "metadata": {},
     "output_type": "execute_result"
    }
   ],
   "source": [
    "set1"
   ]
  },
  {
   "cell_type": "code",
   "execution_count": 66,
   "id": "bb28a5bf-4ea0-4dd6-853e-ec316ae9de56",
   "metadata": {},
   "outputs": [
    {
     "name": "stdout",
     "output_type": "stream",
     "text": [
      "Original set {2, 4, 6}\n",
      "Copied set: {2, 4, 6}\n",
      "{2, 4, 'Hello world', 6}\n"
     ]
    }
   ],
   "source": [
    "# copy() function\n",
    "# deep() copy and shallow copy\n",
    "\n",
    "a_original={2,4,6}\n",
    "b_copy=a_original\n",
    "print('Original set',a_original)\n",
    "print('Copied set:',b_copy)\n",
    "\n",
    "a_original.add('Hello world')\n",
    "print(b_copy)"
   ]
  },
  {
   "cell_type": "code",
   "execution_count": 69,
   "id": "0086106b-ce35-489c-a7b0-4a7472437d11",
   "metadata": {},
   "outputs": [
    {
     "name": "stdout",
     "output_type": "stream",
     "text": [
      "Original set: {2, 4, 6}\n",
      "Copied set: {2, 4, 6}\n",
      "{2, 4, 6}\n"
     ]
    }
   ],
   "source": [
    "# shallow copy\n",
    "a_original={2,4,6}\n",
    "\n",
    "b_copy1=a_original.copy()\n",
    "print('Original set:',a_original)\n",
    "print('Copied set:',b_copy1)\n",
    "\n",
    "\n",
    "# adding element in the b_copy1\n",
    "\n",
    "b_copy1.add('Hello world')\n",
    "print(a_original)"
   ]
  },
  {
   "cell_type": "code",
   "execution_count": null,
   "id": "cd63f39f-b926-4f3e-8149-84cd229bbfc9",
   "metadata": {},
   "outputs": [],
   "source": []
  }
 ],
 "metadata": {
  "kernelspec": {
   "display_name": "Python 3 (ipykernel)",
   "language": "python",
   "name": "python3"
  },
  "language_info": {
   "codemirror_mode": {
    "name": "ipython",
    "version": 3
   },
   "file_extension": ".py",
   "mimetype": "text/x-python",
   "name": "python",
   "nbconvert_exporter": "python",
   "pygments_lexer": "ipython3",
   "version": "3.12.2"
  }
 },
 "nbformat": 4,
 "nbformat_minor": 5
}
