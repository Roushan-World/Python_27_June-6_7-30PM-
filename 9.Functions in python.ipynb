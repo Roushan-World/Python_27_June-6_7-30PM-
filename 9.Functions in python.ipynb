{
 "cells": [
  {
   "cell_type": "markdown",
   "id": "660f2e48-0f13-40b0-b1ad-b6bbc69547d3",
   "metadata": {},
   "source": [
    "# 9. Functions in Python\n",
    "\n",
    " * __In Python a function is a group of related statements that perform a specific task.__\n",
    " * __Function help break out program into smaller and modular chunks. * As our program grows larger and larger, functions make it more organized and manageable.__\n",
    " * __Furthermore, it avoids repetition and make the code reusable.__\n",
    " * __There are two types of functions.__\n",
    " * __1. Pre-defined function [Build-in fuctions].__\n",
    " * __2. User-defined functions.__\n",
    " * __In Python, a function is defined using the def keyword followed by the function name, and parenthesis().__\n",
    " * __Keyword def that marks the start of the function header.__\n",
    " * __A function name is uniquely identify the functions.__\n",
    " * __Function naming follows the same rule of writing identifiers in Python.__\n",
    " * __Parameters(arguments) through which we pass values to a function. They are optional.__\n",
    " * __One or more valid python statements that make up the function body.__\n",
    " * __Statements must have the same indentation level(usually 4 spaces).__\n",
    " * __An optional return statement to return a vlue from the functions.__\n",
    " * __There are three types of User-defined functions.__\n",
    " * __1. nullable functions.__\n",
    " * __2. Parameterized functions.__\n",
    " * __3. Default argument functions.__ "
   ]
  },
  {
   "cell_type": "code",
   "execution_count": 1,
   "id": "7521ebfb-a315-4959-9497-4c680e4abde4",
   "metadata": {},
   "outputs": [
    {
     "name": "stdout",
     "output_type": "stream",
     "text": [
      "Hello world\n"
     ]
    }
   ],
   "source": [
    "print('Hello world')"
   ]
  },
  {
   "cell_type": "code",
   "execution_count": 5,
   "id": "385319d5-b93c-4e1a-b999-fcc8c6060e96",
   "metadata": {},
   "outputs": [
    {
     "name": "stdout",
     "output_type": "stream",
     "text": [
      "Hello Rishabh\n",
      "Hello Dev\n",
      "Hello World\n"
     ]
    }
   ],
   "source": [
    "def to_display_name():  # def is the keyword of function header.\n",
    "    print('Hello Rishabh') # print is the statement\n",
    "    print('Hello Dev') # print is the statement\n",
    "    print('Hello World')\n",
    "\n",
    "to_display_name()  # callback functions"
   ]
  },
  {
   "cell_type": "code",
   "execution_count": 6,
   "id": "42fc1c79-1009-490a-9841-32e47fd8b21b",
   "metadata": {},
   "outputs": [
    {
     "name": "stdout",
     "output_type": "stream",
     "text": [
      "Hello rishabh\n",
      "hello dev\n"
     ]
    }
   ],
   "source": [
    "print('Hello rishabh')\n",
    "print('hello dev')"
   ]
  },
  {
   "cell_type": "code",
   "execution_count": 7,
   "id": "9b7f67af-f367-4ea8-9990-fbb22210f117",
   "metadata": {},
   "outputs": [
    {
     "name": "stdout",
     "output_type": "stream",
     "text": [
      "Hello Rishabh\n",
      "Hello Dev\n",
      "Hello World\n"
     ]
    }
   ],
   "source": [
    "to_display_name()"
   ]
  },
  {
   "cell_type": "code",
   "execution_count": 9,
   "id": "e97d5f27-6406-49ac-b220-0480e8041272",
   "metadata": {},
   "outputs": [
    {
     "name": "stdout",
     "output_type": "stream",
     "text": [
      "Hello Rishabh\n",
      "Hello Dev\n",
      "Hello World\n"
     ]
    }
   ],
   "source": [
    "to_display_name()"
   ]
  },
  {
   "cell_type": "code",
   "execution_count": 10,
   "id": "0f074aa9-cf02-4569-9ba3-c6a756fc63af",
   "metadata": {},
   "outputs": [
    {
     "name": "stdout",
     "output_type": "stream",
     "text": [
      "Hello Rishabh\n",
      "Hello Dev\n",
      "Hello World\n"
     ]
    }
   ],
   "source": [
    "to_display_name()  # how to open cheat sheet shift+tab"
   ]
  },
  {
   "cell_type": "code",
   "execution_count": 11,
   "id": "054ad110-52c9-45a1-9833-32f32df40ffc",
   "metadata": {},
   "outputs": [
    {
     "name": "stdout",
     "output_type": "stream",
     "text": [
      "90\n"
     ]
    }
   ],
   "source": [
    "x=45\n",
    "y=45\n",
    "z=x+y\n",
    "print(z)"
   ]
  },
  {
   "cell_type": "code",
   "execution_count": 12,
   "id": "b96a8a01-5f59-4353-9361-c6667b30f9e9",
   "metadata": {},
   "outputs": [
    {
     "data": {
      "text/plain": [
       "90"
      ]
     },
     "execution_count": 12,
     "metadata": {},
     "output_type": "execute_result"
    }
   ],
   "source": [
    "def sum_two():\n",
    "    x=45\n",
    "    y=45\n",
    "    z=x+y\n",
    "    return z\n",
    "\n",
    "sum_two()"
   ]
  },
  {
   "cell_type": "code",
   "execution_count": 22,
   "id": "7bce1002-809e-40b2-a765-feacca2b67d4",
   "metadata": {},
   "outputs": [
    {
     "name": "stdout",
     "output_type": "stream",
     "text": [
      "Hello world\n"
     ]
    },
    {
     "data": {
      "text/plain": [
       "'Hello world'"
      ]
     },
     "execution_count": 22,
     "metadata": {},
     "output_type": "execute_result"
    }
   ],
   "source": [
    "def hello():\n",
    "    print('Hello world')\n",
    "    # return None;\n",
    "\n",
    "def hello1():\n",
    "    # print('Hello world')\n",
    "    return (\"Hello world\")\n",
    "    \n",
    "\n",
    "\n",
    "hello()\n",
    "hello1()"
   ]
  },
  {
   "cell_type": "code",
   "execution_count": 23,
   "id": "1f391e43-5e8e-40df-9255-f927799094c4",
   "metadata": {},
   "outputs": [
    {
     "name": "stdout",
     "output_type": "stream",
     "text": [
      "Hello world\n",
      "None\n"
     ]
    }
   ],
   "source": [
    "print(hello())"
   ]
  },
  {
   "cell_type": "code",
   "execution_count": 24,
   "id": "13477ae2-f0f7-4094-843f-28c476fb984a",
   "metadata": {},
   "outputs": [
    {
     "name": "stdout",
     "output_type": "stream",
     "text": [
      "Hello world\n"
     ]
    }
   ],
   "source": [
    "print(hello1())"
   ]
  },
  {
   "cell_type": "code",
   "execution_count": 26,
   "id": "7e7e2376-2246-415d-844f-011090c7512b",
   "metadata": {},
   "outputs": [
    {
     "name": "stdout",
     "output_type": "stream",
     "text": [
      "Dev\n",
      "None\n"
     ]
    }
   ],
   "source": [
    "def func():\n",
    "    print('Dev')\n",
    "    # return None;\n",
    "\n",
    "\n",
    "def func1():\n",
    "    return 'Rishabh'\n",
    "print(func())"
   ]
  },
  {
   "cell_type": "code",
   "execution_count": 27,
   "id": "be4c52b5-4e87-4d93-ada9-e14c3b63c63a",
   "metadata": {},
   "outputs": [
    {
     "name": "stdout",
     "output_type": "stream",
     "text": [
      "Rishabh\n"
     ]
    }
   ],
   "source": [
    "print(func1())"
   ]
  },
  {
   "cell_type": "code",
   "execution_count": 28,
   "id": "dbde2eff-2079-4c8c-ba67-5c251b72aa39",
   "metadata": {},
   "outputs": [
    {
     "name": "stdout",
     "output_type": "stream",
     "text": [
      "Hello world\n"
     ]
    }
   ],
   "source": [
    "print('Hello world')"
   ]
  },
  {
   "cell_type": "code",
   "execution_count": 30,
   "id": "43a651f6-07b3-490e-9624-f8f131d5a150",
   "metadata": {},
   "outputs": [
    {
     "name": "stdin",
     "output_type": "stream",
     "text": [
      "Enter first number: 10\n",
      "Enter second number: 20\n"
     ]
    },
    {
     "name": "stdout",
     "output_type": "stream",
     "text": [
      "Result is: 30\n"
     ]
    }
   ],
   "source": [
    "x=int(input('Enter first number:'))\n",
    "y=int(input('Enter second number:'))\n",
    "z=x+y\n",
    "\n",
    "print('Result is:',z)"
   ]
  },
  {
   "cell_type": "code",
   "execution_count": 31,
   "id": "9f2d4232-a6d7-4c30-b4d0-63e8988bb173",
   "metadata": {},
   "outputs": [
    {
     "name": "stdin",
     "output_type": "stream",
     "text": [
      "Enter first number: 10\n",
      "Enter second number: 20\n"
     ]
    },
    {
     "name": "stdout",
     "output_type": "stream",
     "text": [
      "Result is: 30\n"
     ]
    }
   ],
   "source": [
    "x=int(input('Enter first number:'))\n",
    "y=int(input('Enter second number:'))\n",
    "z=x+y\n",
    "\n",
    "print('Result is:',z)"
   ]
  },
  {
   "cell_type": "code",
   "execution_count": 37,
   "id": "7f9c3ea9-cfbe-459e-9777-61e6ed5ade50",
   "metadata": {},
   "outputs": [
    {
     "name": "stdin",
     "output_type": "stream",
     "text": [
      "Enter first number: 10\n",
      "Enter second number: 20\n"
     ]
    },
    {
     "name": "stdout",
     "output_type": "stream",
     "text": [
      "OutPut is: 30\n"
     ]
    }
   ],
   "source": [
    "# nullable function : bcoz there is not argument inside the function.\n",
    "def sum_two():\n",
    "    x=int(input('Enter first number:'))\n",
    "    y=int(input('Enter second number:'))\n",
    "    z=x+y\n",
    "    print('OutPut is:',z)\n",
    "    # return z\n",
    "\n",
    "\n",
    "sum_two()"
   ]
  },
  {
   "cell_type": "code",
   "execution_count": 38,
   "id": "fbd18ba1-4060-4edd-95fc-bbaba18b4f20",
   "metadata": {},
   "outputs": [
    {
     "name": "stdin",
     "output_type": "stream",
     "text": [
      "Enter first number: 40\n",
      "Enter second number: 50\n"
     ]
    },
    {
     "name": "stdout",
     "output_type": "stream",
     "text": [
      "OutPut is: 90\n"
     ]
    }
   ],
   "source": [
    "sum_two()"
   ]
  },
  {
   "cell_type": "code",
   "execution_count": 39,
   "id": "2fd7bbab-868e-4ba3-ad35-2c5ced68fa81",
   "metadata": {},
   "outputs": [
    {
     "name": "stdin",
     "output_type": "stream",
     "text": [
      "Enter first number: 10\n",
      "Enter second number: 30\n"
     ]
    },
    {
     "name": "stdout",
     "output_type": "stream",
     "text": [
      "OutPut is: 40\n"
     ]
    }
   ],
   "source": [
    "sum_two()"
   ]
  },
  {
   "cell_type": "code",
   "execution_count": 43,
   "id": "6f881cad-1eb4-4fed-bf81-93ca3ef52fa2",
   "metadata": {},
   "outputs": [
    {
     "name": "stdout",
     "output_type": "stream",
     "text": [
      "Your FullName is: Rishabh Singh\n"
     ]
    }
   ],
   "source": [
    "# parameterized function: bocz it takes parameter inise the function\n",
    "def concat_two(x,y):   # x,y argument of this function: argument is like a variable.\n",
    "    fullname=x+' '+y\n",
    "    print('Your FullName is:',fullname)\n",
    "\n",
    "\n",
    "concat_two(\"Rishabh\",\"Singh\")    # parameter  is Rishabh and singh."
   ]
  },
  {
   "cell_type": "code",
   "execution_count": 49,
   "id": "63a50fe0-4858-455c-ad53-2f296c9742fd",
   "metadata": {},
   "outputs": [
    {
     "name": "stdout",
     "output_type": "stream",
     "text": [
      "Result is: 55\n"
     ]
    }
   ],
   "source": [
    "# Default argument function\n",
    "\n",
    "def default_function(x=5):   # argument is x=5 is default value.\n",
    "    y=10\n",
    "    sum1=x+y\n",
    "    print('Result is:',sum1)\n",
    "\n",
    "\n",
    "default_function(45)"
   ]
  },
  {
   "cell_type": "code",
   "execution_count": 51,
   "id": "140b09fb-7b98-4890-ae45-72790441ccc4",
   "metadata": {},
   "outputs": [
    {
     "name": "stdin",
     "output_type": "stream",
     "text": [
      "Enter your range: 10\n"
     ]
    },
    {
     "name": "stdout",
     "output_type": "stream",
     "text": [
      "Even List is: [2, 4, 6, 8, 10]\n",
      "Odd List is: [1, 3, 5, 7, 9]\n"
     ]
    }
   ],
   "source": [
    "# write a function to take input range from function and display even or odd.\n",
    "# this function is nullable.\n",
    "\n",
    "def even_odd():\n",
    "    user=int(input('Enter your range:'))\n",
    "    even_1=[]\n",
    "    odd_1=[]\n",
    "    for i in range(1,user+1):\n",
    "        if i%2==0:\n",
    "            even_1.append(i)\n",
    "        else:\n",
    "            odd_1.append(i)\n",
    "\n",
    "    print('Even List is:',even_1)\n",
    "    print('Odd List is:',odd_1)\n",
    "even_odd()"
   ]
  },
  {
   "cell_type": "code",
   "execution_count": 52,
   "id": "d97bb0e3-4ba5-44a4-9c5c-2fa984f9b65a",
   "metadata": {},
   "outputs": [
    {
     "name": "stdin",
     "output_type": "stream",
     "text": [
      "Enter your range: 20\n"
     ]
    },
    {
     "name": "stdout",
     "output_type": "stream",
     "text": [
      "Even List is: [2, 4, 6, 8, 10, 12, 14, 16, 18, 20]\n",
      "Odd List is: [1, 3, 5, 7, 9, 11, 13, 15, 17, 19]\n"
     ]
    }
   ],
   "source": [
    "even_odd()"
   ]
  },
  {
   "cell_type": "code",
   "execution_count": 54,
   "id": "d9576240-20f6-406a-aab3-2bf6a8f43a08",
   "metadata": {},
   "outputs": [
    {
     "name": "stdin",
     "output_type": "stream",
     "text": [
      "Enter your range: 50\n"
     ]
    },
    {
     "name": "stdout",
     "output_type": "stream",
     "text": [
      "Even List is: [2, 4, 6, 8, 10, 12, 14, 16, 18, 20, 22, 24, 26, 28, 30, 32, 34, 36, 38, 40, 42, 44, 46, 48, 50]\n",
      "Odd List is: [1, 3, 5, 7, 9, 11, 13, 15, 17, 19, 21, 23, 25, 27, 29, 31, 33, 35, 37, 39, 41, 43, 45, 47, 49]\n"
     ]
    }
   ],
   "source": [
    "even_odd()"
   ]
  },
  {
   "cell_type": "code",
   "execution_count": 55,
   "id": "ee63131b-a4b4-4645-b872-ad6112f67ddc",
   "metadata": {},
   "outputs": [
    {
     "name": "stdin",
     "output_type": "stream",
     "text": [
      "Enter your range: 100\n"
     ]
    },
    {
     "name": "stdout",
     "output_type": "stream",
     "text": [
      "Even List is: [2, 4, 6, 8, 10, 12, 14, 16, 18, 20, 22, 24, 26, 28, 30, 32, 34, 36, 38, 40, 42, 44, 46, 48, 50, 52, 54, 56, 58, 60, 62, 64, 66, 68, 70, 72, 74, 76, 78, 80, 82, 84, 86, 88, 90, 92, 94, 96, 98, 100]\n",
      "Odd List is: [1, 3, 5, 7, 9, 11, 13, 15, 17, 19, 21, 23, 25, 27, 29, 31, 33, 35, 37, 39, 41, 43, 45, 47, 49, 51, 53, 55, 57, 59, 61, 63, 65, 67, 69, 71, 73, 75, 77, 79, 81, 83, 85, 87, 89, 91, 93, 95, 97, 99]\n"
     ]
    }
   ],
   "source": [
    "even_odd()"
   ]
  },
  {
   "cell_type": "code",
   "execution_count": 56,
   "id": "136939da-aeae-46cf-89ab-8c937f8088eb",
   "metadata": {},
   "outputs": [
    {
     "name": "stdin",
     "output_type": "stream",
     "text": [
      "Enter your range: 50\n"
     ]
    },
    {
     "name": "stdout",
     "output_type": "stream",
     "text": [
      "Even List is: [2, 4, 6, 8, 10, 12, 14, 16, 18, 20, 22, 24, 26, 28, 30, 32, 34, 36, 38, 40, 42, 44, 46, 48, 50]\n",
      "Odd List is: [1, 3, 5, 7, 9, 11, 13, 15, 17, 19, 21, 23, 25, 27, 29, 31, 33, 35, 37, 39, 41, 43, 45, 47, 49]\n"
     ]
    }
   ],
   "source": [
    "# write a function to take input range from function and display even or odd.\n",
    "# parameterized\n",
    "def even_odd(user):\n",
    "    even_1=[]\n",
    "    odd_1=[]\n",
    "    for i in range(1,user+1):\n",
    "        if i%2==0:\n",
    "            even_1.append(i)\n",
    "        else:\n",
    "            odd_1.append(i)\n",
    "\n",
    "    print('Even List is:',even_1)\n",
    "    print('Odd List is:',odd_1)\n",
    "\n",
    "x=int(input('Enter your range:'))\n",
    "even_odd(x)"
   ]
  },
  {
   "cell_type": "code",
   "execution_count": 58,
   "id": "c0fa161b-c0a4-42e4-8346-416d49715ce4",
   "metadata": {},
   "outputs": [
    {
     "name": "stdout",
     "output_type": "stream",
     "text": [
      "Even List is: [2, 4, 6, 8, 10, 12, 14, 16, 18, 20, 22, 24]\n",
      "Odd List is: [1, 3, 5, 7, 9, 11, 13, 15, 17, 19, 21, 23, 25]\n"
     ]
    }
   ],
   "source": [
    "y=25\n",
    "even_odd(y)"
   ]
  },
  {
   "cell_type": "code",
   "execution_count": 69,
   "id": "f8bd2f68-782f-43db-8526-9817be03926a",
   "metadata": {},
   "outputs": [
    {
     "name": "stdout",
     "output_type": "stream",
     "text": [
      "Even List is: [2, 4, 6, 8, 10, 12, 14, 16, 18, 20, 22, 24, 26, 28, 30, 32, 34]\n",
      "Odd List is: [1, 3, 5, 7, 9, 11, 13, 15, 17, 19, 21, 23, 25, 27, 29, 31, 33, 35]\n"
     ]
    }
   ],
   "source": [
    "# write a function to take input range from function and display even or odd.\n",
    "# default\n",
    "\n",
    "def even_odd(user=100):\n",
    "    even_1=[]\n",
    "    odd_1=[]\n",
    "    x1=20\n",
    "    for i in range(1,user+1):\n",
    "        if i%2==0:\n",
    "            even_1.append(i)\n",
    "        else:\n",
    "            odd_1.append(i)\n",
    "\n",
    "    print('Even List is:',even_1)\n",
    "    print('Odd List is:',odd_1)\n",
    "\n",
    "# x=int(input('Enter your range:'))\n",
    "even_odd(35)\n"
   ]
  },
  {
   "cell_type": "code",
   "execution_count": 68,
   "id": "7f3ac207-6ab4-4f11-9329-124771b4114e",
   "metadata": {},
   "outputs": [
    {
     "name": "stdout",
     "output_type": "stream",
     "text": [
      "0\n"
     ]
    }
   ],
   "source": [
    "print(y1)"
   ]
  },
  {
   "cell_type": "markdown",
   "id": "18d179e9-c137-4ab7-855c-7cff63259554",
   "metadata": {},
   "source": [
    "# Variable in function\n",
    "\n",
    " * __The input to a function is called a formal parameter.__\n",
    " * __A variable that is declared inside a function is called local variable.__\n",
    " * __The parameter only exists within the function(i.e the point where the function starts and stops.)__\n",
    " * __A variable that is declard outside a function definition is a global variable, and it's value is accessible and modifiable thouout the program.__"
   ]
  },
  {
   "cell_type": "markdown",
   "id": "f4def1b1-1c6e-416f-a5c8-16024018f4e6",
   "metadata": {},
   "source": [
    "# 1. Assignment\n",
    "\n",
    " * __1. Write a program that check if a given number is positive, negative or zero.__\n",
    " * __2. Create a function that print 10 even numbers from user input__\n",
    " * __3. Implement a program that finds the largest number in a list.__\n",
    " * __4. Create a program that takes a year as inpu and check if it is a leap year of not.__\n",
    " * __5. Given a list of integers, find all the even numbers and store them in a new list.__\n",
    " * __6. Given a list of names, print all the names string with the letter \"A\".__\n",
    " * __7. Write  a program that calculates the factorial of a given number.__\n",
    " * __8. Given a list of words, count the number of words with more then five characters.__\n",
    " * __9. Calculate the sum of digits of a given number.__\n",
    " * __10. Write a function to calculate the area of circle given its radius.__\n",
    " * __11. Create a function to check if a number if prime.__\n",
    " * __12. Implement a function that reverses a given string.__\n",
    " * __13. Given a list of numbers, creat a function to find the sum of all positive numbers.__\n",
    " * __14. Write a python function to check if a given string is a palindrome.__\n",
    " * __15. Implement a function that returns the factorial fo a given number using recursion.__\n",
    " * __16. Create a function to find the square of each element in a given list.__\n",
    " * __17. Write a function to check if a number is even or odd and retuen \"Even\" or \"Odd\" accordingly.__\n",
    " * __18. Calculate the area of a triangle given its base and height using functions.__\n",
    " * __19. Create a function that takes a list of strings and return the list sorted alphabetically.__\n",
    " * __20. Write a function that takes two lists and returns their instersection(common elements).__\n",
    " * __21. Implement a function to check if a given year is a leap year or not.__\n",
    " * __22. Write a function to count the number of vowels in a given string.__\n",
    " * __23. Given a list of words, concatenate them into a single string separated by spaces.__\n",
    " * __24. Create a function to reverse a given string.__\n",
    " * __25. Write a program that takes sentence as input and counts the number of words in it.__\n",
    " * __26. Implement a function that check if a given string is a pangram(contains all letters of the alphabets.)__\n",
    " * __27. Given a string, write a function to remove all vowels from it and return the modified string.__\n",
    " * __28. Write a function that takes a sentence as input and returns the sentence in reverse order.__\n",
    " * __29. Given a list of names, count eh"
   ]
  }
 ],
 "metadata": {
  "kernelspec": {
   "display_name": "Python 3 (ipykernel)",
   "language": "python",
   "name": "python3"
  },
  "language_info": {
   "codemirror_mode": {
    "name": "ipython",
    "version": 3
   },
   "file_extension": ".py",
   "mimetype": "text/x-python",
   "name": "python",
   "nbconvert_exporter": "python",
   "pygments_lexer": "ipython3",
   "version": "3.12.2"
  }
 },
 "nbformat": 4,
 "nbformat_minor": 5
}
