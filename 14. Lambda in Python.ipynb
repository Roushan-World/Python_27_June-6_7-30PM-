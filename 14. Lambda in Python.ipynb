{
 "cells": [
  {
   "cell_type": "markdown",
   "id": "ce93daf1-91c3-454c-a138-a590e03befa3",
   "metadata": {},
   "source": [
    "# 14. Lambda Functions in Python\n",
    "\n",
    " * __A Lambda function is a small anonymous functions.__\n",
    " * __A Lambda function can take any number of arguments, but can only have one expressions.__\n",
    " * __The expression is evveluated and returned.__\n",
    " * __Lambda functions can be used wherever function objects are required.__\n",
    " * __Lambda Expression(or lambda functions) are essentially block of code that can be assigned to variable, passed as an arguements, or returned from a function call, in Language that support high-order functions.__\n",
    " * __The main role of lambda function is better described in the scenarios when we employ them anonymously inside another functions.__\n",
    " * __n Python, the Lambda function can be utilized as an arguments to their high-order funcitions as an arguements.__\n",
    " * __Lambda function in Python__\n",
    "    * __1.Syntax__\n",
    "       * __Normal Functions.__\n",
    "       * __Anonymous Functions.__\n",
    "    * __2. Usages__\n",
    "       * __Lambda with filters()__\n",
    "       * __Lambda with map()__\n",
    "       * __Lambda with reduce()__\n",
    "       * __Lambda with apply()__\n",
    "    * __3.CommonError__\n",
    "       * __SyntaxError__\n",
    "       * __TypeError__"
   ]
  },
  {
   "cell_type": "code",
   "execution_count": 1,
   "id": "78c3b270-c91f-4ef7-aec3-41338f8150f3",
   "metadata": {},
   "outputs": [
    {
     "data": {
      "text/plain": [
       "20"
      ]
     },
     "execution_count": 1,
     "metadata": {},
     "output_type": "execute_result"
    }
   ],
   "source": [
    "# user defined function\n",
    "def func(x):\n",
    "    return x+10\n",
    "\n",
    "func(10)"
   ]
  },
  {
   "cell_type": "code",
   "execution_count": 2,
   "id": "6603092b-953e-469c-9dd0-00b81154b833",
   "metadata": {},
   "outputs": [
    {
     "data": {
      "text/plain": [
       "20"
      ]
     },
     "execution_count": 2,
     "metadata": {},
     "output_type": "execute_result"
    }
   ],
   "source": [
    "# anonymous function\n",
    "(lambda x:x+10)(10)"
   ]
  },
  {
   "cell_type": "code",
   "execution_count": 3,
   "id": "eb28a348-661b-4a97-8dd4-376b7a0aa087",
   "metadata": {},
   "outputs": [
    {
     "data": {
      "text/plain": [
       "30"
      ]
     },
     "execution_count": 3,
     "metadata": {},
     "output_type": "execute_result"
    }
   ],
   "source": [
    "func(20)"
   ]
  },
  {
   "cell_type": "code",
   "execution_count": 4,
   "id": "ca8dd397-779e-4ec8-bda8-7a957954cff1",
   "metadata": {},
   "outputs": [
    {
     "name": "stdin",
     "output_type": "stream",
     "text": [
      "Enter first value: 10\n",
      "Enter second value: 20\n"
     ]
    },
    {
     "data": {
      "text/plain": [
       "30"
      ]
     },
     "execution_count": 4,
     "metadata": {},
     "output_type": "execute_result"
    }
   ],
   "source": [
    "# user input\n",
    "\n",
    "def add(x,y):\n",
    "    return x+y\n",
    "\n",
    "\n",
    "user1=int(input('Enter first value:'))\n",
    "user2=int(input('Enter second value:'))\n",
    "add(user1,user2)"
   ]
  },
  {
   "cell_type": "code",
   "execution_count": 9,
   "id": "4c9c0ff6-875a-41dc-ba69-d9d8b87f6975",
   "metadata": {},
   "outputs": [
    {
     "name": "stdin",
     "output_type": "stream",
     "text": [
      "Enter first number: 10\n",
      "Enter second number: 20\n"
     ]
    },
    {
     "data": {
      "text/plain": [
       "30"
      ]
     },
     "execution_count": 9,
     "metadata": {},
     "output_type": "execute_result"
    }
   ],
   "source": [
    "u1=int(input('Enter first number:'))\n",
    "u2=int(input('Enter second number:'))\n",
    "(lambda x,y:x+y)(u1,u2)"
   ]
  },
  {
   "cell_type": "markdown",
   "id": "97e10365-eab3-431f-aa75-7fedacd735b0",
   "metadata": {},
   "source": [
    "# Lambda Filter()\n",
    " * __A high order function__\n",
    " * __syntax: filter(functions,sequence)__\n",
    "    * __It applies function to each element of sequence and returns for which the function returns true.__\n",
    "    * __filter returns a subset sequence.__\n",
    "       * __to generate the actual list, we need to apply list.__"
   ]
  },
  {
   "cell_type": "code",
   "execution_count": 12,
   "id": "2f42eece-f171-4ff8-9fa0-d5aa358f38e0",
   "metadata": {},
   "outputs": [
    {
     "name": "stdout",
     "output_type": "stream",
     "text": [
      "Even= [10, 20, 30, 50, 26, 78, 62, 102] \n",
      "Odd= [25, 79, 45, 45, 53, 51, 1001, 103]\n"
     ]
    }
   ],
   "source": [
    "# even or odd \n",
    "list1=[10,20,30,50,25,26,78,79,45,45,62,53,51,1001,102,103]\n",
    "\n",
    "def even_odd():\n",
    "    even=[]\n",
    "    odd=[]\n",
    "    for i in list1:\n",
    "        if i%2==0:\n",
    "            even.append(i)\n",
    "        else:\n",
    "            odd.append(i)\n",
    "    print('Even=',even,\"\\nOdd=\",odd)\n",
    "even_odd()"
   ]
  },
  {
   "cell_type": "code",
   "execution_count": 15,
   "id": "5a0808fb-3556-48af-b53c-96b8af5c83d8",
   "metadata": {},
   "outputs": [
    {
     "name": "stdout",
     "output_type": "stream",
     "text": [
      "[10, 20, 30, 50, 26, 78, 62, 102]\n",
      "[25, 79, 45, 45, 53, 51, 1001, 103]\n"
     ]
    }
   ],
   "source": [
    "list1=[10,20,30,50,25,26,78,79,45,45,62,53,51,1001,102,103]\n",
    "\n",
    "\n",
    "even=list(filter(lambda x:x%2==0,list1))\n",
    "print(even)\n",
    "odd=list(filter(lambda y:y%2!=0,list1))\n",
    "print(odd)"
   ]
  },
  {
   "cell_type": "code",
   "execution_count": 19,
   "id": "d10d2b4d-a9a5-435b-850a-412b11c4db50",
   "metadata": {},
   "outputs": [
    {
     "name": "stdout",
     "output_type": "stream",
     "text": [
      "['Tuesday', 'Wednesday', 'Thursday', 'Saturday']\n"
     ]
    }
   ],
   "source": [
    "# wap to fitler the given list to determine if the values in the list have length is greater than 6.\n",
    "\n",
    "weekdays=[\"Monday\",\"Tuesday\",\"Wednesday\",\"Thursday\",\"Friday\",\"Saturday\",\"Sunday\"]\n",
    "\n",
    "def weekday():\n",
    "    filtered_list=[]\n",
    "    for i in weekdays:\n",
    "        if len(i)>6:\n",
    "            filtered_list.append(i)\n",
    "\n",
    "    print(filtered_list)\n",
    "\n",
    "\n",
    "weekday()"
   ]
  },
  {
   "cell_type": "code",
   "execution_count": 20,
   "id": "e317ceb5-33fe-4faa-842b-525cd6c729ae",
   "metadata": {},
   "outputs": [
    {
     "data": {
      "text/plain": [
       "['Tuesday', 'Wednesday', 'Thursday', 'Saturday']"
      ]
     },
     "execution_count": 20,
     "metadata": {},
     "output_type": "execute_result"
    }
   ],
   "source": [
    "# using lambda.\n",
    "weekdays=[\"Monday\",\"Tuesday\",\"Wednesday\",\"Thursday\",\"Friday\",\"Saturday\",\"Sunday\"]\n",
    "weekdays1=list(filter(lambda x1:len(x1)>6,weekdays))\n",
    "weekdays1"
   ]
  },
  {
   "cell_type": "code",
   "execution_count": 23,
   "id": "87b7c79f-e5e1-4434-9f62-eb3469031aa4",
   "metadata": {},
   "outputs": [],
   "source": [
    "import datetime"
   ]
  },
  {
   "cell_type": "code",
   "execution_count": 31,
   "id": "977e6516-766f-4e87-9807-f7dc9088f68b",
   "metadata": {},
   "outputs": [
    {
     "data": {
      "text/plain": [
       "datetime.datetime(2024, 7, 22, 18, 59, 13, 682021)"
      ]
     },
     "execution_count": 31,
     "metadata": {},
     "output_type": "execute_result"
    }
   ],
   "source": [
    "x=datetime.datetime.now()\n",
    "x"
   ]
  },
  {
   "cell_type": "code",
   "execution_count": 32,
   "id": "7c2ebf8e-8230-4c7b-8c28-0b53d55ad1c1",
   "metadata": {},
   "outputs": [
    {
     "data": {
      "text/plain": [
       "datetime.datetime(2024, 7, 22, 18, 59, 13, 682021)"
      ]
     },
     "execution_count": 32,
     "metadata": {},
     "output_type": "execute_result"
    }
   ],
   "source": [
    "x"
   ]
  },
  {
   "cell_type": "markdown",
   "id": "9e606ca9-68ac-4503-a8bd-6632e80c5e4b",
   "metadata": {},
   "source": [
    "# map() functions\n",
    "\n",
    " * __A high-order function__\n",
    " * __syntax: map(function, sequence)__\n",
    " * __applies function to each element of sequence and returns the result__"
   ]
  },
  {
   "cell_type": "code",
   "execution_count": 39,
   "id": "f7fb6cb3-9c1e-4695-b63d-d1673b107cda",
   "metadata": {},
   "outputs": [
    {
     "ename": "TypeError",
     "evalue": "unsupported operand type(s) for %: 'list' and 'int'",
     "output_type": "error",
     "traceback": [
      "\u001b[1;31m---------------------------------------------------------------------------\u001b[0m",
      "\u001b[1;31mTypeError\u001b[0m                                 Traceback (most recent call last)",
      "Cell \u001b[1;32mIn[39], line 8\u001b[0m\n\u001b[0;32m      5\u001b[0m     \u001b[38;5;28;01melse\u001b[39;00m:\n\u001b[0;32m      7\u001b[0m         \u001b[38;5;28;01mreturn\u001b[39;00m \u001b[38;5;28;01mFalse\u001b[39;00m\n\u001b[1;32m----> 8\u001b[0m val\u001b[38;5;241m=\u001b[39m\u001b[43mmyfunc\u001b[49m\u001b[43m(\u001b[49m\u001b[43mlist2\u001b[49m\u001b[43m)\u001b[49m\n\u001b[0;32m      9\u001b[0m val\n",
      "Cell \u001b[1;32mIn[39], line 3\u001b[0m, in \u001b[0;36mmyfunc\u001b[1;34m(a)\u001b[0m\n\u001b[0;32m      2\u001b[0m \u001b[38;5;28;01mdef\u001b[39;00m \u001b[38;5;21mmyfunc\u001b[39m(a):\n\u001b[1;32m----> 3\u001b[0m     \u001b[38;5;28;01mif\u001b[39;00m \u001b[43ma\u001b[49m\u001b[38;5;241;43m%\u001b[39;49m\u001b[38;5;241;43m2\u001b[39;49m\u001b[38;5;241m!=\u001b[39m\u001b[38;5;241m0\u001b[39m:\n\u001b[0;32m      4\u001b[0m         \u001b[38;5;28;01mreturn\u001b[39;00m \u001b[38;5;28;01mTrue\u001b[39;00m\n\u001b[0;32m      5\u001b[0m     \u001b[38;5;28;01melse\u001b[39;00m:\n",
      "\u001b[1;31mTypeError\u001b[0m: unsupported operand type(s) for %: 'list' and 'int'"
     ]
    }
   ],
   "source": [
    "list2=[1,20,50,55,69,58,78,96,36,25,10]\n",
    "def myfunc(a):\n",
    "    if a%2!=0:\n",
    "        return True\n",
    "    else:\n",
    "        return False\n",
    "val=myfunc(list2)\n",
    "val"
   ]
  },
  {
   "cell_type": "code",
   "execution_count": 36,
   "id": "b92a717f-f070-4443-9386-43786fd62880",
   "metadata": {},
   "outputs": [
    {
     "data": {
      "text/plain": [
       "100"
      ]
     },
     "execution_count": 36,
     "metadata": {},
     "output_type": "execute_result"
    }
   ],
   "source": [
    "def square(a):\n",
    "    return a**2\n",
    "x=square(10)\n",
    "x"
   ]
  },
  {
   "cell_type": "code",
   "execution_count": 43,
   "id": "f1fea1a8-2bd1-421e-b113-d7509c374b5e",
   "metadata": {},
   "outputs": [
    {
     "name": "stdout",
     "output_type": "stream",
     "text": [
      "list= [1, 20, 50, 55, 69, 58, 78, 96, 36, 25, 10] \n",
      "Square List is: [1, 400, 2500, 3025, 4761, 3364, 6084, 9216, 1296, 625, 100]\n"
     ]
    }
   ],
   "source": [
    "list2=[1,20,50,55,69,58,78,96,36,25,10]\n",
    "\n",
    "\n",
    "def func():\n",
    "    list_sqr=[]\n",
    "    for i in list2:\n",
    "        sqr=i**2\n",
    "        list_sqr.append(sqr)\n",
    "        # print(i)\n",
    "\n",
    "    print(\"list=\",list2,'\\nSquare List is:',list_sqr)\n",
    "func()"
   ]
  },
  {
   "cell_type": "code",
   "execution_count": 44,
   "id": "68be100d-9ddb-4d8f-b76c-2ab3b867ec46",
   "metadata": {},
   "outputs": [
    {
     "data": {
      "text/plain": [
       "[1, 400, 2500, 3025, 4761, 3364, 6084, 9216, 1296, 625, 100]"
      ]
     },
     "execution_count": 44,
     "metadata": {},
     "output_type": "execute_result"
    }
   ],
   "source": [
    "def square(a):\n",
    "    return a**2\n",
    "x=list(map(square,list2))\n",
    "x"
   ]
  },
  {
   "cell_type": "code",
   "execution_count": 46,
   "id": "eb34d905-ae92-4a2f-843b-8eb5cd018dc0",
   "metadata": {},
   "outputs": [
    {
     "data": {
      "text/plain": [
       "[1, 8, 125000, 166375, 328509, 195112, 474552, 884736, 46656, 15625, 1000]"
      ]
     },
     "execution_count": 46,
     "metadata": {},
     "output_type": "execute_result"
    }
   ],
   "source": [
    "list2=[1,2,50,55,69,58,78,96,36,25,10]\n",
    "\n",
    "def cube(a1):\n",
    "    return a1**3\n",
    "\n",
    "list1=list(map(cube,list2))\n",
    "list1"
   ]
  },
  {
   "cell_type": "code",
   "execution_count": 47,
   "id": "6368299e-03c8-40bd-997e-15f8973ac6aa",
   "metadata": {},
   "outputs": [
    {
     "data": {
      "text/plain": [
       "[11, 12, 60, 65, 79, 68, 88, 106, 46, 35, 20]"
      ]
     },
     "execution_count": 47,
     "metadata": {},
     "output_type": "execute_result"
    }
   ],
   "source": [
    "list2=[1,2,50,55,69,58,78,96,36,25,10]\n",
    "\n",
    "def add(a3):\n",
    "    return a3+10\n",
    "\n",
    "\n",
    "list2=list(map(add,list2))\n",
    "list2"
   ]
  },
  {
   "cell_type": "markdown",
   "id": "adb24ba6-cd44-4c83-a7bc-2b76825c7374",
   "metadata": {},
   "source": [
    "# reduce()\n",
    "\n",
    " * __Required: from functools import reduce__\n",
    " * __system:reduce(functions,sequence)__"
   ]
  },
  {
   "cell_type": "code",
   "execution_count": 49,
   "id": "739366c8-f884-4056-919a-042841178b38",
   "metadata": {},
   "outputs": [],
   "source": [
    "from functools import reduce"
   ]
  },
  {
   "cell_type": "code",
   "execution_count": 50,
   "id": "f0667ed5-be97-4eb6-9a22-59a4b5657c0b",
   "metadata": {},
   "outputs": [
    {
     "data": {
      "text/plain": [
       "113"
      ]
     },
     "execution_count": 50,
     "metadata": {},
     "output_type": "execute_result"
    }
   ],
   "source": [
    "def add(x,y):\n",
    "    return x+y\n",
    "\n",
    "x=reduce(add,[47,11,42,13])\n",
    "x"
   ]
  },
  {
   "cell_type": "code",
   "execution_count": 51,
   "id": "ae47d2ef-ecc3-4c52-8d86-2aa0b5e94c47",
   "metadata": {},
   "outputs": [
    {
     "data": {
      "text/plain": [
       "-19"
      ]
     },
     "execution_count": 51,
     "metadata": {},
     "output_type": "execute_result"
    }
   ],
   "source": [
    "def add(x,y):\n",
    "    return x-y\n",
    "\n",
    "x=reduce(add,[47,11,42,13])\n",
    "x"
   ]
  },
  {
   "cell_type": "code",
   "execution_count": 53,
   "id": "06a04abd-7ef2-4814-84f6-d97d974faac7",
   "metadata": {},
   "outputs": [
    {
     "data": {
      "text/plain": [
       "282282"
      ]
     },
     "execution_count": 53,
     "metadata": {},
     "output_type": "execute_result"
    }
   ],
   "source": [
    "def add(x,y):\n",
    "    return x*y\n",
    "\n",
    "list1=[47,11,42,13]\n",
    "x=reduce(add,list1)\n",
    "x"
   ]
  },
  {
   "cell_type": "code",
   "execution_count": 54,
   "id": "2e91933d-83f7-4f07-aa0c-bf5bf5e7357f",
   "metadata": {},
   "outputs": [],
   "source": [
    "import pandas as pd"
   ]
  },
  {
   "cell_type": "code",
   "execution_count": 55,
   "id": "8490ab11-ab85-4309-9c44-c9e8489926df",
   "metadata": {},
   "outputs": [
    {
     "name": "stdout",
     "output_type": "stream",
     "text": [
      "[[1, 2, 3], [4, 5, 6], [7, 8, 9]]\n"
     ]
    }
   ],
   "source": [
    "values_list=[[1,2,3],[4,5,6],[7,8,9]]\n",
    "print(values_list)"
   ]
  },
  {
   "cell_type": "code",
   "execution_count": 65,
   "id": "b81ed66b-bd5f-431b-9000-a9e78c9d61a1",
   "metadata": {},
   "outputs": [
    {
     "data": {
      "text/html": [
       "<div>\n",
       "<style scoped>\n",
       "    .dataframe tbody tr th:only-of-type {\n",
       "        vertical-align: middle;\n",
       "    }\n",
       "\n",
       "    .dataframe tbody tr th {\n",
       "        vertical-align: top;\n",
       "    }\n",
       "\n",
       "    .dataframe thead th {\n",
       "        text-align: right;\n",
       "    }\n",
       "</style>\n",
       "<table border=\"1\" class=\"dataframe\">\n",
       "  <thead>\n",
       "    <tr style=\"text-align: right;\">\n",
       "      <th></th>\n",
       "      <th>col1</th>\n",
       "      <th>col2</th>\n",
       "      <th>col3</th>\n",
       "    </tr>\n",
       "  </thead>\n",
       "  <tbody>\n",
       "    <tr>\n",
       "      <th>a</th>\n",
       "      <td>1</td>\n",
       "      <td>2</td>\n",
       "      <td>3</td>\n",
       "    </tr>\n",
       "    <tr>\n",
       "      <th>b</th>\n",
       "      <td>4</td>\n",
       "      <td>5</td>\n",
       "      <td>6</td>\n",
       "    </tr>\n",
       "    <tr>\n",
       "      <th>c</th>\n",
       "      <td>7</td>\n",
       "      <td>8</td>\n",
       "      <td>9</td>\n",
       "    </tr>\n",
       "  </tbody>\n",
       "</table>\n",
       "</div>"
      ],
      "text/plain": [
       "   col1  col2  col3\n",
       "a     1     2     3\n",
       "b     4     5     6\n",
       "c     7     8     9"
      ]
     },
     "execution_count": 65,
     "metadata": {},
     "output_type": "execute_result"
    }
   ],
   "source": [
    "df=pd.DataFrame(values_list,columns=['col1','col2','col3'],index=['a','b','c'])\n",
    "df"
   ]
  },
  {
   "cell_type": "code",
   "execution_count": 82,
   "id": "44609bab-1b2b-4f9c-a168-4c7deb064797",
   "metadata": {},
   "outputs": [
    {
     "data": {
      "text/html": [
       "<div>\n",
       "<style scoped>\n",
       "    .dataframe tbody tr th:only-of-type {\n",
       "        vertical-align: middle;\n",
       "    }\n",
       "\n",
       "    .dataframe tbody tr th {\n",
       "        vertical-align: top;\n",
       "    }\n",
       "\n",
       "    .dataframe thead th {\n",
       "        text-align: right;\n",
       "    }\n",
       "</style>\n",
       "<table border=\"1\" class=\"dataframe\">\n",
       "  <thead>\n",
       "    <tr style=\"text-align: right;\">\n",
       "      <th></th>\n",
       "      <th>0</th>\n",
       "      <th>1</th>\n",
       "      <th>2</th>\n",
       "    </tr>\n",
       "  </thead>\n",
       "  <tbody>\n",
       "    <tr>\n",
       "      <th>0</th>\n",
       "      <td>1</td>\n",
       "      <td>2</td>\n",
       "      <td>3</td>\n",
       "    </tr>\n",
       "    <tr>\n",
       "      <th>1</th>\n",
       "      <td>4</td>\n",
       "      <td>5</td>\n",
       "      <td>6</td>\n",
       "    </tr>\n",
       "    <tr>\n",
       "      <th>2</th>\n",
       "      <td>7</td>\n",
       "      <td>8</td>\n",
       "      <td>9</td>\n",
       "    </tr>\n",
       "  </tbody>\n",
       "</table>\n",
       "</div>"
      ],
      "text/plain": [
       "   0  1  2\n",
       "0  1  2  3\n",
       "1  4  5  6\n",
       "2  7  8  9"
      ]
     },
     "execution_count": 82,
     "metadata": {},
     "output_type": "execute_result"
    }
   ],
   "source": [
    "df=pd.DataFrame(values_list)\n",
    "df"
   ]
  },
  {
   "cell_type": "code",
   "execution_count": 76,
   "id": "0ea00c5a-952c-45b5-a673-e2e854968d9a",
   "metadata": {},
   "outputs": [
    {
     "data": {
      "text/html": [
       "<div>\n",
       "<style scoped>\n",
       "    .dataframe tbody tr th:only-of-type {\n",
       "        vertical-align: middle;\n",
       "    }\n",
       "\n",
       "    .dataframe tbody tr th {\n",
       "        vertical-align: top;\n",
       "    }\n",
       "\n",
       "    .dataframe thead th {\n",
       "        text-align: right;\n",
       "    }\n",
       "</style>\n",
       "<table border=\"1\" class=\"dataframe\">\n",
       "  <thead>\n",
       "    <tr style=\"text-align: right;\">\n",
       "      <th></th>\n",
       "      <th>0</th>\n",
       "      <th>1</th>\n",
       "      <th>2</th>\n",
       "    </tr>\n",
       "  </thead>\n",
       "  <tbody>\n",
       "    <tr>\n",
       "      <th>0</th>\n",
       "      <td>6</td>\n",
       "      <td>7</td>\n",
       "      <td>8</td>\n",
       "    </tr>\n",
       "    <tr>\n",
       "      <th>1</th>\n",
       "      <td>9</td>\n",
       "      <td>10</td>\n",
       "      <td>11</td>\n",
       "    </tr>\n",
       "    <tr>\n",
       "      <th>2</th>\n",
       "      <td>12</td>\n",
       "      <td>13</td>\n",
       "      <td>14</td>\n",
       "    </tr>\n",
       "  </tbody>\n",
       "</table>\n",
       "</div>"
      ],
      "text/plain": [
       "    0   1   2\n",
       "0   6   7   8\n",
       "1   9  10  11\n",
       "2  12  13  14"
      ]
     },
     "execution_count": 76,
     "metadata": {},
     "output_type": "execute_result"
    }
   ],
   "source": [
    "# apply\n",
    "\n",
    "df=df.apply(lambda x:x+5)\n",
    "df"
   ]
  },
  {
   "cell_type": "code",
   "execution_count": 78,
   "id": "cc5e93b3-73bf-490a-8d58-1398ee3a73e9",
   "metadata": {},
   "outputs": [
    {
     "data": {
      "text/html": [
       "<div>\n",
       "<style scoped>\n",
       "    .dataframe tbody tr th:only-of-type {\n",
       "        vertical-align: middle;\n",
       "    }\n",
       "\n",
       "    .dataframe tbody tr th {\n",
       "        vertical-align: top;\n",
       "    }\n",
       "\n",
       "    .dataframe thead th {\n",
       "        text-align: right;\n",
       "    }\n",
       "</style>\n",
       "<table border=\"1\" class=\"dataframe\">\n",
       "  <thead>\n",
       "    <tr style=\"text-align: right;\">\n",
       "      <th></th>\n",
       "      <th>0</th>\n",
       "      <th>1</th>\n",
       "      <th>2</th>\n",
       "    </tr>\n",
       "  </thead>\n",
       "  <tbody>\n",
       "    <tr>\n",
       "      <th>0</th>\n",
       "      <td>1</td>\n",
       "      <td>2</td>\n",
       "      <td>3</td>\n",
       "    </tr>\n",
       "    <tr>\n",
       "      <th>1</th>\n",
       "      <td>4</td>\n",
       "      <td>5</td>\n",
       "      <td>6</td>\n",
       "    </tr>\n",
       "    <tr>\n",
       "      <th>2</th>\n",
       "      <td>7</td>\n",
       "      <td>8</td>\n",
       "      <td>9</td>\n",
       "    </tr>\n",
       "  </tbody>\n",
       "</table>\n",
       "</div>"
      ],
      "text/plain": [
       "   0  1  2\n",
       "0  1  2  3\n",
       "1  4  5  6\n",
       "2  7  8  9"
      ]
     },
     "execution_count": 78,
     "metadata": {},
     "output_type": "execute_result"
    }
   ],
   "source": [
    "df"
   ]
  },
  {
   "cell_type": "code",
   "execution_count": 83,
   "id": "2cc94c2a-4d7e-45d9-ad95-3a7e2437dcf8",
   "metadata": {},
   "outputs": [
    {
     "data": {
      "text/html": [
       "<div>\n",
       "<style scoped>\n",
       "    .dataframe tbody tr th:only-of-type {\n",
       "        vertical-align: middle;\n",
       "    }\n",
       "\n",
       "    .dataframe tbody tr th {\n",
       "        vertical-align: top;\n",
       "    }\n",
       "\n",
       "    .dataframe thead th {\n",
       "        text-align: right;\n",
       "    }\n",
       "</style>\n",
       "<table border=\"1\" class=\"dataframe\">\n",
       "  <thead>\n",
       "    <tr style=\"text-align: right;\">\n",
       "      <th></th>\n",
       "      <th>0</th>\n",
       "      <th>1</th>\n",
       "      <th>2</th>\n",
       "    </tr>\n",
       "  </thead>\n",
       "  <tbody>\n",
       "    <tr>\n",
       "      <th>0</th>\n",
       "      <td>10</td>\n",
       "      <td>20</td>\n",
       "      <td>30</td>\n",
       "    </tr>\n",
       "    <tr>\n",
       "      <th>1</th>\n",
       "      <td>40</td>\n",
       "      <td>50</td>\n",
       "      <td>60</td>\n",
       "    </tr>\n",
       "    <tr>\n",
       "      <th>2</th>\n",
       "      <td>70</td>\n",
       "      <td>80</td>\n",
       "      <td>90</td>\n",
       "    </tr>\n",
       "  </tbody>\n",
       "</table>\n",
       "</div>"
      ],
      "text/plain": [
       "    0   1   2\n",
       "0  10  20  30\n",
       "1  40  50  60\n",
       "2  70  80  90"
      ]
     },
     "execution_count": 83,
     "metadata": {},
     "output_type": "execute_result"
    }
   ],
   "source": [
    "df=df.apply(lambda y:y*10)\n",
    "df"
   ]
  },
  {
   "cell_type": "code",
   "execution_count": null,
   "id": "98245d75-1552-4bcc-8de8-8d335b99a1d7",
   "metadata": {},
   "outputs": [],
   "source": []
  }
 ],
 "metadata": {
  "kernelspec": {
   "display_name": "Python 3 (ipykernel)",
   "language": "python",
   "name": "python3"
  },
  "language_info": {
   "codemirror_mode": {
    "name": "ipython",
    "version": 3
   },
   "file_extension": ".py",
   "mimetype": "text/x-python",
   "name": "python",
   "nbconvert_exporter": "python",
   "pygments_lexer": "ipython3",
   "version": "3.12.2"
  }
 },
 "nbformat": 4,
 "nbformat_minor": 5
}
