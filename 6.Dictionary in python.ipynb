{
 "cells": [
  {
   "cell_type": "markdown",
   "id": "1b6fb53e-68c8-4d2f-b8a7-43013b4e56ff",
   "metadata": {},
   "source": [
    "# 6. Dictionaries in Python\n",
    "\n",
    " * __Dictionaries are used to store data values in key:value pair.__\n",
    " * __A dictionary is a collection which is ordered, changeable or mutable and do not allow duplicates.__\n",
    " * __Dictionary item are presented in key:value pairs, and can be referred to by using key name.__\n",
    " * __Dictionary are changeable, meaning that we can change,update, remove items after the dictionary has been created.__\n",
    " * __Dictionary can not have two items with the same key.__\n",
    " * __A dictionary can be nested and can content another dictionary.__\n",
    "\n",
    "   * __Keys -------------------- Values__\n",
    "   * __name__------------------__\"John\"__\n",
    "   * __age__-------------------__45__\n",
    "   * __rollno__----------------__101__\n",
    "   * __address__---------------__Pune__"
   ]
  },
  {
   "cell_type": "code",
   "execution_count": 3,
   "id": "1993a20f-5d22-416c-a894-30b200e61972",
   "metadata": {},
   "outputs": [
    {
     "name": "stdout",
     "output_type": "stream",
     "text": [
      "{}\n",
      "<class 'dict'>\n"
     ]
    }
   ],
   "source": [
    "# Creating sample dictionary\n",
    "\n",
    "dict1={}\n",
    "print(dict1)\n",
    "print(type(dict1))"
   ]
  },
  {
   "cell_type": "code",
   "execution_count": 15,
   "id": "ecfa9785-5ae2-45cc-9986-39d571d79881",
   "metadata": {},
   "outputs": [
    {
     "data": {
      "text/plain": [
       "{'name': 'Rishabh',\n",
       " 'age': 45,\n",
       " 'subject': 'CS',\n",
       " 'email': 'rishabh56@hotmail.com'}"
      ]
     },
     "execution_count": 15,
     "metadata": {},
     "output_type": "execute_result"
    }
   ],
   "source": [
    "dict1={'name':'Rishabh','age':45,'subject':'CS','email':'rishabh56@hotmail.com'}\n",
    "dict1"
   ]
  },
  {
   "cell_type": "code",
   "execution_count": 16,
   "id": "156c950d-d0c4-4268-b5c1-df425b3e46af",
   "metadata": {},
   "outputs": [
    {
     "data": {
      "text/plain": [
       "dict_keys(['name', 'age', 'subject', 'email'])"
      ]
     },
     "execution_count": 16,
     "metadata": {},
     "output_type": "execute_result"
    }
   ],
   "source": [
    "dict1.keys()"
   ]
  },
  {
   "cell_type": "code",
   "execution_count": 17,
   "id": "2330cba1-ff43-42e7-a303-e37d0d886d9b",
   "metadata": {},
   "outputs": [
    {
     "data": {
      "text/plain": [
       "dict_values(['Rishabh', 45, 'CS', 'rishabh56@hotmail.com'])"
      ]
     },
     "execution_count": 17,
     "metadata": {},
     "output_type": "execute_result"
    }
   ],
   "source": [
    "dict1.values()"
   ]
  },
  {
   "cell_type": "code",
   "execution_count": 18,
   "id": "6ac84044-6029-4a33-832d-2e716faa736a",
   "metadata": {},
   "outputs": [
    {
     "data": {
      "text/plain": [
       "'Rishabh'"
      ]
     },
     "execution_count": 18,
     "metadata": {},
     "output_type": "execute_result"
    }
   ],
   "source": [
    "# how to accessing element inside the dicitonary.\n",
    "\n",
    "dict1['name']"
   ]
  },
  {
   "cell_type": "code",
   "execution_count": 19,
   "id": "1130a308-379b-4493-9e11-8f0514f63b9c",
   "metadata": {},
   "outputs": [
    {
     "data": {
      "text/plain": [
       "45"
      ]
     },
     "execution_count": 19,
     "metadata": {},
     "output_type": "execute_result"
    }
   ],
   "source": [
    "dict1['age']"
   ]
  },
  {
   "cell_type": "code",
   "execution_count": 20,
   "id": "0ff928bb-d120-4b65-87ac-ffd7ad50c985",
   "metadata": {},
   "outputs": [
    {
     "data": {
      "text/plain": [
       "'rishabh56@hotmail.com'"
      ]
     },
     "execution_count": 20,
     "metadata": {},
     "output_type": "execute_result"
    }
   ],
   "source": [
    "dict1['email']"
   ]
  },
  {
   "cell_type": "code",
   "execution_count": 22,
   "id": "2479dfd0-c354-400d-b5df-b8d93ef1c804",
   "metadata": {},
   "outputs": [
    {
     "data": {
      "text/plain": [
       "'CS'"
      ]
     },
     "execution_count": 22,
     "metadata": {},
     "output_type": "execute_result"
    }
   ],
   "source": [
    "dict1['subject']"
   ]
  },
  {
   "cell_type": "code",
   "execution_count": 23,
   "id": "9c0ea7eb-41ce-4b24-ade3-8b22373f4c46",
   "metadata": {},
   "outputs": [
    {
     "data": {
      "text/plain": [
       "{'name': 'Rishabh',\n",
       " 'age': 45,\n",
       " 'subject': 'CS',\n",
       " 'email': 'rishabh56@hotmail.com'}"
      ]
     },
     "execution_count": 23,
     "metadata": {},
     "output_type": "execute_result"
    }
   ],
   "source": [
    "# how to add new element inside the dictioanry\n",
    "dict1"
   ]
  },
  {
   "cell_type": "code",
   "execution_count": 24,
   "id": "4d0c4ac0-32a1-400b-bece-3c90e3c0116e",
   "metadata": {},
   "outputs": [
    {
     "data": {
      "text/plain": [
       "{'name': 'Rishabh',\n",
       " 'age': 45,\n",
       " 'subject': 'CS',\n",
       " 'email': 'rishabh56@hotmail.com',\n",
       " 'phone': '123456789'}"
      ]
     },
     "execution_count": 24,
     "metadata": {},
     "output_type": "execute_result"
    }
   ],
   "source": [
    "dict1['phone']=\"123456789\"\n",
    "dict1"
   ]
  },
  {
   "cell_type": "code",
   "execution_count": 25,
   "id": "65bd148e-c5df-4a0d-9401-96b9ee9d4ea8",
   "metadata": {},
   "outputs": [
    {
     "data": {
      "text/plain": [
       "{'name': 'Rishabh',\n",
       " 'age': 45,\n",
       " 'subject': 'CS',\n",
       " 'email': 'rishabh56@hotmail.com',\n",
       " 'phone': '789654123'}"
      ]
     },
     "execution_count": 25,
     "metadata": {},
     "output_type": "execute_result"
    }
   ],
   "source": [
    "# updating the value inside the value.\n",
    "\n",
    "dict1['phone']=\"789654123\"\n",
    "dict1"
   ]
  },
  {
   "cell_type": "code",
   "execution_count": 26,
   "id": "1c543848-2fa1-4a9d-ae45-6413954a6294",
   "metadata": {},
   "outputs": [],
   "source": [
    "dict1['name']=\"Rishabh Sinha\""
   ]
  },
  {
   "cell_type": "code",
   "execution_count": 27,
   "id": "9f1580ee-6bee-41dd-be05-10a8ee8a523b",
   "metadata": {},
   "outputs": [
    {
     "data": {
      "text/plain": [
       "{'name': 'Rishabh Sinha',\n",
       " 'age': 45,\n",
       " 'subject': 'CS',\n",
       " 'email': 'rishabh56@hotmail.com',\n",
       " 'phone': '789654123'}"
      ]
     },
     "execution_count": 27,
     "metadata": {},
     "output_type": "execute_result"
    }
   ],
   "source": [
    "dict1"
   ]
  },
  {
   "cell_type": "code",
   "execution_count": 28,
   "id": "5e5851c8-8051-4dc8-90e8-07164fa9ecba",
   "metadata": {},
   "outputs": [
    {
     "data": {
      "text/plain": [
       "dict_keys(['name', 'age', 'subject', 'email', 'phone'])"
      ]
     },
     "execution_count": 28,
     "metadata": {},
     "output_type": "execute_result"
    }
   ],
   "source": [
    "dict1.keys()"
   ]
  },
  {
   "cell_type": "code",
   "execution_count": 29,
   "id": "cda9861b-3db7-482c-b6e7-491e32de9253",
   "metadata": {},
   "outputs": [
    {
     "data": {
      "text/plain": [
       "dict_values(['Rishabh Sinha', 45, 'CS', 'rishabh56@hotmail.com', '789654123'])"
      ]
     },
     "execution_count": 29,
     "metadata": {},
     "output_type": "execute_result"
    }
   ],
   "source": [
    "dict1.values()"
   ]
  },
  {
   "cell_type": "code",
   "execution_count": 30,
   "id": "6354b257-2c7b-40c7-817e-ba134975a519",
   "metadata": {},
   "outputs": [],
   "source": [
    "# delete the value\n",
    "\n",
    "del(dict1['phone'])"
   ]
  },
  {
   "cell_type": "code",
   "execution_count": 31,
   "id": "1edabf62-6f72-4b09-8e52-463019c4d592",
   "metadata": {},
   "outputs": [
    {
     "data": {
      "text/plain": [
       "{'name': 'Rishabh Sinha',\n",
       " 'age': 45,\n",
       " 'subject': 'CS',\n",
       " 'email': 'rishabh56@hotmail.com'}"
      ]
     },
     "execution_count": 31,
     "metadata": {},
     "output_type": "execute_result"
    }
   ],
   "source": [
    "dict1"
   ]
  },
  {
   "cell_type": "code",
   "execution_count": 35,
   "id": "74971c62-ead8-4a74-9e4a-f90421741775",
   "metadata": {},
   "outputs": [
    {
     "name": "stdout",
     "output_type": "stream",
     "text": [
      "True\n",
      "True\n"
     ]
    }
   ],
   "source": [
    "# varifiction element inside the dictioanry.\n",
    "\n",
    "print('name' in dict1)\n",
    "print('phone'  not in dict1)"
   ]
  },
  {
   "cell_type": "code",
   "execution_count": 36,
   "id": "9ef6ad55-a777-48dc-8345-bd6c76eafc5e",
   "metadata": {},
   "outputs": [
    {
     "data": {
      "text/plain": [
       "{'name': 'Vikram Betal', 'age': 78, 'rollno': 45, 'address': 'Jungal mein'}"
      ]
     },
     "execution_count": 36,
     "metadata": {},
     "output_type": "execute_result"
    }
   ],
   "source": [
    "# dict() function\n",
    "\n",
    "dict_sample=dict(name=\"Vikram Betal\",age=78,rollno=45,address=\"Jungal mein\")\n",
    "dict_sample"
   ]
  },
  {
   "cell_type": "code",
   "execution_count": 38,
   "id": "10778293-d0da-45d9-bd86-183330a008ff",
   "metadata": {},
   "outputs": [
    {
     "name": "stdout",
     "output_type": "stream",
     "text": [
      "<class 'dict'>\n"
     ]
    }
   ],
   "source": [
    "print(type(dict_sample))"
   ]
  },
  {
   "cell_type": "code",
   "execution_count": 39,
   "id": "8fc54be1-6516-4466-9869-465bf19d7056",
   "metadata": {},
   "outputs": [
    {
     "data": {
      "text/plain": [
       "{'name': 'Vikram Betal', 'age': 78, 'rollno': 45, 'address': 'Jungal mein'}"
      ]
     },
     "execution_count": 39,
     "metadata": {},
     "output_type": "execute_result"
    }
   ],
   "source": [
    "# clear() function\n",
    "\n",
    "dict_sample"
   ]
  },
  {
   "cell_type": "code",
   "execution_count": 41,
   "id": "6d484fbc-5705-46a9-8978-5156c2ffd802",
   "metadata": {},
   "outputs": [],
   "source": [
    "# clear function clear the element inside the dictinary and return empty diction bcz you can put eleemnt in future.\n",
    "dict_sample.clear()"
   ]
  },
  {
   "cell_type": "code",
   "execution_count": 42,
   "id": "58ee8824-399b-44ac-9f09-53548880c3f5",
   "metadata": {},
   "outputs": [
    {
     "data": {
      "text/plain": [
       "{}"
      ]
     },
     "execution_count": 42,
     "metadata": {},
     "output_type": "execute_result"
    }
   ],
   "source": [
    "dict_sample"
   ]
  },
  {
   "cell_type": "code",
   "execution_count": 43,
   "id": "35a9f986-ca3b-471e-aa4d-7aeaa12727c0",
   "metadata": {},
   "outputs": [
    {
     "data": {
      "text/plain": [
       "{'name': 'Vikram Betal', 'age': 78, 'rollno': 45, 'address': 'Jungal mein'}"
      ]
     },
     "execution_count": 43,
     "metadata": {},
     "output_type": "execute_result"
    }
   ],
   "source": [
    "# pop() function\n",
    "\n",
    "dict_sample=dict(name=\"Vikram Betal\",age=78,rollno=45,address=\"Jungal mein\")\n",
    "dict_sample"
   ]
  },
  {
   "cell_type": "code",
   "execution_count": 44,
   "id": "3157a3af-968e-418b-b26b-8fcc33cc91fd",
   "metadata": {},
   "outputs": [
    {
     "data": {
      "text/plain": [
       "{'name': 'Vikram Betal', 'rollno': 45, 'address': 'Jungal mein'}"
      ]
     },
     "execution_count": 44,
     "metadata": {},
     "output_type": "execute_result"
    }
   ],
   "source": [
    "dict_sample.pop('age')\n",
    "dict_sample"
   ]
  },
  {
   "cell_type": "code",
   "execution_count": 46,
   "id": "f6a44d23-a3f2-4407-8306-267dd9dbc281",
   "metadata": {},
   "outputs": [
    {
     "data": {
      "text/plain": [
       "('address', 'Jungal mein')"
      ]
     },
     "execution_count": 46,
     "metadata": {},
     "output_type": "execute_result"
    }
   ],
   "source": [
    "# pop() item\n",
    "dict_sample.popitem()"
   ]
  },
  {
   "cell_type": "code",
   "execution_count": 47,
   "id": "55bea4d7-faff-452a-86c5-9fc5a8ec6121",
   "metadata": {},
   "outputs": [
    {
     "data": {
      "text/plain": [
       "{'name': 'Vikram Betal', 'rollno': 45}"
      ]
     },
     "execution_count": 47,
     "metadata": {},
     "output_type": "execute_result"
    }
   ],
   "source": [
    "dict_sample"
   ]
  },
  {
   "cell_type": "code",
   "execution_count": 48,
   "id": "860218cc-bd4c-42aa-ac85-9adc4bc78099",
   "metadata": {},
   "outputs": [
    {
     "data": {
      "text/plain": [
       "{'name': 'Vikram Betal', 'age': 78, 'rollno': 45, 'address': 'Jungal mein'}"
      ]
     },
     "execution_count": 48,
     "metadata": {},
     "output_type": "execute_result"
    }
   ],
   "source": [
    "# get() function\n",
    "dict_sample=dict(name=\"Vikram Betal\",age=78,rollno=45,address=\"Jungal mein\")\n",
    "dict_sample"
   ]
  },
  {
   "cell_type": "code",
   "execution_count": 49,
   "id": "976fec12-5e31-4701-a241-7f60aeb840cb",
   "metadata": {},
   "outputs": [
    {
     "data": {
      "text/plain": [
       "'Vikram Betal'"
      ]
     },
     "execution_count": 49,
     "metadata": {},
     "output_type": "execute_result"
    }
   ],
   "source": [
    "dict_sample.get('name')"
   ]
  },
  {
   "cell_type": "code",
   "execution_count": 50,
   "id": "312eb04a-cd42-463d-bb60-0944783f58d1",
   "metadata": {},
   "outputs": [
    {
     "data": {
      "text/plain": [
       "'Vikram Betal'"
      ]
     },
     "execution_count": 50,
     "metadata": {},
     "output_type": "execute_result"
    }
   ],
   "source": [
    "dict_sample['name']"
   ]
  },
  {
   "cell_type": "code",
   "execution_count": 54,
   "id": "2c52ece9-e809-48ff-b109-0d4ef3afdc1b",
   "metadata": {},
   "outputs": [
    {
     "data": {
      "text/plain": [
       "{'b': None, 'e': None, 'f': None, 'd': None, 'a': None, 'c': None}"
      ]
     },
     "execution_count": 54,
     "metadata": {},
     "output_type": "execute_result"
    }
   ],
   "source": [
    "# fromkeys() function\n",
    "keys={'a','b','c','d','e','f'}\n",
    "dict_keys=dict.fromkeys(keys)\n",
    "dict_keys"
   ]
  },
  {
   "cell_type": "code",
   "execution_count": 56,
   "id": "ec183b9d-a46a-4dd6-bf30-e7c52ef49c8b",
   "metadata": {},
   "outputs": [],
   "source": [
    "dict_keys['a']='apple'"
   ]
  },
  {
   "cell_type": "code",
   "execution_count": 57,
   "id": "3436d005-7631-4c8a-b226-c434426b7d75",
   "metadata": {},
   "outputs": [
    {
     "data": {
      "text/plain": [
       "{'b': None, 'e': None, 'f': None, 'd': None, 'a': 'apple', 'c': None}"
      ]
     },
     "execution_count": 57,
     "metadata": {},
     "output_type": "execute_result"
    }
   ],
   "source": [
    "dict_keys"
   ]
  },
  {
   "cell_type": "code",
   "execution_count": 58,
   "id": "42c4e347-6909-478d-a06b-50b4749496e2",
   "metadata": {},
   "outputs": [
    {
     "data": {
      "text/plain": [
       "{'b': 'ball', 'e': None, 'f': None, 'd': None, 'a': 'apple', 'c': None}"
      ]
     },
     "execution_count": 58,
     "metadata": {},
     "output_type": "execute_result"
    }
   ],
   "source": [
    "dict_keys['b']='ball'\n",
    "dict_keys"
   ]
  },
  {
   "cell_type": "code",
   "execution_count": 60,
   "id": "4cb1477e-cfb9-43ae-8384-9f742d9dbd00",
   "metadata": {},
   "outputs": [
    {
     "data": {
      "text/plain": [
       "dict_items([('b', 'ball'), ('e', None), ('f', None), ('d', None), ('a', 'apple'), ('c', None)])"
      ]
     },
     "execution_count": 60,
     "metadata": {},
     "output_type": "execute_result"
    }
   ],
   "source": [
    "# items.\n",
    "\n",
    "x=dict_keys.items()\n",
    "x"
   ]
  },
  {
   "cell_type": "code",
   "execution_count": 61,
   "id": "398a5c8d-61db-474f-a8d6-13f83871008a",
   "metadata": {},
   "outputs": [
    {
     "data": {
      "text/plain": [
       "dict_items"
      ]
     },
     "execution_count": 61,
     "metadata": {},
     "output_type": "execute_result"
    }
   ],
   "source": [
    "type(x)"
   ]
  },
  {
   "cell_type": "code",
   "execution_count": null,
   "id": "d7b0633f-d434-4ba0-856c-4c4715717a32",
   "metadata": {},
   "outputs": [],
   "source": []
  }
 ],
 "metadata": {
  "kernelspec": {
   "display_name": "Python 3 (ipykernel)",
   "language": "python",
   "name": "python3"
  },
  "language_info": {
   "codemirror_mode": {
    "name": "ipython",
    "version": 3
   },
   "file_extension": ".py",
   "mimetype": "text/x-python",
   "name": "python",
   "nbconvert_exporter": "python",
   "pygments_lexer": "ipython3",
   "version": "3.12.2"
  }
 },
 "nbformat": 4,
 "nbformat_minor": 5
}
