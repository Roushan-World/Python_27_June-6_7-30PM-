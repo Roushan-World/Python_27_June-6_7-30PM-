{
 "cells": [
  {
   "cell_type": "markdown",
   "id": "3250599f-fc31-4686-84bf-c478e5b8d2f3",
   "metadata": {},
   "source": [
    "# 3. List\n",
    " * __List are ordered.__\n",
    " * __Lists can contain any arbitrary objects.__\n",
    " * __List elements can be accessed by index.__\n",
    " * __Lists can be nested to arbitrary depth.__\n",
    " * __Lists are mutable.__\n",
    " * __Lists are dynamic.__"
   ]
  },
  {
   "cell_type": "code",
   "execution_count": 3,
   "id": "62f27c5a-ff0a-4eec-9cd4-32c47d86518b",
   "metadata": {},
   "outputs": [
    {
     "name": "stdout",
     "output_type": "stream",
     "text": [
      "[]\n",
      "<class 'list'>\n"
     ]
    }
   ],
   "source": [
    "# an empty list\n",
    "list1=[]\n",
    "print(list1)\n",
    "print(type(list1))"
   ]
  },
  {
   "cell_type": "code",
   "execution_count": 40,
   "id": "d6a353f1-6359-42cd-a776-d1e6762d2d08",
   "metadata": {},
   "outputs": [
    {
     "name": "stdout",
     "output_type": "stream",
     "text": [
      "['Hello world', 3.147, 2.718, 1.618, True, False, ['Hey Rishav', 500, (True, False, ('Bhanu Thakur', 'Hira Thakur', 'Chintu'), ['Apple', 'Sushmita Sen'])]]\n"
     ]
    }
   ],
   "source": [
    "list1=['Hello world',3.147,2.718,1.618,True,False,['Hey Rishav',500,(True,False,('Bhanu Thakur',\"Hira Thakur\",\"Chintu\"),['Apple','Sushmita Sen'])]]\n",
    "print(list1)\n"
   ]
  },
  {
   "cell_type": "code",
   "execution_count": 41,
   "id": "dc4ed4a4-23da-4a77-8fe9-d9574cd154ef",
   "metadata": {},
   "outputs": [
    {
     "name": "stdout",
     "output_type": "stream",
     "text": [
      "<class 'list'>\n"
     ]
    }
   ],
   "source": [
    "print(type(list1))"
   ]
  },
  {
   "cell_type": "code",
   "execution_count": 42,
   "id": "2c2aa035-2d30-4b19-b161-351415e326a5",
   "metadata": {},
   "outputs": [
    {
     "name": "stdout",
     "output_type": "stream",
     "text": [
      "Hello world\n",
      "3.147\n",
      "2.718\n",
      "1.618\n",
      "True\n",
      "False\n",
      "['Hey Rishav', 500, (True, False, ('Bhanu Thakur', 'Hira Thakur', 'Chintu'), ['Apple', 'Sushmita Sen'])]\n"
     ]
    }
   ],
   "source": [
    "# Accessging index value positive\n",
    "print(list1[0])\n",
    "print(list1[1])\n",
    "print(list1[2])\n",
    "print(list1[3])\n",
    "print(list1[4])\n",
    "print(list1[5])\n",
    "print(list1[6])\n",
    "# print(list1[7])"
   ]
  },
  {
   "cell_type": "code",
   "execution_count": 43,
   "id": "dbd1a59d-f413-4d66-86d0-409e7359764d",
   "metadata": {},
   "outputs": [
    {
     "name": "stdout",
     "output_type": "stream",
     "text": [
      "['Hello world', 3.147, 2.718, 1.618, True, False, ['Hey Rishav', 500, (True, False, ('Bhanu Thakur', 'Hira Thakur', 'Chintu'), ['Apple', 'Sushmita Sen'])]]\n"
     ]
    }
   ],
   "source": [
    "print(list1)"
   ]
  },
  {
   "cell_type": "code",
   "execution_count": 44,
   "id": "65e1139d-ba1d-4776-8791-b7948626f712",
   "metadata": {},
   "outputs": [
    {
     "data": {
      "text/plain": [
       "'Hey Rishav'"
      ]
     },
     "execution_count": 44,
     "metadata": {},
     "output_type": "execute_result"
    }
   ],
   "source": [
    "list1[6][0]"
   ]
  },
  {
   "cell_type": "code",
   "execution_count": 45,
   "id": "7e49d2b8-f733-49e4-9c54-5af259520105",
   "metadata": {},
   "outputs": [
    {
     "data": {
      "text/plain": [
       "True"
      ]
     },
     "execution_count": 45,
     "metadata": {},
     "output_type": "execute_result"
    }
   ],
   "source": [
    "list1[6][2][0]"
   ]
  },
  {
   "cell_type": "code",
   "execution_count": 46,
   "id": "41be9619-0f04-4ab4-9d81-b99077773873",
   "metadata": {},
   "outputs": [
    {
     "data": {
      "text/plain": [
       "False"
      ]
     },
     "execution_count": 46,
     "metadata": {},
     "output_type": "execute_result"
    }
   ],
   "source": [
    "list1[6][2][1]"
   ]
  },
  {
   "cell_type": "code",
   "execution_count": 47,
   "id": "2415f3d3-45a0-412d-8c73-e3f8b6f4c865",
   "metadata": {},
   "outputs": [
    {
     "data": {
      "text/plain": [
       "['Hello world',\n",
       " 3.147,\n",
       " 2.718,\n",
       " 1.618,\n",
       " True,\n",
       " False,\n",
       " ['Hey Rishav',\n",
       "  500,\n",
       "  (True,\n",
       "   False,\n",
       "   ('Bhanu Thakur', 'Hira Thakur', 'Chintu'),\n",
       "   ['Apple', 'Sushmita Sen'])]]"
      ]
     },
     "execution_count": 47,
     "metadata": {},
     "output_type": "execute_result"
    }
   ],
   "source": [
    "list1"
   ]
  },
  {
   "cell_type": "code",
   "execution_count": 48,
   "id": "d40a74d2-e17a-40d5-a8e8-0762c4f0f3fb",
   "metadata": {},
   "outputs": [
    {
     "data": {
      "text/plain": [
       "'Chintu'"
      ]
     },
     "execution_count": 48,
     "metadata": {},
     "output_type": "execute_result"
    }
   ],
   "source": [
    "list1[6][2][2][2]"
   ]
  },
  {
   "cell_type": "code",
   "execution_count": 49,
   "id": "f9984075-3eab-4ae4-adab-795bf9e27d4a",
   "metadata": {},
   "outputs": [
    {
     "data": {
      "text/plain": [
       "'Bhanu Thakur'"
      ]
     },
     "execution_count": 49,
     "metadata": {},
     "output_type": "execute_result"
    }
   ],
   "source": [
    "list1[6][2][2][0]"
   ]
  },
  {
   "cell_type": "code",
   "execution_count": 50,
   "id": "de724562-e832-4f67-b1dd-969debe7183b",
   "metadata": {},
   "outputs": [
    {
     "name": "stdout",
     "output_type": "stream",
     "text": [
      "['Hello world', 3.147, 2.718, 1.618, True, False, ['Hey Rishav', 500, (True, False, ('Bhanu Thakur', 'Hira Thakur', 'Chintu'), ['Apple', 'Sushmita Sen'])]]\n"
     ]
    }
   ],
   "source": [
    "print(list1)"
   ]
  },
  {
   "cell_type": "code",
   "execution_count": 57,
   "id": "92503a9e-9aae-472f-85b3-660db35e9627",
   "metadata": {},
   "outputs": [
    {
     "data": {
      "text/plain": [
       "'Sushmita Sen'"
      ]
     },
     "execution_count": 57,
     "metadata": {},
     "output_type": "execute_result"
    }
   ],
   "source": [
    "list1[6][2][3][1]"
   ]
  },
  {
   "cell_type": "code",
   "execution_count": 87,
   "id": "966841e0-19b8-4641-bcac-9c695adf31e3",
   "metadata": {},
   "outputs": [
    {
     "name": "stdout",
     "output_type": "stream",
     "text": [
      "Hello world\n",
      "<class 'str'>\n",
      "3.147\n",
      "<class 'float'>\n",
      "2.718\n",
      "<class 'float'>\n",
      "1.618\n",
      "<class 'float'>\n",
      "True\n",
      "<class 'bool'>\n",
      "False\n",
      "<class 'bool'>\n",
      "['Hey Rishav', 500, (True, False, ('Bhanu Thakur', 'Hira Thakur', 'Chintu'), ['Apple', 'Sushmita Sen'])]\n",
      "<class 'list'>\n",
      "Sushmita Sen\n",
      "<class 'str'>\n"
     ]
    }
   ],
   "source": [
    "print(list1[0])\n",
    "print(type(list1[0]))\n",
    "\n",
    "print(list1[1])\n",
    "print(type(list1[1]))\n",
    "\n",
    "print(list1[2])\n",
    "print(type(list1[2]))\n",
    "\n",
    "print(list1[3])\n",
    "print(type(list1[3]))\n",
    "\n",
    "print(list1[4])\n",
    "print(type(list1[4]))\n",
    "\n",
    "print(list1[5])\n",
    "print(type(list1[5]))\n",
    "\n",
    "print(list1[6])\n",
    "print(type(list1[6]))\n",
    "\n",
    "print(list1[6][2][3][1])\n",
    "print(type(list1[6][2][3][1]))"
   ]
  },
  {
   "cell_type": "code",
   "execution_count": 66,
   "id": "43eccf0a-4f3a-45cc-b6b1-94397c6631c7",
   "metadata": {},
   "outputs": [
    {
     "name": "stdout",
     "output_type": "stream",
     "text": [
      "['Hello world', 3.147, 2.718, 1.618, True, False, ['Hey Rishav', 500, (True, False, ('Bhanu Thakur', 'Hira Thakur', 'Chintu'), ['Apple', 'Sushmita Sen'])]]\n"
     ]
    }
   ],
   "source": [
    "print(list1)"
   ]
  },
  {
   "cell_type": "code",
   "execution_count": 90,
   "id": "7ce4150a-7072-4338-8791-c32ce07a31e6",
   "metadata": {},
   "outputs": [
    {
     "name": "stdout",
     "output_type": "stream",
     "text": [
      "(True, False, ('Bhanu Thakur', 'Hira Thakur', 'Chintu'), ['Apple', 'Sushmita Sen'])\n",
      "<class 'tuple'>\n"
     ]
    }
   ],
   "source": [
    "print(list1[6][2])\n",
    "print(type(list1[6][2]))"
   ]
  },
  {
   "cell_type": "markdown",
   "id": "ef49a186-065c-4682-bcbc-40482319b103",
   "metadata": {},
   "source": [
    "# What can content a list?\n",
    "\n",
    " * __Strings__\n",
    " * __Floats__\n",
    " * __Integer__\n",
    " * __Tuple__\n",
    " * __List__\n",
    " * __Dictionary__\n",
    " * __Sets__\n",
    " * __Boolean__\n",
    " * __Other Data Structure__"
   ]
  },
  {
   "cell_type": "code",
   "execution_count": 1,
   "id": "b9b1b8bb-95c2-41b5-a319-e7869ea1c029",
   "metadata": {},
   "outputs": [
    {
     "name": "stdout",
     "output_type": "stream",
     "text": [
      "['Hello world', 'Rishav']\n"
     ]
    }
   ],
   "source": [
    "# CRUD :-C-> Created(adding an element), R(Read)-> Read element, U-> Upadate an elemenet, D-> Deleting an element.\n",
    "\n",
    "\n",
    "list1=['Hello world','Rishav']\n",
    "print(list1)\n"
   ]
  },
  {
   "cell_type": "code",
   "execution_count": 2,
   "id": "5dcfd28a-b615-45cc-a8a8-2b7743503639",
   "metadata": {},
   "outputs": [],
   "source": [
    "# To Adding an element has three Methods\n",
    "# 1. Append(): It insert an element one by one.\n",
    "# 2. Extend(): It takes multiple element to extend the list.\n",
    "# 3. Insert(): It takes two parameter first one index value and otherone is element to add in the list."
   ]
  },
  {
   "cell_type": "code",
   "execution_count": 7,
   "id": "8fc3f3af-517b-475b-a034-82bdc5771834",
   "metadata": {},
   "outputs": [
    {
     "data": {
      "text/plain": [
       "['Hello world', 'Rishav', 100, 15, 20]"
      ]
     },
     "execution_count": 7,
     "metadata": {},
     "output_type": "execute_result"
    }
   ],
   "source": [
    "# 1. Append\n",
    "list1\n",
    "\n",
    "list1.append(20)\n",
    "list1"
   ]
  },
  {
   "cell_type": "code",
   "execution_count": 10,
   "id": "cf4b0f5f-8455-4938-bb8f-136e7fdc3307",
   "metadata": {},
   "outputs": [
    {
     "data": {
      "text/plain": [
       "['Hello world', 'Rishav', 100, 15, 20, 2, 4, 6, 2, 4, 6, 2, 4, 6]"
      ]
     },
     "execution_count": 10,
     "metadata": {},
     "output_type": "execute_result"
    }
   ],
   "source": [
    "# Extend:\n",
    "list1.extend([2,4,6])\n",
    "list1"
   ]
  },
  {
   "cell_type": "code",
   "execution_count": 12,
   "id": "a5897d94-9128-4558-aa49-56a576d5e7bb",
   "metadata": {},
   "outputs": [
    {
     "data": {
      "text/plain": [
       "['Dev', 'Hello world', 'Rishav', 100, 15, 20, 2, 4, 6, 2, 4, 6, 2, 4, 6]"
      ]
     },
     "execution_count": 12,
     "metadata": {},
     "output_type": "execute_result"
    }
   ],
   "source": [
    "# insert() method : takes two parameter\n",
    "\n",
    "list1.insert(0,'Dev')\n",
    "list1"
   ]
  },
  {
   "cell_type": "code",
   "execution_count": 13,
   "id": "e6242a4b-2879-4235-9aa6-5b7fb5e3fb8e",
   "metadata": {},
   "outputs": [],
   "source": [
    "# Deleting an element\n",
    "\n",
    "# del()\n",
    "\n",
    "del(list1[-1])"
   ]
  },
  {
   "cell_type": "code",
   "execution_count": 14,
   "id": "35b6939b-322d-4e17-881c-6987a93925a4",
   "metadata": {},
   "outputs": [
    {
     "data": {
      "text/plain": [
       "['Dev', 'Hello world', 'Rishav', 100, 15, 20, 2, 4, 6, 2, 4, 6, 2, 4]"
      ]
     },
     "execution_count": 14,
     "metadata": {},
     "output_type": "execute_result"
    }
   ],
   "source": [
    "list1"
   ]
  },
  {
   "cell_type": "code",
   "execution_count": 15,
   "id": "f7e76097-dc7a-4461-a7f0-abb076b21f9b",
   "metadata": {},
   "outputs": [
    {
     "data": {
      "text/plain": [
       "['Dev', 'Hello world', 'Rishav', 100, 15, 20, 2, 4, 6]"
      ]
     },
     "execution_count": 15,
     "metadata": {},
     "output_type": "execute_result"
    }
   ],
   "source": [
    "del(list1[9:])\n",
    "list1"
   ]
  },
  {
   "cell_type": "code",
   "execution_count": 16,
   "id": "f9cbece5-ac30-41cf-860b-88f8baa838bd",
   "metadata": {},
   "outputs": [
    {
     "data": {
      "text/plain": [
       "['Dev', 'Hello world', 'Rishav', 100, 15, 20, 2, 4, 6]"
      ]
     },
     "execution_count": 16,
     "metadata": {},
     "output_type": "execute_result"
    }
   ],
   "source": [
    "# updating the list\n",
    "\n",
    "list1"
   ]
  },
  {
   "cell_type": "code",
   "execution_count": 18,
   "id": "28bb3ed1-7a5f-4522-9e70-a76e3780a9c4",
   "metadata": {},
   "outputs": [
    {
     "data": {
      "text/plain": [
       "['Rishav', 'Hello world', 'Rishav', 100, 15, 20, 2, 4, 6]"
      ]
     },
     "execution_count": 18,
     "metadata": {},
     "output_type": "execute_result"
    }
   ],
   "source": [
    "list1[0]='Rishav'\n",
    "list1"
   ]
  },
  {
   "cell_type": "code",
   "execution_count": 19,
   "id": "85fff0e3-4d9d-44f6-8e06-00a52019d0d5",
   "metadata": {},
   "outputs": [
    {
     "data": {
      "text/plain": [
       "['Rishav', 'Hello world', 'Dev', 100, 15, 20, 2, 4, 6]"
      ]
     },
     "execution_count": 19,
     "metadata": {},
     "output_type": "execute_result"
    }
   ],
   "source": [
    "list1[2]=\"Dev\"\n",
    "list1"
   ]
  },
  {
   "cell_type": "code",
   "execution_count": 24,
   "id": "32f537fa-a3ec-483a-8869-7ea93f7ca1b3",
   "metadata": {},
   "outputs": [
    {
     "name": "stdout",
     "output_type": "stream",
     "text": [
      "Minimum Number of the list is: 10\n",
      "Maximum Number of the list is: 90\n",
      "Total of the list is: 450\n",
      "Total Length of the list is: 9\n",
      "Average of the list is: 50.0\n"
     ]
    }
   ],
   "source": [
    "# Aggrigate function : min,max,sum,average,len => Element are only present in number form.\n",
    "list1=[10,20,30,40,50,60,70,80,90]\n",
    "print('Minimum Number of the list is:',min(list1))\n",
    "print('Maximum Number of the list is:',max(list1))\n",
    "print('Total of the list is:',sum(list1))\n",
    "print('Total Length of the list is:',len(list1))\n",
    "print('Average of the list is:',sum(list1)/len(list1))"
   ]
  },
  {
   "cell_type": "markdown",
   "id": "e151b10f-ac37-44f7-81e6-e9d9f031319d",
   "metadata": {},
   "source": [
    "# Copy() function "
   ]
  },
  {
   "cell_type": "code",
   "execution_count": 30,
   "id": "7edacc38-c0a6-478c-9576-54e48a7bac39",
   "metadata": {},
   "outputs": [
    {
     "name": "stdout",
     "output_type": "stream",
     "text": [
      "Original List: ['Hello world']\n",
      "Copied List: ['Hello world']\n",
      "Elemenet added: ['Hello world', 'Deep Copy']\n",
      "['Hello world', 'Deep Copy']\n"
     ]
    }
   ],
   "source": [
    "# There are two types of copy method\n",
    "\n",
    "# 1. shallow copy()\n",
    "# 2. Deep copy()\n",
    "\n",
    "list1=['Hello world']\n",
    "print('Original List:',list1)\n",
    "\n",
    "list2=list1\n",
    "print('Copied List:',list2)\n",
    "\n",
    "# Deep copy\n",
    "list1.append('Deep Copy')\n",
    "print('Elemenet added:',list1)\n",
    "\n",
    "print(list2)"
   ]
  },
  {
   "cell_type": "code",
   "execution_count": 34,
   "id": "52ef01aa-e7e9-4d30-a834-299c44311d3d",
   "metadata": {},
   "outputs": [
    {
     "name": "stdout",
     "output_type": "stream",
     "text": [
      "Original List: ['Hello Python']\n",
      "Copied List: ['Hello Python']\n",
      "Element added: ['Hello Python', 'Sallow copy']\n",
      "['Hello Python']\n"
     ]
    }
   ],
   "source": [
    "# shallow copy\n",
    "\n",
    "list1=['Hello Python']\n",
    "print('Original List:',list1)\n",
    "\n",
    "list2=list1.copy()\n",
    "print('Copied List:',list2)\n",
    "\n",
    "\n",
    "# adding element\n",
    "list1.append('Sallow copy')\n",
    "print('Element added:',list1)\n",
    "\n",
    "print(list2)"
   ]
  },
  {
   "cell_type": "code",
   "execution_count": 35,
   "id": "eef66491-7982-4b25-b4c4-2b1f985d37d2",
   "metadata": {},
   "outputs": [],
   "source": [
    "# 1. Assignment Operator [=]\n",
    "\n",
    "# 2. Comparison operator [<,>,<=,=>,==,!=]\n",
    "\n",
    "# 3. Mathematical operator = [+,-,*,/,%,//,** etc.]\n",
    "\n",
    "# 4. Logical operator ['AND','OR','NOT']\n",
    "\n",
    "# 5. Membership Operator [in or not in]\n",
    "\n",
    "# 6. identity operator [is or is not]"
   ]
  },
  {
   "cell_type": "code",
   "execution_count": 36,
   "id": "15524e91-fccb-4669-a348-b2f684178d84",
   "metadata": {},
   "outputs": [
    {
     "name": "stdin",
     "output_type": "stream",
     "text": [
      "Enter your name: Rishav\n"
     ]
    },
    {
     "name": "stdout",
     "output_type": "stream",
     "text": [
      "Congratulation!Rishav\n"
     ]
    }
   ],
   "source": [
    "# input() function: with the help of input function you are able to take input from user.\n",
    "x=input('Enter your name:')\n",
    "\n",
    "y='Congratulation!'+x\n",
    "print(y)"
   ]
  },
  {
   "cell_type": "code",
   "execution_count": null,
   "id": "e13ad524-9c6a-46f7-ad7d-99af59f8323a",
   "metadata": {},
   "outputs": [],
   "source": []
  }
 ],
 "metadata": {
  "kernelspec": {
   "display_name": "Python 3 (ipykernel)",
   "language": "python",
   "name": "python3"
  },
  "language_info": {
   "codemirror_mode": {
    "name": "ipython",
    "version": 3
   },
   "file_extension": ".py",
   "mimetype": "text/x-python",
   "name": "python",
   "nbconvert_exporter": "python",
   "pygments_lexer": "ipython3",
   "version": "3.12.2"
  }
 },
 "nbformat": 4,
 "nbformat_minor": 5
}
