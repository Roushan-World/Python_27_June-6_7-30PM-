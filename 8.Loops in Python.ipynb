{
 "cells": [
  {
   "cell_type": "markdown",
   "id": "539fb722-ac70-4d9a-bace-028aeb1291c8",
   "metadata": {},
   "source": [
    "# 8. Loops in Python\n",
    "\n",
    " * __A for loop is used for iteration over a sequence (that is either a list, a tuple, a dictionary, a set, or a string.)__\n",
    " * __This is less like the for keyword in other programmning languages, and word more like an iterator method as found in other object-oriented programming languages.__\n",
    " * __With the for loop we can execute a set of statements, once for each item in a list, tuple, set etc.__\n",
    " * __The for loop does not require an indexing variable to set beforehand.__\n",
    " * __With the while loop we can execute a set of statemnts, as long as as a condition is true.__\n",
    " * __Note: remember to increment i, or else loop will continue forever.__\n",
    " * __The while loop requre ravalent variables to be ready, in this example we need to define an indexing variable i, which is set to be 1.__\n",
    "\n",
    "# range() functions\n",
    "\n",
    " * __It is helpful to think of the range of the object as an ordered list.__\n",
    " * __To loop though a set of code a sepecified number of times, we can use the range() functions.__\n",
    " * __To range() function returns a sequence of numbers, starting from 0 by default and increments by 1. (by default value), and ends at a specified number.__"
   ]
  },
  {
   "cell_type": "code",
   "execution_count": 1,
   "id": "3ccddb36-a9b9-445f-b212-98a89413a712",
   "metadata": {},
   "outputs": [
    {
     "data": {
      "text/plain": [
       "range(0, 10)"
      ]
     },
     "execution_count": 1,
     "metadata": {},
     "output_type": "execute_result"
    }
   ],
   "source": [
    "range(10)"
   ]
  },
  {
   "cell_type": "code",
   "execution_count": 2,
   "id": "109d496f-481c-420e-829d-07e77666f378",
   "metadata": {},
   "outputs": [
    {
     "data": {
      "text/plain": [
       "range(30, 50)"
      ]
     },
     "execution_count": 2,
     "metadata": {},
     "output_type": "execute_result"
    }
   ],
   "source": [
    "range(30,50)"
   ]
  },
  {
   "cell_type": "code",
   "execution_count": 3,
   "id": "e92547ac-6e0e-434d-8b7d-73c159b89c3b",
   "metadata": {},
   "outputs": [
    {
     "name": "stdout",
     "output_type": "stream",
     "text": [
      "0\n",
      "1\n",
      "2\n",
      "3\n",
      "4\n",
      "5\n",
      "6\n",
      "7\n",
      "8\n",
      "9\n"
     ]
    }
   ],
   "source": [
    "for i in range(10):\n",
    "    print(i)"
   ]
  },
  {
   "cell_type": "code",
   "execution_count": 4,
   "id": "9fdfed75-78b0-4c12-88fa-bd6f451efb6c",
   "metadata": {},
   "outputs": [
    {
     "name": "stdout",
     "output_type": "stream",
     "text": [
      "50\n",
      "51\n",
      "52\n",
      "53\n",
      "54\n",
      "55\n",
      "56\n",
      "57\n",
      "58\n",
      "59\n"
     ]
    }
   ],
   "source": [
    "for i in range(50,60):\n",
    "    print(i)"
   ]
  },
  {
   "cell_type": "code",
   "execution_count": 5,
   "id": "00096029-66c6-47b1-b347-78f2172ff6b8",
   "metadata": {},
   "outputs": [
    {
     "name": "stdout",
     "output_type": "stream",
     "text": [
      "10\n",
      "20\n",
      "30\n",
      "40\n",
      "50\n",
      "60\n",
      "70\n",
      "80\n",
      "90\n",
      "100\n"
     ]
    }
   ],
   "source": [
    "list1=[10,20,30,40,50,60,70,80,90,100]\n",
    "\n",
    "for i in list1:\n",
    "    print(i)"
   ]
  },
  {
   "cell_type": "code",
   "execution_count": 6,
   "id": "9cdf3f9f-f048-410d-a967-2fcfa1b2646f",
   "metadata": {},
   "outputs": [
    {
     "name": "stdout",
     "output_type": "stream",
     "text": [
      "Hello\n",
      "Apple\n",
      "boy\n",
      "cat\n",
      "elephant\n",
      "fan\n",
      "gun\n",
      "hen\n",
      "ice-cream\n"
     ]
    }
   ],
   "source": [
    "list1=['Hello','Apple',\"boy\",'cat','elephant','fan','gun','hen','ice-cream']\n",
    "\n",
    "for x in list1:\n",
    "    print(x)"
   ]
  },
  {
   "cell_type": "code",
   "execution_count": 7,
   "id": "67b17851-f9c8-43c2-81db-766ce363d96a",
   "metadata": {},
   "outputs": [
    {
     "name": "stdout",
     "output_type": "stream",
     "text": [
      "Hello\n",
      "Apple\n",
      "boy\n",
      "cat\n",
      "elephant\n",
      "fan\n",
      "gun\n",
      "hen\n",
      "ice-cream\n"
     ]
    }
   ],
   "source": [
    "tuple1=('Hello','Apple',\"boy\",'cat','elephant','fan','gun','hen','ice-cream')\n",
    "\n",
    "\n",
    "for i in tuple1:\n",
    "    print(i)"
   ]
  },
  {
   "cell_type": "code",
   "execution_count": 14,
   "id": "81639e86-9886-466c-8131-69c5b4f44931",
   "metadata": {},
   "outputs": [
    {
     "name": "stdout",
     "output_type": "stream",
     "text": [
      "10\n",
      "20\n",
      "30\n",
      "40\n",
      "50\n",
      "60\n",
      "70\n",
      "80\n",
      "90\n",
      "100\n"
     ]
    }
   ],
   "source": [
    "list1=[10,20,30,40,50,60,70,80,90,100]\n",
    "#print(len(list1))\n",
    "for i in range(len(list1)):\n",
    "    print(list1[i]) # 10 20"
   ]
  },
  {
   "cell_type": "code",
   "execution_count": 15,
   "id": "ebbe2fc4-262f-434c-94b9-49d6a8073763",
   "metadata": {},
   "outputs": [
    {
     "name": "stdout",
     "output_type": "stream",
     "text": [
      "2\n",
      "3\n",
      "4\n",
      "5\n",
      "6\n",
      "7\n",
      "8\n",
      "9\n",
      "10\n",
      "11\n",
      "12\n",
      "13\n",
      "14\n",
      "15\n",
      "16\n",
      "17\n",
      "18\n",
      "19\n"
     ]
    }
   ],
   "source": [
    "# range()\n",
    "for i in range(2,20):\n",
    "    print(i)"
   ]
  },
  {
   "cell_type": "code",
   "execution_count": 21,
   "id": "05b9ea80-675b-4598-ad48-63fd39deeb2e",
   "metadata": {},
   "outputs": [
    {
     "name": "stdout",
     "output_type": "stream",
     "text": [
      "19 X 1 = 19\n",
      "19 X 2 = 38\n",
      "19 X 3 = 57\n",
      "19 X 4 = 76\n",
      "19 X 5 = 95\n",
      "19 X 6 = 114\n",
      "19 X 7 = 133\n",
      "19 X 8 = 152\n",
      "19 X 9 = 171\n",
      "19 X 10 = 190\n"
     ]
    }
   ],
   "source": [
    "x# table print using for loop [19x1=19x2=38]\n",
    "num=19\n",
    "\n",
    "for i in range(1,11):\n",
    "    print(num,'X',i,'=',num*i)"
   ]
  },
  {
   "cell_type": "code",
   "execution_count": 24,
   "id": "36985441-4d8c-47da-b1a1-bbf9faa2371c",
   "metadata": {},
   "outputs": [
    {
     "name": "stdin",
     "output_type": "stream",
     "text": [
      "Enter any number: 21\n"
     ]
    },
    {
     "name": "stdout",
     "output_type": "stream",
     "text": [
      "21X1=21\n",
      "21X2=42\n",
      "21X3=63\n",
      "21X4=84\n",
      "21X5=105\n",
      "21X6=126\n",
      "21X7=147\n",
      "21X8=168\n",
      "21X9=189\n",
      "21X10=210\n"
     ]
    }
   ],
   "source": [
    "num=int(input('Enter any number:'))\n",
    "\n",
    "for i in range(1,11):\n",
    "    print(\"{}X{}={}\".format(num,i,num*i))"
   ]
  },
  {
   "cell_type": "code",
   "execution_count": 28,
   "id": "80c37818-970e-468a-800a-3352d3b1c070",
   "metadata": {},
   "outputs": [
    {
     "name": "stdin",
     "output_type": "stream",
     "text": [
      "Enter any number: 10\n"
     ]
    },
    {
     "name": "stdout",
     "output_type": "stream",
     "text": [
      "10X1=10\n",
      "10X2=20\n",
      "10X3=30\n",
      "10X4=40\n",
      "10X5=50\n",
      "10X6=60\n",
      "10X7=70\n",
      "10X8=80\n",
      "10X9=90\n",
      "10X10=100\n"
     ]
    }
   ],
   "source": [
    "# string sotre\n",
    "\n",
    "num1=int(input('Enter any number:'))\n",
    "\n",
    "for i in range(1,10+1):\n",
    "    print(\"%dX%d=%d\"%(num1,i,num1*i))"
   ]
  },
  {
   "cell_type": "code",
   "execution_count": 31,
   "id": "fa49de74-7146-494d-9af5-91794b6b8fce",
   "metadata": {},
   "outputs": [
    {
     "name": "stdout",
     "output_type": "stream",
     "text": [
      "[2, 4, 6, 8, 10, 12, 14, 16, 18, 20, 22, 24, 26, 28, 30, 32, 34, 36, 38, 40, 42, 44, 46, 48, 50]\n"
     ]
    }
   ],
   "source": [
    "# range 50 all even number\n",
    "list1=[]\n",
    "for i in range(1,51):\n",
    "    if i%2==0:\n",
    "        list1.append(i)\n",
    "        # print(i)\n",
    "\n",
    "print(list1)"
   ]
  },
  {
   "cell_type": "code",
   "execution_count": 33,
   "id": "fcf006b3-d709-4a1f-b5a8-dbc413c778b2",
   "metadata": {},
   "outputs": [
    {
     "name": "stdin",
     "output_type": "stream",
     "text": [
      "Enter any starting range: 10\n"
     ]
    },
    {
     "name": "stdout",
     "output_type": "stream",
     "text": [
      "[1, 3, 5, 7, 9]\n"
     ]
    }
   ],
   "source": [
    "# filter odd number from user \n",
    "num=int(input('Enter any starting range:'))\n",
    "odd_list1=[]\n",
    "for i in range(1,num+1):\n",
    "    if i%2!=0:\n",
    "        odd_list1.append(i)\n",
    "\n",
    "\n",
    "print(odd_list1)"
   ]
  },
  {
   "cell_type": "code",
   "execution_count": 36,
   "id": "8a15588f-066e-4853-a66c-462c164f2ceb",
   "metadata": {},
   "outputs": [
    {
     "name": "stdout",
     "output_type": "stream",
     "text": [
      "10\n",
      "20\n",
      "30\n",
      "40\n",
      "50\n",
      "60\n",
      "70\n",
      "80\n",
      "90\n",
      "100\n"
     ]
    }
   ],
   "source": [
    "list1=[10,20,30,40,50,60,70,80,90,100]\n",
    "\n",
    "\n",
    "for i in range(len(list1)):\n",
    "    print(list1[i])"
   ]
  },
  {
   "cell_type": "code",
   "execution_count": 40,
   "id": "47109c8d-ebfd-43cd-b733-8ffdb751fe17",
   "metadata": {},
   "outputs": [
    {
     "name": "stdout",
     "output_type": "stream",
     "text": [
      "550\n"
     ]
    }
   ],
   "source": [
    "#find the sum of the list\n",
    "sum1=0    #+10=10+20=30+30=60+40=100+50=150+60=210+70=280+80=360+90=450+100=550\n",
    "for i in list1:\n",
    "    sum1+=i\n",
    "    # print(sum1)\n",
    "    \n",
    "print(sum1)  "
   ]
  },
  {
   "cell_type": "code",
   "execution_count": 41,
   "id": "32a52cff-51ca-4dfb-9ab8-1c359050e431",
   "metadata": {},
   "outputs": [
    {
     "name": "stdout",
     "output_type": "stream",
     "text": [
      "550\n"
     ]
    }
   ],
   "source": [
    "sum2=0\n",
    "for x in list1:\n",
    "    sum2=sum2+x\n",
    "    \n",
    "print(sum2)    "
   ]
  },
  {
   "cell_type": "code",
   "execution_count": null,
   "id": "7be3076c-b0dd-4b71-a2f5-d450a24ba25b",
   "metadata": {},
   "outputs": [],
   "source": []
  }
 ],
 "metadata": {
  "kernelspec": {
   "display_name": "Python 3 (ipykernel)",
   "language": "python",
   "name": "python3"
  },
  "language_info": {
   "codemirror_mode": {
    "name": "ipython",
    "version": 3
   },
   "file_extension": ".py",
   "mimetype": "text/x-python",
   "name": "python",
   "nbconvert_exporter": "python",
   "pygments_lexer": "ipython3",
   "version": "3.12.2"
  }
 },
 "nbformat": 4,
 "nbformat_minor": 5
}
