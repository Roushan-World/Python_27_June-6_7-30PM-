{
 "cells": [
  {
   "cell_type": "markdown",
   "id": "4c75a322-8a77-4ef9-b732-64a91dc98c2d",
   "metadata": {},
   "source": [
    "# 4. Tuples in python\n",
    "\n",
    " * __Tuples are immutable data types in Python.__\n",
    " * __They are enclosed with parenthesis and not with sequare braces.__\n",
    " * __Tuples are oredered, indexed collections data type.__\n",
    " * __Similar to the list, it has positive indexd satrts with [0] and netagive is [-1]__\n",
    " * __Tuples are comma seperated values.__\n",
    " * __Tuples are allowed to store multiple data types, list,string,float, integer, boolean,sets,dictionary etc.__"
   ]
  },
  {
   "cell_type": "code",
   "execution_count": 5,
   "id": "f1576cf9-1506-43e1-9b52-1ec27c14b3b9",
   "metadata": {},
   "outputs": [
    {
     "name": "stdout",
     "output_type": "stream",
     "text": [
      "[]\n",
      "<class 'list'>\n"
     ]
    }
   ],
   "source": [
    "list1=[]\n",
    "print(list1)\n",
    "print(type(list1))"
   ]
  },
  {
   "cell_type": "code",
   "execution_count": 6,
   "id": "8d3ab66b-23fb-4d34-8af1-0e0d375797c9",
   "metadata": {},
   "outputs": [
    {
     "name": "stdout",
     "output_type": "stream",
     "text": [
      "()\n",
      "<class 'tuple'>\n"
     ]
    }
   ],
   "source": [
    "tuple1=()  # parenthesis\n",
    "print(tuple1)\n",
    "print(type(tuple1))\n"
   ]
  },
  {
   "cell_type": "code",
   "execution_count": 10,
   "id": "480f7953-7743-475b-8699-24e18bd0a66e",
   "metadata": {},
   "outputs": [
    {
     "name": "stdout",
     "output_type": "stream",
     "text": [
      "(1,)\n",
      "<class 'tuple'>\n"
     ]
    }
   ],
   "source": [
    "tuple1=(1,)\n",
    "print(tuple1)\n",
    "print(type(tuple1))"
   ]
  },
  {
   "cell_type": "code",
   "execution_count": 13,
   "id": "888e8166-15aa-4eca-ac62-565d99f72519",
   "metadata": {},
   "outputs": [
    {
     "data": {
      "text/plain": [
       "('H',)"
      ]
     },
     "execution_count": 13,
     "metadata": {},
     "output_type": "execute_result"
    }
   ],
   "source": [
    "# tuple(): it takes exactly one element inside tuple() method\n",
    "\n",
    "x=tuple(\"H\")\n",
    "x"
   ]
  },
  {
   "cell_type": "code",
   "execution_count": 14,
   "id": "0f9213e0-85a5-4d54-90ca-077e63cd65bf",
   "metadata": {},
   "outputs": [
    {
     "data": {
      "text/plain": [
       "('Hello world',\n",
       " 3.147,\n",
       " 1.618,\n",
       " 2.718,\n",
       " True,\n",
       " False,\n",
       " ('Hello Python', 'Google', 'yahoo', 'Safari', 'Firefox', 'edge'))"
      ]
     },
     "execution_count": 14,
     "metadata": {},
     "output_type": "execute_result"
    }
   ],
   "source": [
    "# tuple1\n",
    "\n",
    "tuple1=('Hello world',3.147,1.618,2.718,True,False,('Hello Python','Google',\"yahoo\",'Safari','Firefox','edge'))\n",
    "tuple1"
   ]
  },
  {
   "cell_type": "code",
   "execution_count": 15,
   "id": "90d7c800-23ce-4da2-b964-1331d8aab9da",
   "metadata": {},
   "outputs": [
    {
     "name": "stdout",
     "output_type": "stream",
     "text": [
      "<class 'tuple'>\n"
     ]
    }
   ],
   "source": [
    "print(type(tuple1))"
   ]
  },
  {
   "cell_type": "code",
   "execution_count": 18,
   "id": "6a4ca815-0bf7-4507-89b5-5cc7663ba1d8",
   "metadata": {},
   "outputs": [
    {
     "name": "stdout",
     "output_type": "stream",
     "text": [
      "Hello world\n",
      "3.147\n"
     ]
    }
   ],
   "source": [
    "# Accessing Positive index:\n",
    "print(tuple1[0])\n",
    "print(tuple1[1])"
   ]
  },
  {
   "cell_type": "code",
   "execution_count": 27,
   "id": "fdebedf1-1b1c-470a-830b-87b2232ee8ca",
   "metadata": {},
   "outputs": [
    {
     "name": "stdout",
     "output_type": "stream",
     "text": [
      "('Hello Python', 'Google', 'yahoo', 'Safari', 'Firefox', 'edge')\n"
     ]
    }
   ],
   "source": [
    "# Accessing negative index:\n",
    "print(tuple1[-1])"
   ]
  },
  {
   "cell_type": "code",
   "execution_count": 29,
   "id": "fd485684-d81e-42dc-b741-4596dbdd583f",
   "metadata": {},
   "outputs": [
    {
     "name": "stdout",
     "output_type": "stream",
     "text": [
      "('Hello world', 'Hye Python')\n"
     ]
    }
   ],
   "source": [
    "# Concatenation of tuple\n",
    "\n",
    "tup1=('Hello world',)\n",
    "\n",
    "tup2=('Hye Python',)\n",
    "print(tup1+tup2)"
   ]
  },
  {
   "cell_type": "code",
   "execution_count": 32,
   "id": "c887372e-da38-4589-8213-2d6d885b5eed",
   "metadata": {},
   "outputs": [
    {
     "data": {
      "text/plain": [
       "('Hello world', 'Hello world', 'Hello world', 'Hello world', 'Hello world')"
      ]
     },
     "execution_count": 32,
     "metadata": {},
     "output_type": "execute_result"
    }
   ],
   "source": [
    "# Repetation of an element\n",
    "\n",
    "tuple1=('Hello world',)\n",
    "tuple1*5"
   ]
  },
  {
   "cell_type": "code",
   "execution_count": 42,
   "id": "fbe65eec-fa1a-487b-b0cd-7d38870749a2",
   "metadata": {},
   "outputs": [
    {
     "data": {
      "text/plain": [
       "('Hye Rishav', 'Dev', 'Ali')"
      ]
     },
     "execution_count": 42,
     "metadata": {},
     "output_type": "execute_result"
    }
   ],
   "source": [
    "# Tuple is immutable data type in python\n",
    "\n",
    "tuple1=('Hye Rishav','Dev','Ali')\n",
    "tuple1"
   ]
  },
  {
   "cell_type": "code",
   "execution_count": 43,
   "id": "bedfbadf-674d-4400-b30f-ff070a231f10",
   "metadata": {},
   "outputs": [
    {
     "data": {
      "text/plain": [
       "tuple"
      ]
     },
     "execution_count": 43,
     "metadata": {},
     "output_type": "execute_result"
    }
   ],
   "source": [
    "type(tuple1)"
   ]
  },
  {
   "cell_type": "code",
   "execution_count": 44,
   "id": "5a9d825a-460c-48d8-9b12-d865fec32096",
   "metadata": {},
   "outputs": [
    {
     "ename": "TypeError",
     "evalue": "'tuple' object does not support item assignment",
     "output_type": "error",
     "traceback": [
      "\u001b[1;31m---------------------------------------------------------------------------\u001b[0m",
      "\u001b[1;31mTypeError\u001b[0m                                 Traceback (most recent call last)",
      "Cell \u001b[1;32mIn[44], line 1\u001b[0m\n\u001b[1;32m----> 1\u001b[0m \u001b[43mtuple1\u001b[49m\u001b[43m[\u001b[49m\u001b[38;5;241;43m0\u001b[39;49m\u001b[43m]\u001b[49m \u001b[38;5;241m=\u001b[39m \u001b[38;5;124m\"\u001b[39m\u001b[38;5;124mHello world\u001b[39m\u001b[38;5;124m\"\u001b[39m\n\u001b[0;32m      2\u001b[0m tuple1\n",
      "\u001b[1;31mTypeError\u001b[0m: 'tuple' object does not support item assignment"
     ]
    }
   ],
   "source": [
    "tuple1[0] = \"Hello world\"\n",
    "tuple1"
   ]
  },
  {
   "cell_type": "code",
   "execution_count": 45,
   "id": "6b33bf85-543a-4312-8ad9-b2464843559e",
   "metadata": {},
   "outputs": [
    {
     "data": {
      "text/plain": [
       "('Hye Rishav', 'Dev', 'Ali')"
      ]
     },
     "execution_count": 45,
     "metadata": {},
     "output_type": "execute_result"
    }
   ],
   "source": [
    "tuple1"
   ]
  },
  {
   "cell_type": "code",
   "execution_count": 46,
   "id": "5f72db9e-bc8c-47f7-9bbf-f5937486c887",
   "metadata": {},
   "outputs": [
    {
     "ename": "TypeError",
     "evalue": "'tuple' object doesn't support item deletion",
     "output_type": "error",
     "traceback": [
      "\u001b[1;31m---------------------------------------------------------------------------\u001b[0m",
      "\u001b[1;31mTypeError\u001b[0m                                 Traceback (most recent call last)",
      "Cell \u001b[1;32mIn[46], line 1\u001b[0m\n\u001b[1;32m----> 1\u001b[0m \u001b[38;5;28;01mdel\u001b[39;00m(\u001b[43mtuple1\u001b[49m\u001b[43m[\u001b[49m\u001b[38;5;241;43m0\u001b[39;49m\u001b[43m]\u001b[49m)\n",
      "\u001b[1;31mTypeError\u001b[0m: 'tuple' object doesn't support item deletion"
     ]
    }
   ],
   "source": [
    "del(tuple1[0])"
   ]
  },
  {
   "cell_type": "code",
   "execution_count": 49,
   "id": "b876d999-4064-4a58-91f8-cf357b0a9930",
   "metadata": {},
   "outputs": [
    {
     "data": {
      "text/plain": [
       "('Hye Rishav', 'Dev', 'Ali')"
      ]
     },
     "execution_count": 49,
     "metadata": {},
     "output_type": "execute_result"
    }
   ],
   "source": [
    "# del(): You can not delete one element inside the tuple but you can delete the whole tuple.\n",
    "\n",
    "tuple1"
   ]
  },
  {
   "cell_type": "code",
   "execution_count": 50,
   "id": "10401c09-6b4a-4ef2-ab98-92ae87d270dc",
   "metadata": {},
   "outputs": [],
   "source": [
    "del(tuple1)"
   ]
  },
  {
   "cell_type": "code",
   "execution_count": 51,
   "id": "c6462324-d2a5-4017-8ffe-f72af147f50b",
   "metadata": {},
   "outputs": [
    {
     "ename": "NameError",
     "evalue": "name 'tuple1' is not defined",
     "output_type": "error",
     "traceback": [
      "\u001b[1;31m---------------------------------------------------------------------------\u001b[0m",
      "\u001b[1;31mNameError\u001b[0m                                 Traceback (most recent call last)",
      "Cell \u001b[1;32mIn[51], line 1\u001b[0m\n\u001b[1;32m----> 1\u001b[0m \u001b[43mtuple1\u001b[49m\n",
      "\u001b[1;31mNameError\u001b[0m: name 'tuple1' is not defined"
     ]
    }
   ],
   "source": [
    "tuple1"
   ]
  },
  {
   "cell_type": "code",
   "execution_count": 56,
   "id": "a22a3617-380e-4da3-8db9-e97befd2bc7b",
   "metadata": {},
   "outputs": [
    {
     "name": "stdout",
     "output_type": "stream",
     "text": [
      "10\n",
      "89.2\n",
      "284.43\n",
      "7\n",
      "40.63285714285714\n"
     ]
    }
   ],
   "source": [
    "# Aggrigate function\n",
    "\n",
    "# min,max,sum,avg,len\n",
    "\n",
    "tup1=(10,20,30,40,50,45.23,89.20)\n",
    "print(min(tup1))\n",
    "print(max(tup1))\n",
    "print(sum(tup1))\n",
    "print(len(tup1))\n",
    "print(sum(tup1)/len(tup1))"
   ]
  },
  {
   "cell_type": "code",
   "execution_count": null,
   "id": "542cbc77-f042-4b87-948f-0688659f6f74",
   "metadata": {},
   "outputs": [],
   "source": []
  }
 ],
 "metadata": {
  "kernelspec": {
   "display_name": "Python 3 (ipykernel)",
   "language": "python",
   "name": "python3"
  },
  "language_info": {
   "codemirror_mode": {
    "name": "ipython",
    "version": 3
   },
   "file_extension": ".py",
   "mimetype": "text/x-python",
   "name": "python",
   "nbconvert_exporter": "python",
   "pygments_lexer": "ipython3",
   "version": "3.12.2"
  }
 },
 "nbformat": 4,
 "nbformat_minor": 5
}
