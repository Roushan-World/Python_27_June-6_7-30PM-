{
 "cells": [
  {
   "cell_type": "markdown",
   "id": "3374f3a0-45b5-4d5e-b21f-c1fb20f63ecf",
   "metadata": {},
   "source": [
    "# 10. Exceptional Handling in Python\n",
    "\n",
    " * __An exception is an event, which occurs during the execution of a program that disrupts the normal flow of the program's instructions.__\n",
    " * __In general, when a Python scripts encounters a situation that it cannot cope with, it raises an exceptions.__\n",
    " * __An exception is a Python objects that represents an error.__\n",
    " * __When a Python secripts raises an exception, it must either handle the exception immediately otherwise it terminates and quits.__\n",
    " * __If you have some suspicious code that may raises an exception, you defend your program by placing the suspicious code in a try:block.__\n",
    " * __After the try:block, include an except:statement, followed by a block of code which handles the problem as eslegantly as possible.__\n",
    " * __Common Exceptions__\n",
    " * __SyntaxError__\n",
    " * __IndentationError__\n",
    " * __ZeroDivisionError.__\n",
    " * __TypeError__\n",
    " * __ValueError__\n",
    " * __EOFError__\n",
    " * __IOError__\n",
    " * __UnicodeError__"
   ]
  },
  {
   "cell_type": "code",
   "execution_count": 5,
   "id": "450fb17f-c72b-4b5a-9ad5-4b0a4af1c27d",
   "metadata": {},
   "outputs": [
    {
     "data": {
      "text/plain": [
       "20"
      ]
     },
     "execution_count": 5,
     "metadata": {},
     "output_type": "execute_result"
    }
   ],
   "source": [
    "x=[\"Hello world\",\"Apple\",\"Boy\",\"Cat\",10,20]\n",
    "x[5]"
   ]
  },
  {
   "cell_type": "code",
   "execution_count": 3,
   "id": "20839454-63bc-4d92-a268-ac2a8f70146a",
   "metadata": {},
   "outputs": [
    {
     "ename": "IndexError",
     "evalue": "list index out of range",
     "output_type": "error",
     "traceback": [
      "\u001b[1;31m---------------------------------------------------------------------------\u001b[0m",
      "\u001b[1;31mIndexError\u001b[0m                                Traceback (most recent call last)",
      "Cell \u001b[1;32mIn[3], line 1\u001b[0m\n\u001b[1;32m----> 1\u001b[0m \u001b[43mx\u001b[49m\u001b[43m[\u001b[49m\u001b[38;5;241;43m6\u001b[39;49m\u001b[43m]\u001b[49m\n\u001b[0;32m      2\u001b[0m \u001b[38;5;28mprint\u001b[39m(\u001b[38;5;124m'\u001b[39m\u001b[38;5;124mhello world\u001b[39m\u001b[38;5;124m'\u001b[39m)\n",
      "\u001b[1;31mIndexError\u001b[0m: list index out of range"
     ]
    }
   ],
   "source": [
    "x[6]\n",
    "print('hello world')"
   ]
  },
  {
   "cell_type": "code",
   "execution_count": 7,
   "id": "5882310b-2123-4a0f-9e0e-9bad622491ce",
   "metadata": {},
   "outputs": [
    {
     "ename": "ZeroDivisionError",
     "evalue": "division by zero",
     "output_type": "error",
     "traceback": [
      "\u001b[1;31m---------------------------------------------------------------------------\u001b[0m",
      "\u001b[1;31mZeroDivisionError\u001b[0m                         Traceback (most recent call last)",
      "Cell \u001b[1;32mIn[7], line 1\u001b[0m\n\u001b[1;32m----> 1\u001b[0m \u001b[38;5;28mprint\u001b[39m(\u001b[38;5;241;43m1\u001b[39;49m\u001b[38;5;241;43m/\u001b[39;49m\u001b[38;5;241;43m0\u001b[39;49m)\n\u001b[0;32m      2\u001b[0m \u001b[38;5;28mprint\u001b[39m(\u001b[38;5;124m'\u001b[39m\u001b[38;5;124mHello World\u001b[39m\u001b[38;5;124m'\u001b[39m)\n",
      "\u001b[1;31mZeroDivisionError\u001b[0m: division by zero"
     ]
    }
   ],
   "source": [
    "print(1/0)\n",
    "print('Hello World')"
   ]
  },
  {
   "cell_type": "code",
   "execution_count": 11,
   "id": "97c3cac2-8cd1-49f3-ba65-3351ed428b1b",
   "metadata": {},
   "outputs": [
    {
     "name": "stdout",
     "output_type": "stream",
     "text": [
      "It gives an Error ZeroDivsionError.\n",
      "Hello world\n"
     ]
    }
   ],
   "source": [
    "try:\n",
    "    1/0\n",
    "\n",
    "except ZeroDivisionError:\n",
    "    print('It gives an Error ZeroDivsionError.')\n",
    "\n",
    "print('Hello world')"
   ]
  },
  {
   "cell_type": "code",
   "execution_count": 22,
   "id": "43ea1fdf-edc0-4fe1-a12c-9d784297087b",
   "metadata": {},
   "outputs": [
    {
     "name": "stdin",
     "output_type": "stream",
     "text": [
      "Enter First Number: hello\n"
     ]
    },
    {
     "ename": "ValueError",
     "evalue": "invalid literal for int() with base 10: 'hello'",
     "output_type": "error",
     "traceback": [
      "\u001b[1;31m---------------------------------------------------------------------------\u001b[0m",
      "\u001b[1;31mValueError\u001b[0m                                Traceback (most recent call last)",
      "Cell \u001b[1;32mIn[22], line 4\u001b[0m\n\u001b[0;32m      1\u001b[0m \u001b[38;5;66;03m# wap to take input from the user and divide these numbers.\u001b[39;00m\n\u001b[0;32m      3\u001b[0m \u001b[38;5;28;01mtry\u001b[39;00m:\n\u001b[1;32m----> 4\u001b[0m     num1\u001b[38;5;241m=\u001b[39m\u001b[38;5;28;43mint\u001b[39;49m\u001b[43m(\u001b[49m\u001b[38;5;28;43minput\u001b[39;49m\u001b[43m(\u001b[49m\u001b[38;5;124;43m'\u001b[39;49m\u001b[38;5;124;43mEnter First Number:\u001b[39;49m\u001b[38;5;124;43m'\u001b[39;49m\u001b[43m)\u001b[49m\u001b[43m)\u001b[49m\n\u001b[0;32m      5\u001b[0m     num2\u001b[38;5;241m=\u001b[39m\u001b[38;5;28mint\u001b[39m(\u001b[38;5;28minput\u001b[39m(\u001b[38;5;124m'\u001b[39m\u001b[38;5;124mEnter Second Number:\u001b[39m\u001b[38;5;124m'\u001b[39m))\n\u001b[0;32m      6\u001b[0m     div\u001b[38;5;241m=\u001b[39mnum1\u001b[38;5;241m/\u001b[39mnum2\n",
      "\u001b[1;31mValueError\u001b[0m: invalid literal for int() with base 10: 'hello'"
     ]
    }
   ],
   "source": [
    "# wap to take input from the user and divide these numbers.\n",
    "\n",
    "try:\n",
    "    num1=int(input('Enter First Number:'))\n",
    "    num2=int(input('Enter Second Number:'))\n",
    "    div=num1/num2\n",
    "    print(div)\n",
    "    \n",
    "except ZeroDivisionError:\n",
    "    print('It gives ZeroDivisonError.You Can\"t give 0 as denominator.')"
   ]
  },
  {
   "cell_type": "markdown",
   "id": "368bc6d2-3755-4e52-b2db-cb4fe8eb7cf9",
   "metadata": {},
   "source": [
    "# try/except"
   ]
  },
  {
   "cell_type": "code",
   "execution_count": 28,
   "id": "4b06b2ae-7de2-49d3-ac95-fd3a558512d8",
   "metadata": {},
   "outputs": [
    {
     "name": "stdin",
     "output_type": "stream",
     "text": [
      "Enter First Number: 45\n",
      "Enter Second Number: hello\n"
     ]
    },
    {
     "name": "stdout",
     "output_type": "stream",
     "text": [
      "You Can't pass string value in the input value.It takes only numerical value.\n"
     ]
    }
   ],
   "source": [
    "# wap to take input from the user and divide these numbers.\n",
    "\n",
    "try:\n",
    "    num1=float(input('Enter First Number:'))\n",
    "    num2=float(input('Enter Second Number:'))\n",
    "    div=num1/num2\n",
    "    print(div)\n",
    "    \n",
    "except ZeroDivisionError:\n",
    "    print('It gives ZeroDivisonError.You Can\"t give 0 as denominator.')\n",
    "\n",
    "except ValueError:\n",
    "    print(\"You Can't pass string value in the input value.It takes only numerical value.\")"
   ]
  },
  {
   "cell_type": "code",
   "execution_count": 31,
   "id": "c7f28e20-1ee2-4294-a75b-b6bd92c153fb",
   "metadata": {},
   "outputs": [
    {
     "ename": "NameError",
     "evalue": "name 'y1' is not defined",
     "output_type": "error",
     "traceback": [
      "\u001b[1;31m---------------------------------------------------------------------------\u001b[0m",
      "\u001b[1;31mNameError\u001b[0m                                 Traceback (most recent call last)",
      "Cell \u001b[1;32mIn[31], line 4\u001b[0m\n\u001b[0;32m      2\u001b[0m x\u001b[38;5;241m=\u001b[39m\u001b[38;5;241m10\u001b[39m\n\u001b[0;32m      3\u001b[0m y\u001b[38;5;241m=\u001b[39mx\u001b[38;5;241m+\u001b[39m\u001b[38;5;241m5\u001b[39m\n\u001b[1;32m----> 4\u001b[0m \u001b[38;5;28mprint\u001b[39m(\u001b[43my1\u001b[49m)\n",
      "\u001b[1;31mNameError\u001b[0m: name 'y1' is not defined"
     ]
    }
   ],
   "source": [
    "# NameErro\n",
    "x=10\n",
    "y=x+5\n",
    "print(y1)"
   ]
  },
  {
   "cell_type": "code",
   "execution_count": 34,
   "id": "090090f0-f8de-4206-98b6-5b6580aecc4d",
   "metadata": {},
   "outputs": [
    {
     "name": "stdout",
     "output_type": "stream",
     "text": [
      "It gives a NameError\n"
     ]
    }
   ],
   "source": [
    "try:\n",
    "    x=10\n",
    "    y=x+5\n",
    "    print(y1)\n",
    "except NameError:\n",
    "    print('It gives a NameError')"
   ]
  },
  {
   "cell_type": "code",
   "execution_count": 39,
   "id": "72ef90dc-1b24-4764-91c8-48d80f116dcf",
   "metadata": {},
   "outputs": [
    {
     "ename": "TypeError",
     "evalue": "can only concatenate str (not \"int\") to str",
     "output_type": "error",
     "traceback": [
      "\u001b[1;31m---------------------------------------------------------------------------\u001b[0m",
      "\u001b[1;31mTypeError\u001b[0m                                 Traceback (most recent call last)",
      "Cell \u001b[1;32mIn[39], line 1\u001b[0m\n\u001b[1;32m----> 1\u001b[0m x\u001b[38;5;241m=\u001b[39m\u001b[38;5;124;43m'\u001b[39;49m\u001b[38;5;124;43mhello\u001b[39;49m\u001b[38;5;124;43m'\u001b[39;49m\u001b[38;5;241;43m+\u001b[39;49m\u001b[38;5;241;43m10\u001b[39;49m\n\u001b[0;32m      2\u001b[0m \u001b[38;5;28mprint\u001b[39m(x)\n",
      "\u001b[1;31mTypeError\u001b[0m: can only concatenate str (not \"int\") to str"
     ]
    }
   ],
   "source": [
    "x='hello'+10\n",
    "print(x)"
   ]
  },
  {
   "cell_type": "code",
   "execution_count": 49,
   "id": "39947dce-3810-44c9-9cfe-478386d7602e",
   "metadata": {},
   "outputs": [
    {
     "name": "stdin",
     "output_type": "stream",
     "text": [
      "Enter any value: 10\n"
     ]
    },
    {
     "name": "stdout",
     "output_type": "stream",
     "text": [
      "It gives us a TypeError\n"
     ]
    }
   ],
   "source": [
    "try:\n",
    "    user1=int(input('Enter any value:'))   #10\n",
    "    \n",
    "    sum1=\"Congratulations! \"+user1\n",
    "    print(sum1)\n",
    "\n",
    "except TypeError:\n",
    "    print('It gives us a TypeError')"
   ]
  },
  {
   "cell_type": "code",
   "execution_count": 50,
   "id": "822614f2-c405-481a-a3e5-a3bc0fe62d56",
   "metadata": {},
   "outputs": [
    {
     "ename": "IndexError",
     "evalue": "list index out of range",
     "output_type": "error",
     "traceback": [
      "\u001b[1;31m---------------------------------------------------------------------------\u001b[0m",
      "\u001b[1;31mIndexError\u001b[0m                                Traceback (most recent call last)",
      "Cell \u001b[1;32mIn[50], line 4\u001b[0m\n\u001b[0;32m      1\u001b[0m \u001b[38;5;66;03m# IndexError\u001b[39;00m\n\u001b[0;32m      3\u001b[0m x\u001b[38;5;241m=\u001b[39m[\u001b[38;5;241m10\u001b[39m,\u001b[38;5;241m20\u001b[39m,\u001b[38;5;241m30\u001b[39m,\u001b[38;5;241m40\u001b[39m,\u001b[38;5;241m50\u001b[39m,\u001b[38;5;241m60\u001b[39m,\u001b[38;5;241m70\u001b[39m,\u001b[38;5;241m80\u001b[39m,\u001b[38;5;241m90\u001b[39m,\u001b[38;5;241m100\u001b[39m]\n\u001b[1;32m----> 4\u001b[0m \u001b[43mx\u001b[49m\u001b[43m[\u001b[49m\u001b[38;5;241;43m11\u001b[39;49m\u001b[43m]\u001b[49m\n",
      "\u001b[1;31mIndexError\u001b[0m: list index out of range"
     ]
    }
   ],
   "source": [
    "# IndexError\n",
    "\n",
    "x=[10,20,30,40,50,60,70,80,90,100]\n",
    "x[11]"
   ]
  },
  {
   "cell_type": "code",
   "execution_count": 57,
   "id": "ed723a0e-a1fa-4f66-ac2e-8ba602e54b2f",
   "metadata": {},
   "outputs": [
    {
     "name": "stdin",
     "output_type": "stream",
     "text": [
      "Enter Index Number: 10\n"
     ]
    },
    {
     "name": "stdout",
     "output_type": "stream",
     "text": [
      "It gives IndexError\n"
     ]
    }
   ],
   "source": [
    "try:\n",
    "    x=[10,20,30,40,50,60,70,80,90,100]\n",
    "    y=int(input('Enter Index Number:'))\n",
    "    print(x[y])\n",
    "\n",
    "except IndexError:\n",
    "    print('It gives IndexError')\n",
    "    "
   ]
  },
  {
   "cell_type": "code",
   "execution_count": 60,
   "id": "947fd9a2-48eb-4e37-b659-e02d00e2a346",
   "metadata": {},
   "outputs": [
    {
     "name": "stdin",
     "output_type": "stream",
     "text": [
      "Enter Index Number: 5\n"
     ]
    },
    {
     "name": "stdout",
     "output_type": "stream",
     "text": [
      "60\n"
     ]
    }
   ],
   "source": [
    "try:\n",
    "    x=[10,20,30,40,50,60,70,80,90,100]\n",
    "    y=int(input('Enter Index Number:'))\n",
    "\n",
    "except IndexError:\n",
    "    print('It gives IndexError')\n",
    "\n",
    "else:\n",
    "    print(x[y])"
   ]
  },
  {
   "cell_type": "code",
   "execution_count": 68,
   "id": "369a278b-b345-4517-83b6-9f955449c8e7",
   "metadata": {},
   "outputs": [
    {
     "name": "stdin",
     "output_type": "stream",
     "text": [
      "Enter Index Number: 5\n"
     ]
    },
    {
     "name": "stdout",
     "output_type": "stream",
     "text": [
      "60\n",
      "You code is processed Successfully!!\n"
     ]
    }
   ],
   "source": [
    "# try/except/else/finally\n",
    "try:\n",
    "    x=[10,20,30,40,50,60,70,80,90,100]\n",
    "    y=int(input('Enter Index Number:'))\n",
    "    print(x[y])\n",
    "\n",
    "except IndexError:\n",
    "    print('It gives IndexError')\n",
    "\n",
    "# else:\n",
    "#     print(x[y])\n",
    "\n",
    "finally:\n",
    "    print('You code is processed Successfully!!')"
   ]
  },
  {
   "cell_type": "code",
   "execution_count": 82,
   "id": "9ae33dc3-4bc1-406b-b092-b95bc4ce5266",
   "metadata": {},
   "outputs": [
    {
     "name": "stdin",
     "output_type": "stream",
     "text": [
      "Enter You Name: 78\n"
     ]
    },
    {
     "name": "stdout",
     "output_type": "stream",
     "text": [
      "Vowels: 0 \n",
      "Vowels Char: []\n",
      "Consonent: 2 \n",
      "Const Char: ['7', '8']\n"
     ]
    }
   ],
   "source": [
    "# wap to find the vowels and consonent from user input string using exception.\n",
    "\n",
    "try:\n",
    "    user1=input('Enter You Name:')\n",
    "    def count():\n",
    "        vow=0   #1\n",
    "        const=0  #1+1=2\n",
    "        vow_list=[]\n",
    "        const_list=[]\n",
    "        for i in range(len(user1)):\n",
    "            if user1[i] in ['a','e','i','o','u','A','E','I',\"O\",\"U\"]:\n",
    "                vow+=1\n",
    "                vow_list.append(user1[i])\n",
    "            else:\n",
    "                const+=1\n",
    "                const_list.append(user1[i])\n",
    "        print('Vowels:',vow,'\\nVowels Char:',vow_list)\n",
    "        print('Consonent:',const,'\\nConst Char:',const_list)\n",
    "\n",
    "except ValueError:\n",
    "    print(\"It Gives valueError\")\n",
    "\n",
    "except KeyboardInterrupt:\n",
    "    print('Enter value:')\n",
    "count()             "
   ]
  },
  {
   "cell_type": "code",
   "execution_count": 84,
   "id": "9ab8828a-9964-4e6a-aa26-de74aa8aa450",
   "metadata": {},
   "outputs": [
    {
     "ename": "IndentationError",
     "evalue": "expected an indented block after 'for' statement on line 3 (1635159875.py, line 4)",
     "output_type": "error",
     "traceback": [
      "\u001b[1;36m  Cell \u001b[1;32mIn[84], line 4\u001b[1;36m\u001b[0m\n\u001b[1;33m    print(i)\u001b[0m\n\u001b[1;37m    ^\u001b[0m\n\u001b[1;31mIndentationError\u001b[0m\u001b[1;31m:\u001b[0m expected an indented block after 'for' statement on line 3\n"
     ]
    }
   ],
   "source": [
    "user1=int(input('Enter any Number:'))\n",
    "\n",
    "for i in range(1,user1+1):\n",
    "print(i)\n",
    "    "
   ]
  },
  {
   "cell_type": "code",
   "execution_count": 93,
   "id": "2596d1ab-1bd2-41bd-9c3e-a509b8b9f3ba",
   "metadata": {},
   "outputs": [
    {
     "ename": "IndentationError",
     "evalue": "unexpected indent (822090323.py, line 4)",
     "output_type": "error",
     "traceback": [
      "\u001b[1;36m  Cell \u001b[1;32mIn[93], line 4\u001b[1;36m\u001b[0m\n\u001b[1;33m    print(\"World\")\u001b[0m\n\u001b[1;37m    ^\u001b[0m\n\u001b[1;31mIndentationError\u001b[0m\u001b[1;31m:\u001b[0m unexpected indent\n"
     ]
    }
   ],
   "source": [
    "try:\n",
    "    if True:\n",
    "        print(\"Hello\")\n",
    "         print(\"World\")\n",
    "\n",
    "except:\n",
    "    print('Error')"
   ]
  },
  {
   "cell_type": "code",
   "execution_count": 92,
   "id": "879b6eb9-95a9-4caf-b9d5-0147b196c164",
   "metadata": {},
   "outputs": [
    {
     "ename": "IndentationError",
     "evalue": "unexpected indent (1266838141.py, line 3)",
     "output_type": "error",
     "traceback": [
      "\u001b[1;36m  Cell \u001b[1;32mIn[92], line 3\u001b[1;36m\u001b[0m\n\u001b[1;33m    print(\"World\")\u001b[0m\n\u001b[1;37m    ^\u001b[0m\n\u001b[1;31mIndentationError\u001b[0m\u001b[1;31m:\u001b[0m unexpected indent\n"
     ]
    }
   ],
   "source": [
    "if True:\n",
    "  print(\"Hello\")\n",
    "   print(\"World\")"
   ]
  },
  {
   "cell_type": "code",
   "execution_count": 100,
   "id": "e0a1da93-e1bb-488c-a71f-fc92f21658ff",
   "metadata": {},
   "outputs": [
    {
     "ename": "IndentationError",
     "evalue": "unexpected indent (1415531743.py, line 4)",
     "output_type": "error",
     "traceback": [
      "\u001b[1;36m  Cell \u001b[1;32mIn[100], line 4\u001b[1;36m\u001b[0m\n\u001b[1;33m    print(\"World\")\u001b[0m\n\u001b[1;37m    ^\u001b[0m\n\u001b[1;31mIndentationError\u001b[0m\u001b[1;31m:\u001b[0m unexpected indent\n"
     ]
    }
   ],
   "source": [
    "try:\n",
    "    if True:\n",
    "        try:\n",
    "        print(\"Hello\")\n",
    "            print(\"World\")\n",
    "        except \n",
    "\n",
    "except IndentationError:\n",
    "    print('Error')"
   ]
  },
  {
   "cell_type": "code",
   "execution_count": null,
   "id": "58d0cb73-f3b2-4c51-8b51-07be64970e64",
   "metadata": {},
   "outputs": [],
   "source": []
  }
 ],
 "metadata": {
  "kernelspec": {
   "display_name": "Python 3 (ipykernel)",
   "language": "python",
   "name": "python3"
  },
  "language_info": {
   "codemirror_mode": {
    "name": "ipython",
    "version": 3
   },
   "file_extension": ".py",
   "mimetype": "text/x-python",
   "name": "python",
   "nbconvert_exporter": "python",
   "pygments_lexer": "ipython3",
   "version": "3.12.2"
  }
 },
 "nbformat": 4,
 "nbformat_minor": 5
}
