{
 "cells": [
  {
   "cell_type": "markdown",
   "id": "5e0eb2d3-b95b-42f1-b431-c97ab57ef40d",
   "metadata": {},
   "source": [
    "# 7. Condtions in python"
   ]
  },
  {
   "cell_type": "code",
   "execution_count": 2,
   "id": "2b4280e0-8fa3-4964-8fa8-3e8fc709fb9c",
   "metadata": {},
   "outputs": [],
   "source": [
    "# comparison operators.\n"
   ]
  },
  {
   "cell_type": "code",
   "execution_count": 3,
   "id": "1a563267-ed18-404b-9a06-802009ddc36d",
   "metadata": {},
   "outputs": [
    {
     "name": "stdout",
     "output_type": "stream",
     "text": [
      "You are baby\n"
     ]
    }
   ],
   "source": [
    "age=5\n",
    "\n",
    "if age>6:\n",
    "    print('You can go to primary school.')\n",
    "else:\n",
    "    print('You are baby')"
   ]
  },
  {
   "cell_type": "code",
   "execution_count": 4,
   "id": "2b663666-c0d3-48d6-bb0a-5375c2382d65",
   "metadata": {},
   "outputs": [
    {
     "name": "stdout",
     "output_type": "stream",
     "text": [
      "You can go to kindergarten.\n"
     ]
    }
   ],
   "source": [
    "# if/elif/else3\n",
    "age=5\n",
    "\n",
    "if age>6:\n",
    "    print('You can go to primary school')\n",
    "elif age==5:\n",
    "    print('You can go to kindergarten.')\n",
    "else:\n",
    "    print('you are baby')"
   ]
  },
  {
   "cell_type": "code",
   "execution_count": 5,
   "id": "66a6c82d-4160-4384-a3fd-ca356d30a6f1",
   "metadata": {},
   "outputs": [
    {
     "data": {
      "text/plain": [
       "True"
      ]
     },
     "execution_count": 5,
     "metadata": {},
     "output_type": "execute_result"
    }
   ],
   "source": [
    "5==5"
   ]
  },
  {
   "cell_type": "code",
   "execution_count": 15,
   "id": "f1c15527-023b-40d0-807b-dd3fabc6ad30",
   "metadata": {},
   "outputs": [
    {
     "name": "stdin",
     "output_type": "stream",
     "text": [
      "Enter your age 18\n"
     ]
    },
    {
     "name": "stdout",
     "output_type": "stream",
     "text": [
      "You can vote Now.\n"
     ]
    }
   ],
   "source": [
    "age=int(input('Enter your age'))\n",
    "\n",
    "\n",
    "if age>=18:\n",
    "    print('You can vote Now.')\n",
    "\n",
    "else:\n",
    "    print('You can not vote')"
   ]
  },
  {
   "cell_type": "code",
   "execution_count": 11,
   "id": "68025ab3-de98-495a-bd4e-226f8b9e32c7",
   "metadata": {},
   "outputs": [
    {
     "data": {
      "text/plain": [
       "100"
      ]
     },
     "execution_count": 11,
     "metadata": {},
     "output_type": "execute_result"
    }
   ],
   "source": [
    "age"
   ]
  },
  {
   "cell_type": "code",
   "execution_count": 40,
   "id": "193512a6-5516-4878-abef-d6c88c2f543f",
   "metadata": {},
   "outputs": [
    {
     "name": "stdin",
     "output_type": "stream",
     "text": [
      "Enter your age: 102\n"
     ]
    },
    {
     "name": "stdout",
     "output_type": "stream",
     "text": [
      "Your are not Alean\n"
     ]
    }
   ],
   "source": [
    "# Baby: 0-12 mos.\n",
    "# Toddler: 1-3 yrs\n",
    "# Preschool: 3-5 yrs.\n",
    "# Gradeschooler: 5-12 yrs.\n",
    "# Teen: 12-18 yrs.\n",
    "# Young Adult: 18-21 yrs\n",
    "# middle age: 21-59 yrs.\n",
    "# senior citizen: 60+ years.\n",
    "\n",
    "age=int(input('Enter your age:'))\n",
    "if age>0:\n",
    "    if age>0 and age<=101:\n",
    "        if age>0 and age<=1:\n",
    "            print(f'Your Age is:{age} and you are Baby')\n",
    "        elif age>1 and age<=3:\n",
    "            print(f'Your age is {age} and you a toddler.')\n",
    "        \n",
    "        elif age>3 and age<=5:\n",
    "            print(f'Your age is {age} and you are preschooler')\n",
    "        \n",
    "        elif age>5 and age<=12:\n",
    "            print(f'Your age is {age} and you a gradeschooler.')\n",
    "        \n",
    "        elif age>12 and age<=18:\n",
    "            print(f'Your age is{age} and you are a teenager.')\n",
    "        \n",
    "        elif age>18 and age<=21:\n",
    "            print(f'Your age is {age} and you are a young adult.')\n",
    "        \n",
    "        elif age>21 and age<=59:\n",
    "            print(f'Your age is {age} and you are a middle adult.')\n",
    "        \n",
    "        else:\n",
    "            print(f'Your age is {age} and you are senior citizen.')\n",
    "    else:\n",
    "        print('Your are not Alean')\n",
    "\n",
    "else:\n",
    "    print('Age is not in Negative Value')"
   ]
  },
  {
   "cell_type": "code",
   "execution_count": 41,
   "id": "fd3c4b8b-b77c-4902-bccd-f2e3214d2aa2",
   "metadata": {},
   "outputs": [],
   "source": [
    "#1.  Wap to display the month name if user enter the value 1=\"January\",2=\"February\",3=\"March\",4=\"April\" \n",
    "#13=\"Invalid Month name\" so no.\n",
    "#2. wap to display weekdays name if user enter the value 1=\"Monday\",2=\"Tuesday\",3=\"Wednesday\" \n",
    "# 8=\"Invaid Weekday name\"and so on.\n",
    "\n",
    "#3. Wap to take input from the user and display the even or odd number.\n",
    "\n",
    "#4.Wap to check user input number is divisible by 7 or not.\n",
    "\n",
    "#5.Wap to check user input number is divisible by 7,8.\n",
    "\n",
    "#6.wap to check the divisibility of 3,5,7.\n",
    "\n",
    "#7.wap to find the sum of three number input from the user.\n",
    "\n",
    "#8.wap to find the sum of three numbers if all numbers are less than 20 and if number is greater than 20 \n",
    "# then find the subtract or all numbers is greater than 30 then multiply the all.\n",
    "\n",
    "#9. Given a list=[10,20,30,40,50,60,70,80,90,100]\n",
    "# first reverse the value only 40 to 80 your product is 10,20,30,80,70,60,50,40,90,100\n",
    "# second reverse the whole list and your output will be list = [100,90,80,70,60,50,40,30,20,10]\n",
    "\n",
    "#10. wap to find the exponent of user input number.\n",
    "\n",
    "#11. Accept any city from the user and display their monument of the city.\n",
    "# City -------------------------------> \"Monument\"\n",
    "# Delhi-------------------------------> \"RedFort\"\n",
    "# Agra--------------------------------> \"TajMahal\"\n",
    "# Jaipur------------------------------> \"JalMahal,HawaMahal\"\n",
    "# AmritSar----------------------------> \"Golden Temple\"\n",
    "# Madurai-----------------------------> \"Meenakshi Temple\"\n",
    "# Mysore------------------------------> \"Mysore Palace\"\n",
    "# Mumbai------------------------------> \"Gateway of India\"\n",
    "# Sanchi------------------------------> \"Sanchi Stupa\"\n",
    "# Hydrabad----------------------------> \"Charminar\"\n",
    "\n",
    "#12. A shop will give discount of 20% if the cost purchased cost price is more than 1000 it will give\n",
    "# discount 10% below 1000 no discount, cost is not more than 3000.\n",
    "\n",
    "#13. A Company decided to give the bonus to the employee according to the following conditions:\n",
    "# Time period of services ---------------------> Bonus\n",
    "# More than 10 Years --------------------------> 10%\n",
    "# >=6 years and <=10 years---------------------> 8%\n",
    "# <6 years ------------------------------------> 5%\n",
    "# Ask the user for their salary and year of services and print the net bonus amount."
   ]
  },
  {
   "cell_type": "code",
   "execution_count": null,
   "id": "5de42b14-ea18-48c6-afd9-b47ec72647fe",
   "metadata": {},
   "outputs": [],
   "source": []
  }
 ],
 "metadata": {
  "kernelspec": {
   "display_name": "Python 3 (ipykernel)",
   "language": "python",
   "name": "python3"
  },
  "language_info": {
   "codemirror_mode": {
    "name": "ipython",
    "version": 3
   },
   "file_extension": ".py",
   "mimetype": "text/x-python",
   "name": "python",
   "nbconvert_exporter": "python",
   "pygments_lexer": "ipython3",
   "version": "3.12.2"
  }
 },
 "nbformat": 4,
 "nbformat_minor": 5
}
