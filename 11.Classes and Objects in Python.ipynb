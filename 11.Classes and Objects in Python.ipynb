{
 "cells": [
  {
   "cell_type": "markdown",
   "id": "0496a8f8-567e-4f9a-975e-a578d7d5a95f",
   "metadata": {},
   "source": [
    "# 11. Classes and Objects in Python\n",
    "\n",
    " * __Python is an objects-oriented programming language.__\n",
    " * __Unlike procedure-oriented, where the main emphasis is on functions, object-oriented programming, stresses on objects.__\n",
    " * __An object is simply a collections of data (variable) and methods (functions) that act on those data.__\n",
    " * __Similarly, a class is a blueprint for that object.__\n",
    " * __Like functions definitions begin with the def keyword in pyhton, class definitions begin with a class keyword.__\n",
    " * __The first string inside the class is called docstring and has s brief description of the class.__\n",
    " * __Although not mandatory, this is highly recommended.__"
   ]
  },
  {
   "cell_type": "code",
   "execution_count": 6,
   "id": "ac8bb35f-9768-465f-b802-6466c0cfc087",
   "metadata": {},
   "outputs": [
    {
     "name": "stdout",
     "output_type": "stream",
     "text": [
      "Rishabh\n",
      "45\n",
      "101\n",
      "CS\n",
      "Assam\n"
     ]
    }
   ],
   "source": [
    "class Student:\n",
    "    def __init__(self,name,age,rollno,subject,address):\n",
    "        self.name=name\n",
    "        self.age=age\n",
    "        self.rollno=rollno\n",
    "        self.subject=subject\n",
    "        self.address=address\n",
    "\n",
    "stu1=Student(\"Rishabh\",'45','101',\"CS\",\"Assam\")\n",
    "print(stu1.name)\n",
    "print(stu1.age)\n",
    "print(stu1.rollno)\n",
    "print(stu1.subject)\n",
    "print(stu1.address)"
   ]
  },
  {
   "cell_type": "code",
   "execution_count": 7,
   "id": "43e38823-f147-4181-a23c-516e272fd912",
   "metadata": {},
   "outputs": [
    {
     "data": {
      "text/plain": [
       "'Dev Shah'"
      ]
     },
     "execution_count": 7,
     "metadata": {},
     "output_type": "execute_result"
    }
   ],
   "source": [
    "stu2=Student('Dev Shah',23,102,\"CS\",\"Assam\")\n",
    "stu2.name"
   ]
  },
  {
   "cell_type": "code",
   "execution_count": 8,
   "id": "21fc6048-f9fd-46c5-8e89-1a26e6df4f0d",
   "metadata": {},
   "outputs": [
    {
     "data": {
      "text/plain": [
       "'Rishabh'"
      ]
     },
     "execution_count": 8,
     "metadata": {},
     "output_type": "execute_result"
    }
   ],
   "source": [
    "stu1.name"
   ]
  },
  {
   "cell_type": "code",
   "execution_count": 9,
   "id": "9cc4760e-20bc-40b8-a936-34e7472da0fc",
   "metadata": {},
   "outputs": [
    {
     "name": "stdout",
     "output_type": "stream",
     "text": [
      "Student name is:Rishabh\n",
      "Studnet Age is: 45\n",
      "Student rollno is:101\n",
      "Student Address is:Assam\n",
      "Student Subject is: CS\n"
     ]
    }
   ],
   "source": [
    "class Student:\n",
    "    def __init__(self,name,age,rollno,subject,address):\n",
    "        self.name=name\n",
    "        self.age=age\n",
    "        self.rollno=rollno\n",
    "        self.subject=subject\n",
    "        self.address=address\n",
    "    def details_stu(self):\n",
    "        print(f'Student name is:{self.name}')\n",
    "        print(f'Studnet Age is: {self.age}')\n",
    "        print(f'Student rollno is:{self.rollno}')\n",
    "        print(f'Student Address is:{self.address}')\n",
    "        print(f'Student Subject is: {self.subject}')\n",
    "        \n",
    "\n",
    "stu1=Student(\"Rishabh\",'45','101',\"CS\",\"Assam\")\n",
    "stu1.details_stu()"
   ]
  },
  {
   "cell_type": "markdown",
   "id": "0c267383-998c-4b6a-8938-a40a42497217",
   "metadata": {},
   "source": [
    "# self parameter\n",
    "\n",
    " * __The self parameter is a reference to the current instance of the class, and is used to access variables that belongs to the class.__\n",
    " * __Id does not have to be named self, you can call it whetever you like, but it has to be the first parameter of any function in the class.__"
   ]
  },
  {
   "cell_type": "code",
   "execution_count": 10,
   "id": "ef0e9be2-517d-48ab-a4c5-846075610ddf",
   "metadata": {},
   "outputs": [
    {
     "name": "stdout",
     "output_type": "stream",
     "text": [
      "Student name is:Rishabh\n",
      "Studnet Age is: 45\n",
      "Student rollno is:101\n",
      "Student Address is:Assam\n",
      "Student Subject is: CS\n"
     ]
    }
   ],
   "source": [
    "class Student:\n",
    "    def __init__(rish,name,age,rollno,subject,address):\n",
    "        rish.name=name\n",
    "        rish.age=age\n",
    "        rish.rollno=rollno\n",
    "        rish.subject=subject\n",
    "        rish.address=address\n",
    "    def details_stu(rish):\n",
    "        print(f'Student name is:{rish.name}')\n",
    "        print(f'Studnet Age is: {rish.age}')\n",
    "        print(f'Student rollno is:{rish.rollno}')\n",
    "        print(f'Student Address is:{rish.address}')\n",
    "        print(f'Student Subject is: {rish.subject}')\n",
    "\n",
    "\n",
    "stu1=Student(\"Rishabh\",'45','101',\"CS\",\"Assam\")\n",
    "stu1.details_stu()"
   ]
  },
  {
   "cell_type": "code",
   "execution_count": 11,
   "id": "38f13550-d8b7-4e73-a7d0-deb965f3bee4",
   "metadata": {},
   "outputs": [
    {
     "name": "stdout",
     "output_type": "stream",
     "text": [
      "Student name is:Rishabh\n",
      "Studnet Age is: 45\n",
      "Student rollno is:101\n",
      "Student Address is:Assam\n",
      "Student Subject is: CS\n"
     ]
    }
   ],
   "source": [
    "class Student:\n",
    "    def __init__(y,name,age,rollno,subject,address):\n",
    "        y.name=name\n",
    "        y.age=age\n",
    "        y.rollno=rollno\n",
    "        y.subject=subject\n",
    "        y.address=address\n",
    "    def details_stu(y):\n",
    "        print(f'Student name is:{y.name}')\n",
    "        print(f'Studnet Age is: {y.age}')\n",
    "        print(f'Student rollno is:{y.rollno}')\n",
    "        print(f'Student Address is:{y.address}')\n",
    "        print(f'Student Subject is: {y.subject}')\n",
    "\n",
    "\n",
    "stu1=Student(\"Rishabh\",'45','101',\"CS\",\"Assam\")\n",
    "stu1.details_stu()"
   ]
  },
  {
   "cell_type": "code",
   "execution_count": 16,
   "id": "5cedd890-b90c-4802-b87c-b82c1eda0e5e",
   "metadata": {},
   "outputs": [
    {
     "name": "stdout",
     "output_type": "stream",
     "text": [
      "Person name is:Krrish\n",
      "Person language is:Russian\n",
      "Person Roll no is:104\n",
      "Person City is:pune\n"
     ]
    }
   ],
   "source": [
    "class Data:\n",
    "    def __init__(self,name,language,roll_num,city):\n",
    "        self.name=name\n",
    "        self.language=language\n",
    "        self.roll_num=roll_num\n",
    "        self.city=city\n",
    "        \n",
    "\n",
    "    def data_details(self):\n",
    "        print(f'Person name is:{self.name}')\n",
    "        print(f'Person language is:{self.language}')\n",
    "        print(f'Person Roll no is:{self.roll_num}')\n",
    "        print(f'Person City is:{self.city}')\n",
    "\n",
    "\n",
    "obj1=Data('Krrish','Russian',104,'pune')\n",
    "obj1.data_details()\n",
    "        \n",
    "        "
   ]
  },
  {
   "cell_type": "code",
   "execution_count": 19,
   "id": "0fd2c014-7e4c-4894-9285-ceafc44c7ff4",
   "metadata": {},
   "outputs": [
    {
     "name": "stdout",
     "output_type": "stream",
     "text": [
      "Area of Circle is: 708.0749999999999 cm²\n"
     ]
    }
   ],
   "source": [
    "# waf to take input from user as radius and display the area of circle.\n",
    "\n",
    "class circle:\n",
    "    def __init__(self,radius):\n",
    "        self.radius=radius\n",
    "\n",
    "    def area_circle(self):\n",
    "        area=3.147*self.radius*self.radius\n",
    "        print(f'Area of Circle is: {area} cm²')\n",
    "\n",
    "\n",
    "c1=circle(15)\n",
    "c1.area_circle()"
   ]
  },
  {
   "cell_type": "code",
   "execution_count": 24,
   "id": "feb521e7-44b5-476f-899d-894eebb9cfac",
   "metadata": {},
   "outputs": [
    {
     "name": "stdin",
     "output_type": "stream",
     "text": [
      "Enter your radius 25\n"
     ]
    },
    {
     "name": "stdout",
     "output_type": "stream",
     "text": [
      "Area of Circle is: 1966.875 cm²\n",
      "Circumference of Circle is:157.35 cm\n"
     ]
    }
   ],
   "source": [
    "# waf to take input from user as radius and display the area of circle.\n",
    "\n",
    "class circle:\n",
    "    def __init__(self,radius):\n",
    "        self.radius=radius\n",
    "\n",
    "    def area_circle(self):\n",
    "        area=3.147*self.radius*self.radius\n",
    "        print(f'Area of Circle is: {area} cm²')\n",
    "        cir=2*3.147*self.radius\n",
    "        print(f'Circumference of Circle is:{cir} cm')\n",
    "\n",
    "user=int(input('Enter your radius'))\n",
    "c1=circle(user)\n",
    "c1.area_circle()"
   ]
  },
  {
   "cell_type": "code",
   "execution_count": 22,
   "id": "91f8601b-f4b0-46cb-be86-80c92d4c46be",
   "metadata": {},
   "outputs": [
    {
     "name": "stdin",
     "output_type": "stream",
     "text": [
      "Enter your radius 25\n"
     ]
    },
    {
     "name": "stdout",
     "output_type": "stream",
     "text": [
      "Area of Circle is: 1966.875 cm²\n"
     ]
    }
   ],
   "source": [
    "user=int(input('Enter your radius'))\n",
    "c1=circle(user)\n",
    "c1.area_circle()"
   ]
  },
  {
   "cell_type": "code",
   "execution_count": 23,
   "id": "67fceac9-8a22-4eac-90ad-e93db8060923",
   "metadata": {},
   "outputs": [
    {
     "name": "stdin",
     "output_type": "stream",
     "text": [
      "Enter your radius 56\n"
     ]
    },
    {
     "name": "stdout",
     "output_type": "stream",
     "text": [
      "Area of Circle is: 9868.992 cm²\n"
     ]
    }
   ],
   "source": [
    "user=int(input('Enter your radius'))\n",
    "c1=circle(user)\n",
    "c1.area_circle()"
   ]
  },
  {
   "cell_type": "code",
   "execution_count": 25,
   "id": "fa64ae9e-2816-4903-81ac-9cf72fa76010",
   "metadata": {},
   "outputs": [],
   "source": [
    "import math"
   ]
  },
  {
   "cell_type": "code",
   "execution_count": 26,
   "id": "15ef37ca-8678-440c-bbff-91352ff8b26e",
   "metadata": {},
   "outputs": [
    {
     "data": {
      "text/plain": [
       "3.141592653589793"
      ]
     },
     "execution_count": 26,
     "metadata": {},
     "output_type": "execute_result"
    }
   ],
   "source": [
    "math.pi"
   ]
  },
  {
   "cell_type": "code",
   "execution_count": 27,
   "id": "fb16eccf-4e7d-4030-badb-517c210bff62",
   "metadata": {},
   "outputs": [
    {
     "name": "stdin",
     "output_type": "stream",
     "text": [
      "Enter your radius 25\n"
     ]
    },
    {
     "name": "stdout",
     "output_type": "stream",
     "text": [
      "Area of Circle is: 1963.4954084936207 cm²\n",
      "Circumference of Circle is:157.07963267948966 cm\n"
     ]
    }
   ],
   "source": [
    "# waf to take input from user as radius and display the area of circle.\n",
    "import math\n",
    "class circle:\n",
    "    def __init__(self,radius):\n",
    "        self.radius=radius\n",
    "\n",
    "    def area_circle(self):\n",
    "        area=math.pi*self.radius*self.radius\n",
    "        print(f'Area of Circle is: {area} cm²')\n",
    "        cir=2*math.pi*self.radius\n",
    "        print(f'Circumference of Circle is:{cir} cm')\n",
    "\n",
    "user=int(input('Enter your radius'))\n",
    "c1=circle(user)\n",
    "c1.area_circle()"
   ]
  },
  {
   "cell_type": "code",
   "execution_count": null,
   "id": "fecaeb6c-9d81-4910-a244-6e4a37a849cf",
   "metadata": {},
   "outputs": [],
   "source": []
  },
  {
   "cell_type": "code",
   "execution_count": null,
   "id": "facfcadb-239a-4071-8c25-7c855fe6dcb8",
   "metadata": {},
   "outputs": [],
   "source": []
  }
 ],
 "metadata": {
  "kernelspec": {
   "display_name": "Python 3 (ipykernel)",
   "language": "python",
   "name": "python3"
  },
  "language_info": {
   "codemirror_mode": {
    "name": "ipython",
    "version": 3
   },
   "file_extension": ".py",
   "mimetype": "text/x-python",
   "name": "python",
   "nbconvert_exporter": "python",
   "pygments_lexer": "ipython3",
   "version": "3.12.2"
  }
 },
 "nbformat": 4,
 "nbformat_minor": 5
}
