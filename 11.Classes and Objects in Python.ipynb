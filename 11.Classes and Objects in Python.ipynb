{
 "cells": [
  {
   "cell_type": "markdown",
   "id": "0496a8f8-567e-4f9a-975e-a578d7d5a95f",
   "metadata": {},
   "source": [
    "# 11. Classes and Objects in Python\n",
    "\n",
    " * __Python is an objects-oriented programming language.__\n",
    " * __Unlike procedure-oriented, where the main emphasis is on functions, object-oriented programming, stresses on objects.__\n",
    " * __An object is simply a collections of data (variable) and methods (functions) that act on those data.__\n",
    " * __Similarly, a class is a blueprint for that object.__\n",
    " * __Like functions definitions begin with the def keyword in pyhton, class definitions begin with a class keyword.__\n",
    " * __The first string inside the class is called docstring and has s brief description of the class.__\n",
    " * __Although not mandatory, this is highly recommended.__"
   ]
  },
  {
   "cell_type": "code",
   "execution_count": 6,
   "id": "ac8bb35f-9768-465f-b802-6466c0cfc087",
   "metadata": {},
   "outputs": [
    {
     "name": "stdout",
     "output_type": "stream",
     "text": [
      "Rishabh\n",
      "45\n",
      "101\n",
      "CS\n",
      "Assam\n"
     ]
    }
   ],
   "source": [
    "class Student:\n",
    "    def __init__(self,name,age,rollno,subject,address):\n",
    "        self.name=name\n",
    "        self.age=age\n",
    "        self.rollno=rollno\n",
    "        self.subject=subject\n",
    "        self.address=address\n",
    "\n",
    "stu1=Student(\"Rishabh\",'45','101',\"CS\",\"Assam\")\n",
    "print(stu1.name)\n",
    "print(stu1.age)\n",
    "print(stu1.rollno)\n",
    "print(stu1.subject)\n",
    "print(stu1.address)"
   ]
  },
  {
   "cell_type": "code",
   "execution_count": 7,
   "id": "43e38823-f147-4181-a23c-516e272fd912",
   "metadata": {},
   "outputs": [
    {
     "data": {
      "text/plain": [
       "'Dev Shah'"
      ]
     },
     "execution_count": 7,
     "metadata": {},
     "output_type": "execute_result"
    }
   ],
   "source": [
    "stu2=Student('Dev Shah',23,102,\"CS\",\"Assam\")\n",
    "stu2.name"
   ]
  },
  {
   "cell_type": "code",
   "execution_count": 8,
   "id": "21fc6048-f9fd-46c5-8e89-1a26e6df4f0d",
   "metadata": {},
   "outputs": [
    {
     "data": {
      "text/plain": [
       "'Rishabh'"
      ]
     },
     "execution_count": 8,
     "metadata": {},
     "output_type": "execute_result"
    }
   ],
   "source": [
    "stu1.name"
   ]
  },
  {
   "cell_type": "code",
   "execution_count": 9,
   "id": "9cc4760e-20bc-40b8-a936-34e7472da0fc",
   "metadata": {},
   "outputs": [
    {
     "name": "stdout",
     "output_type": "stream",
     "text": [
      "Student name is:Rishabh\n",
      "Studnet Age is: 45\n",
      "Student rollno is:101\n",
      "Student Address is:Assam\n",
      "Student Subject is: CS\n"
     ]
    }
   ],
   "source": [
    "class Student:\n",
    "    def __init__(self,name,age,rollno,subject,address):\n",
    "        self.name=name\n",
    "        self.age=age\n",
    "        self.rollno=rollno\n",
    "        self.subject=subject\n",
    "        self.address=address\n",
    "    def details_stu(self):\n",
    "        print(f'Student name is:{self.name}')\n",
    "        print(f'Studnet Age is: {self.age}')\n",
    "        print(f'Student rollno is:{self.rollno}')\n",
    "        print(f'Student Address is:{self.address}')\n",
    "        print(f'Student Subject is: {self.subject}')\n",
    "        \n",
    "\n",
    "stu1=Student(\"Rishabh\",'45','101',\"CS\",\"Assam\")\n",
    "stu1.details_stu()"
   ]
  },
  {
   "cell_type": "markdown",
   "id": "0c267383-998c-4b6a-8938-a40a42497217",
   "metadata": {},
   "source": [
    "# self parameter\n",
    "\n",
    " * __The self parameter is a reference to the current instance of the class, and is used to access variables that belongs to the class.__\n",
    " * __Id does not have to be named self, you can call it whetever you like, but it has to be the first parameter of any function in the class.__"
   ]
  },
  {
   "cell_type": "code",
   "execution_count": 10,
   "id": "ef0e9be2-517d-48ab-a4c5-846075610ddf",
   "metadata": {},
   "outputs": [
    {
     "name": "stdout",
     "output_type": "stream",
     "text": [
      "Student name is:Rishabh\n",
      "Studnet Age is: 45\n",
      "Student rollno is:101\n",
      "Student Address is:Assam\n",
      "Student Subject is: CS\n"
     ]
    }
   ],
   "source": [
    "class Student:\n",
    "    def __init__(rish,name,age,rollno,subject,address):\n",
    "        rish.name=name\n",
    "        rish.age=age\n",
    "        rish.rollno=rollno\n",
    "        rish.subject=subject\n",
    "        rish.address=address\n",
    "    def details_stu(rish):\n",
    "        print(f'Student name is:{rish.name}')\n",
    "        print(f'Studnet Age is: {rish.age}')\n",
    "        print(f'Student rollno is:{rish.rollno}')\n",
    "        print(f'Student Address is:{rish.address}')\n",
    "        print(f'Student Subject is: {rish.subject}')\n",
    "\n",
    "\n",
    "stu1=Student(\"Rishabh\",'45','101',\"CS\",\"Assam\")\n",
    "stu1.details_stu()"
   ]
  },
  {
   "cell_type": "code",
   "execution_count": 11,
   "id": "38f13550-d8b7-4e73-a7d0-deb965f3bee4",
   "metadata": {},
   "outputs": [
    {
     "name": "stdout",
     "output_type": "stream",
     "text": [
      "Student name is:Rishabh\n",
      "Studnet Age is: 45\n",
      "Student rollno is:101\n",
      "Student Address is:Assam\n",
      "Student Subject is: CS\n"
     ]
    }
   ],
   "source": [
    "class Student:\n",
    "    def __init__(y,name,age,rollno,subject,address):\n",
    "        y.name=name\n",
    "        y.age=age\n",
    "        y.rollno=rollno\n",
    "        y.subject=subject\n",
    "        y.address=address\n",
    "    def details_stu(y):\n",
    "        print(f'Student name is:{y.name}')\n",
    "        print(f'Studnet Age is: {y.age}')\n",
    "        print(f'Student rollno is:{y.rollno}')\n",
    "        print(f'Student Address is:{y.address}')\n",
    "        print(f'Student Subject is: {y.subject}')\n",
    "\n",
    "\n",
    "stu1=Student(\"Rishabh\",'45','101',\"CS\",\"Assam\")\n",
    "stu1.details_stu()"
   ]
  },
  {
   "cell_type": "code",
   "execution_count": 16,
   "id": "5cedd890-b90c-4802-b87c-b82c1eda0e5e",
   "metadata": {},
   "outputs": [
    {
     "name": "stdout",
     "output_type": "stream",
     "text": [
      "Person name is:Krrish\n",
      "Person language is:Russian\n",
      "Person Roll no is:104\n",
      "Person City is:pune\n"
     ]
    }
   ],
   "source": [
    "class Data:\n",
    "    def __init__(self,name,language,roll_num,city):\n",
    "        self.name=name\n",
    "        self.language=language\n",
    "        self.roll_num=roll_num\n",
    "        self.city=city\n",
    "        \n",
    "\n",
    "    def data_details(self):\n",
    "        print(f'Person name is:{self.name}')\n",
    "        print(f'Person language is:{self.language}')\n",
    "        print(f'Person Roll no is:{self.roll_num}')\n",
    "        print(f'Person City is:{self.city}')\n",
    "\n",
    "\n",
    "obj1=Data('Krrish','Russian',104,'pune')\n",
    "obj1.data_details()\n",
    "        \n",
    "        "
   ]
  },
  {
   "cell_type": "code",
   "execution_count": 19,
   "id": "0fd2c014-7e4c-4894-9285-ceafc44c7ff4",
   "metadata": {},
   "outputs": [
    {
     "name": "stdout",
     "output_type": "stream",
     "text": [
      "Area of Circle is: 708.0749999999999 cm²\n"
     ]
    }
   ],
   "source": [
    "# waf to take input from user as radius and display the area of circle.\n",
    "\n",
    "class circle:\n",
    "    def __init__(self,radius):\n",
    "        self.radius=radius\n",
    "\n",
    "    def area_circle(self):\n",
    "        area=3.147*self.radius*self.radius\n",
    "        print(f'Area of Circle is: {area} cm²')\n",
    "\n",
    "\n",
    "c1=circle(15)\n",
    "c1.area_circle()"
   ]
  },
  {
   "cell_type": "code",
   "execution_count": 24,
   "id": "feb521e7-44b5-476f-899d-894eebb9cfac",
   "metadata": {},
   "outputs": [
    {
     "name": "stdin",
     "output_type": "stream",
     "text": [
      "Enter your radius 25\n"
     ]
    },
    {
     "name": "stdout",
     "output_type": "stream",
     "text": [
      "Area of Circle is: 1966.875 cm²\n",
      "Circumference of Circle is:157.35 cm\n"
     ]
    }
   ],
   "source": [
    "# waf to take input from user as radius and display the area of circle.\n",
    "\n",
    "class circle:\n",
    "    def __init__(self,radius):\n",
    "        self.radius=radius\n",
    "\n",
    "    def area_circle(self):\n",
    "        area=3.147*self.radius*self.radius\n",
    "        print(f'Area of Circle is: {area} cm²')\n",
    "        cir=2*3.147*self.radius\n",
    "        print(f'Circumference of Circle is:{cir} cm')\n",
    "\n",
    "user=int(input('Enter your radius'))\n",
    "c1=circle(user)\n",
    "c1.area_circle()"
   ]
  },
  {
   "cell_type": "code",
   "execution_count": 22,
   "id": "91f8601b-f4b0-46cb-be86-80c92d4c46be",
   "metadata": {},
   "outputs": [
    {
     "name": "stdin",
     "output_type": "stream",
     "text": [
      "Enter your radius 25\n"
     ]
    },
    {
     "name": "stdout",
     "output_type": "stream",
     "text": [
      "Area of Circle is: 1966.875 cm²\n"
     ]
    }
   ],
   "source": [
    "user=int(input('Enter your radius'))\n",
    "c1=circle(user)\n",
    "c1.area_circle()"
   ]
  },
  {
   "cell_type": "code",
   "execution_count": 23,
   "id": "67fceac9-8a22-4eac-90ad-e93db8060923",
   "metadata": {},
   "outputs": [
    {
     "name": "stdin",
     "output_type": "stream",
     "text": [
      "Enter your radius 56\n"
     ]
    },
    {
     "name": "stdout",
     "output_type": "stream",
     "text": [
      "Area of Circle is: 9868.992 cm²\n"
     ]
    }
   ],
   "source": [
    "user=int(input('Enter your radius'))\n",
    "c1=circle(user)\n",
    "c1.area_circle()"
   ]
  },
  {
   "cell_type": "code",
   "execution_count": 25,
   "id": "fa64ae9e-2816-4903-81ac-9cf72fa76010",
   "metadata": {},
   "outputs": [],
   "source": [
    "import math"
   ]
  },
  {
   "cell_type": "code",
   "execution_count": 26,
   "id": "15ef37ca-8678-440c-bbff-91352ff8b26e",
   "metadata": {},
   "outputs": [
    {
     "data": {
      "text/plain": [
       "3.141592653589793"
      ]
     },
     "execution_count": 26,
     "metadata": {},
     "output_type": "execute_result"
    }
   ],
   "source": [
    "math.pi"
   ]
  },
  {
   "cell_type": "code",
   "execution_count": 27,
   "id": "fb16eccf-4e7d-4030-badb-517c210bff62",
   "metadata": {},
   "outputs": [
    {
     "name": "stdin",
     "output_type": "stream",
     "text": [
      "Enter your radius 25\n"
     ]
    },
    {
     "name": "stdout",
     "output_type": "stream",
     "text": [
      "Area of Circle is: 1963.4954084936207 cm²\n",
      "Circumference of Circle is:157.07963267948966 cm\n"
     ]
    }
   ],
   "source": [
    "# waf to take input from user as radius and display the area of circle.\n",
    "import math\n",
    "class circle:\n",
    "    def __init__(self,radius):\n",
    "        self.radius=radius\n",
    "\n",
    "    def area_circle(self):\n",
    "        area=math.pi*self.radius*self.radius\n",
    "        print(f'Area of Circle is: {area} cm²')\n",
    "        cir=2*math.pi*self.radius\n",
    "        print(f'Circumference of Circle is:{cir} cm')\n",
    "\n",
    "user=int(input('Enter your radius'))\n",
    "c1=circle(user)\n",
    "c1.area_circle()"
   ]
  },
  {
   "cell_type": "markdown",
   "id": "ebfa415c-8a8c-41fe-9b0a-6dc6218d70f7",
   "metadata": {},
   "source": [
    "# Inheritance\n",
    "\n",
    " * __Simple (Single) Inheritance: (Parent class and child class)__\n",
    " * __Multlevel Inheritance: (parent/child-child)__\n",
    " * __Multiple Inheritance: (Parent/parent-child class)__\n",
    " * __Hierarchial Inheritance:(Parent class/child/child/child)__\n",
    " * __Hybrid Inheriance__"
   ]
  },
  {
   "cell_type": "code",
   "execution_count": 2,
   "id": "facfcadb-239a-4071-8c25-7c855fe6dcb8",
   "metadata": {},
   "outputs": [
    {
     "name": "stdout",
     "output_type": "stream",
     "text": [
      "Amazon is an Online commerce store.\n"
     ]
    }
   ],
   "source": [
    "# single inheritance\n",
    "class a:    # parent\n",
    "    brand_name_1=\"Amazon\"\n",
    "    brand_name_2=\"Flipkart\"\n",
    "    brand_name_3=\"Myntra\"\n",
    "\n",
    "class b(a):    #child\n",
    "    prod_1=\"Online commerce store.\"\n",
    "    prod_2=\"Online Store.\"\n",
    "    prod_3=\"E-Commerce Store.\"\n",
    "\n",
    "obj1=b()\n",
    "print(obj1.brand_name_1+' is an '+obj1.prod_1)"
   ]
  },
  {
   "cell_type": "code",
   "execution_count": 5,
   "id": "ac03e53f-a600-4f34-ac12-ef8b13c14fd4",
   "metadata": {},
   "outputs": [
    {
     "name": "stdout",
     "output_type": "stream",
     "text": [
      "Amazon is an Online commerce store and it's popularity is 100\n"
     ]
    }
   ],
   "source": [
    "# Multilevel inheritance:- Parent/ child child -/ grand child\n",
    "\n",
    "class a:    # parent\n",
    "    brand_name_1=\"Amazon\"\n",
    "    brand_name_2=\"Flipkart\"\n",
    "    brand_name_3=\"Myntra\"\n",
    "\n",
    "class b(a):    #child\n",
    "    prod_1=\"Online commerce store\"\n",
    "    prod_2=\"Online Store\"\n",
    "    prod_3=\"E-Commerce Store\"\n",
    "\n",
    "class c(b):\n",
    "    popularity_1='100'\n",
    "    popularity_2='200'\n",
    "    popularity_3='300'\n",
    "\n",
    "\n",
    "obj1=c()\n",
    "\n",
    "print(obj1.brand_name_1+' is an '+obj1.prod_1+\" and it's popularity is \"+obj1.popularity_1)\n"
   ]
  },
  {
   "cell_type": "code",
   "execution_count": 6,
   "id": "4c9981a7-3aaa-4397-8637-fb2dcfaa416f",
   "metadata": {},
   "outputs": [
    {
     "name": "stdout",
     "output_type": "stream",
     "text": [
      "Amazon is an Online commerce store and it's popularity is 100\n"
     ]
    }
   ],
   "source": [
    "# Multiple inheritance:- Parent/ parent/ child\n",
    "\n",
    "class a:    # parent\n",
    "    brand_name_1=\"Amazon\"\n",
    "    brand_name_2=\"Flipkart\"\n",
    "    brand_name_3=\"Myntra\"\n",
    "\n",
    "class b:   #parent\n",
    "    prod_1=\"Online commerce store\"\n",
    "    prod_2=\"Online Store\"\n",
    "    prod_3=\"E-Commerce Store\"\n",
    "\n",
    "class c(a,b):\n",
    "    popularity_1='100'\n",
    "    popularity_2='200'\n",
    "    popularity_3='300'\n",
    "\n",
    "obj1=c()\n",
    "print(obj1.brand_name_1+' is an '+obj1.prod_1+\" and it's popularity is \"+obj1.popularity_1)"
   ]
  },
  {
   "cell_type": "code",
   "execution_count": 9,
   "id": "395599fc-4cad-4e13-a6ef-7d9f5e958dba",
   "metadata": {},
   "outputs": [
    {
     "name": "stdout",
     "output_type": "stream",
     "text": [
      "Amazon is an Online commerce store and it's popularity is 100 and it's value is Best value\n"
     ]
    }
   ],
   "source": [
    "# Hierarchical inheritance:- Parent/ child/child\n",
    "\n",
    "class a:    # parent\n",
    "    brand_name_1=\"Amazon\"\n",
    "    brand_name_2=\"Flipkart\"\n",
    "    brand_name_3=\"Myntra\"\n",
    "\n",
    "class b(a):   #child\n",
    "    prod_1=\"Online commerce store\"\n",
    "    prod_2=\"Online Store\"\n",
    "    prod_3=\"E-Commerce Store\"\n",
    "\n",
    "class c(a):   # child\n",
    "    popularity_1='100'\n",
    "    popularity_2='200'\n",
    "    popularity_3='300'\n",
    "\n",
    "class d(a):\n",
    "    prod_value_1='Best value'\n",
    "    prod_value_2='Good Value'\n",
    "    prod_value_3=\"Better Value\"\n",
    "\n",
    "obj1=b()\n",
    "obj2=c()\n",
    "obj3=d()\n",
    "\n",
    "print(obj1.brand_name_1+' is an '+obj1.prod_1+\" and it's popularity is \"+obj2.popularity_1+\" and it's value is \"+obj3.prod_value_1)"
   ]
  },
  {
   "cell_type": "code",
   "execution_count": 18,
   "id": "8086b877-9211-4bac-9744-fde0c8f0857a",
   "metadata": {},
   "outputs": [
    {
     "name": "stdout",
     "output_type": "stream",
     "text": [
      "Karan Johar\n",
      "Orry\n",
      "Yash\n",
      "Result\n"
     ]
    }
   ],
   "source": [
    "# Hybrid Inheritance\n",
    "\n",
    "class a:\n",
    "    def name_a(self):\n",
    "        return('Karan Johar')\n",
    "\n",
    "class b:\n",
    "    def name_b(self):\n",
    "        return('Orry')\n",
    "\n",
    "class c(a):\n",
    "    def name_c(self):\n",
    "        return('Yash')\n",
    "\n",
    "\n",
    "class d(b,c):\n",
    "    def name_d(self):\n",
    "        return('Result')\n",
    "\n",
    "\n",
    "obj1=d()\n",
    "print(obj1.name_a())\n",
    "print(obj1.name_b())\n",
    "print(obj1.name_c())\n",
    "print(obj1.name_d())\n"
   ]
  },
  {
   "cell_type": "markdown",
   "id": "0f854137-3b30-4d68-a6e7-83bbec0c688e",
   "metadata": {},
   "source": [
    "# 4 method of oops concetp\n",
    "\n",
    " * __1.Inheritance (Mom and Daugher): Some property of mom inherits by her daughter.__\n",
    " * __2.Polymorphism: In school behave Like a student, In Home behave like son/Daughter, In Bus behave like passenger, In shop behave like a customer, In hospital behave like patients.__\n",
    " * __3.Encapsulation: School bag can kept book, notebook, pen, pencil, waterbottle,lunchBox, eraser,sharpener.__\n",
    " * __4.Data Abstraction__"
   ]
  },
  {
   "cell_type": "code",
   "execution_count": 2,
   "id": "8901b489-3518-4d9e-99ec-c309a8e88afb",
   "metadata": {},
   "outputs": [
    {
     "name": "stdout",
     "output_type": "stream",
     "text": [
      "Hello I am calling class child\n",
      "None\n"
     ]
    }
   ],
   "source": [
    "class parent:\n",
    "    def parent_method(self):\n",
    "        print(\"Hello world\")\n",
    "        print('Hi,Python')\n",
    "\n",
    "class child(parent):\n",
    "    def parent_method(self):\n",
    "        print(\"Hello I am calling class child\")\n",
    "\n",
    "x=child()\n",
    "print(x.parent_method())"
   ]
  },
  {
   "cell_type": "code",
   "execution_count": 5,
   "id": "11563798-e3b9-4ff6-b784-4bf0fcd65ada",
   "metadata": {},
   "outputs": [
    {
     "name": "stdout",
     "output_type": "stream",
     "text": [
      "Rishav\n",
      "45\n",
      "Ashok Nagar\n"
     ]
    }
   ],
   "source": [
    "class person:\n",
    "    def __init__(self,name,age):\n",
    "        self.name=name\n",
    "        self.age=age\n",
    "\n",
    "class person2:\n",
    "    def __init__(self,address):\n",
    "        self.address=address\n",
    "\n",
    "obj1=person('Rishav',45)\n",
    "print(obj1.name)\n",
    "print(obj1.age)\n",
    "\n",
    "obj2=person2('Ashok Nagar')\n",
    "print(obj2.address)"
   ]
  },
  {
   "cell_type": "code",
   "execution_count": 11,
   "id": "638056c9-ce9e-49fb-b95a-667607ad5b7e",
   "metadata": {},
   "outputs": [
    {
     "name": "stdout",
     "output_type": "stream",
     "text": [
      "My name is:rishabh\n",
      "My age is:45\n",
      "I am from:Assam\n"
     ]
    }
   ],
   "source": [
    "class person:\n",
    "    def __init__(self,name,age):\n",
    "        self.name=name\n",
    "        self.age=age\n",
    "\n",
    "class person2(person):\n",
    "    def __init__(self,name,age, address):\n",
    "        super().__init__(name,age)\n",
    "        self.address=address\n",
    "\n",
    "    def person2_details(self):\n",
    "        print(f'My name is:{self.name}')\n",
    "        print(f'My age is:{self.age}')\n",
    "        print(f'I am from:{self.address}')\n",
    "\n",
    "\n",
    "obj2=person2('rishabh',45,'Assam')\n",
    "# print(obj2.name)\n",
    "# print(obj2.age)\n",
    "# print(obj2.address)\n",
    "obj2.person2_details()"
   ]
  },
  {
   "cell_type": "code",
   "execution_count": 12,
   "id": "10877e97-b8d4-497b-b9cc-3758b2bfb321",
   "metadata": {},
   "outputs": [
    {
     "name": "stdout",
     "output_type": "stream",
     "text": [
      "My Dog name is: Swan\n",
      "And It's breed is:Labrador\n",
      "It's color is:Black\n",
      "It's Food is:Non-veg\n",
      "It has 4 legs\n"
     ]
    }
   ],
   "source": [
    "class animal:\n",
    "    def __init__(self,name,breed,color,food):\n",
    "        self.name=name\n",
    "        self.breed=breed\n",
    "        self.color=color\n",
    "        self.food=food\n",
    "\n",
    "class animal1(animal):\n",
    "    def __init__(self,name,breed,color,food,legs):\n",
    "        super().__init__(name,breed,color,food)\n",
    "        self.legs=legs\n",
    "    def animal1_details(self):\n",
    "        print(f'My Dog name is: {self.name}')\n",
    "        print(f\"And It's breed is:{self.breed}\")\n",
    "        print(f\"It's color is:{self.color}\")\n",
    "        print(f\"It's Food is:{self.food}\")\n",
    "        print(f\"It has {self.legs} legs\")\n",
    "\n",
    "obj1=animal1('Swan','Labrador','Black',\"Non-veg\",\"4\")\n",
    "obj1.animal1_details()\n",
    "    "
   ]
  },
  {
   "cell_type": "code",
   "execution_count": 16,
   "id": "ae6e5439-5ad9-4f3d-b57b-f17839ea3316",
   "metadata": {},
   "outputs": [
    {
     "name": "stdout",
     "output_type": "stream",
     "text": [
      "Bark\n",
      "Meow\n",
      "Talk\n"
     ]
    }
   ],
   "source": [
    "# Polymorphism\n",
    "\n",
    "class Animal:\n",
    "    def speak(self):\n",
    "        print('Animal Speak')\n",
    "\n",
    "class Dog(Animal):\n",
    "    def speak(self):\n",
    "        print('Bark')\n",
    "\n",
    "class Cat(Animal):\n",
    "    def speak(self):\n",
    "        print(\"Meow\")\n",
    "\n",
    "\n",
    "class Man(Animal):\n",
    "    def speak(self):\n",
    "        print(\"Talk\")\n",
    "\n",
    "\n",
    "animal=[Dog(),Cat(),Man()]\n",
    "\n",
    "for i in animal:\n",
    "    i.speak()"
   ]
  },
  {
   "cell_type": "code",
   "execution_count": 19,
   "id": "071a467f-3df9-4a34-b55a-9f95c49a10c0",
   "metadata": {},
   "outputs": [
    {
     "ename": "AttributeError",
     "evalue": "'Encapsulation' object has no attribute '__private_variable'",
     "output_type": "error",
     "traceback": [
      "\u001b[1;31m---------------------------------------------------------------------------\u001b[0m",
      "\u001b[1;31mAttributeError\u001b[0m                            Traceback (most recent call last)",
      "Cell \u001b[1;32mIn[19], line 14\u001b[0m\n\u001b[0;32m     11\u001b[0m         \u001b[38;5;28mself\u001b[39m\u001b[38;5;241m.\u001b[39m__private_variable\u001b[38;5;241m=\u001b[39mnew_value\n\u001b[0;32m     13\u001b[0m obj\u001b[38;5;241m=\u001b[39mEncapsulation(\u001b[38;5;241m10\u001b[39m)\n\u001b[1;32m---> 14\u001b[0m \u001b[43mobj\u001b[49m\u001b[38;5;241;43m.\u001b[39;49m\u001b[43m__private_variable\u001b[49m\n",
      "\u001b[1;31mAttributeError\u001b[0m: 'Encapsulation' object has no attribute '__private_variable'"
     ]
    }
   ],
   "source": [
    "# Encapsulation\n",
    "\n",
    "class Encapsulation:\n",
    "    def __init__(self,value):\n",
    "        self.__private_variable=value\n",
    "\n",
    "    def get_private_variable(self):\n",
    "        return self.__private_variable\n",
    "\n",
    "    def update_private_variable(self,new_value):\n",
    "        self.__private_variable=new_value\n",
    "\n",
    "obj=Encapsulation(10)\n",
    "obj.__private_variable"
   ]
  },
  {
   "cell_type": "code",
   "execution_count": 20,
   "id": "7cc17247-77c7-40dd-8585-f890b647b0da",
   "metadata": {},
   "outputs": [
    {
     "data": {
      "text/plain": [
       "10"
      ]
     },
     "execution_count": 20,
     "metadata": {},
     "output_type": "execute_result"
    }
   ],
   "source": [
    "obj.get_private_variable()"
   ]
  },
  {
   "cell_type": "code",
   "execution_count": 21,
   "id": "5b65807d-222f-472a-9bf8-517f2531dc38",
   "metadata": {},
   "outputs": [],
   "source": [
    "obj.update_private_variable(100)"
   ]
  },
  {
   "cell_type": "code",
   "execution_count": 22,
   "id": "7c07c353-6f7f-482d-9610-9ce2a755cc1c",
   "metadata": {},
   "outputs": [
    {
     "data": {
      "text/plain": [
       "100"
      ]
     },
     "execution_count": 22,
     "metadata": {},
     "output_type": "execute_result"
    }
   ],
   "source": [
    "obj.get_private_variable()"
   ]
  },
  {
   "cell_type": "code",
   "execution_count": 23,
   "id": "17a1656c-75f2-474b-90e6-d29ac5b1ecce",
   "metadata": {},
   "outputs": [
    {
     "data": {
      "text/plain": [
       "200"
      ]
     },
     "execution_count": 23,
     "metadata": {},
     "output_type": "execute_result"
    }
   ],
   "source": [
    "obj1=Encapsulation(200)\n",
    "obj1.get_private_variable()"
   ]
  },
  {
   "cell_type": "code",
   "execution_count": 24,
   "id": "3254eab6-417a-48c0-a619-7378cad271d4",
   "metadata": {},
   "outputs": [
    {
     "data": {
      "text/plain": [
       "210"
      ]
     },
     "execution_count": 24,
     "metadata": {},
     "output_type": "execute_result"
    }
   ],
   "source": [
    "obj1.update_private_variable(210)\n",
    "obj1.get_private_variable()"
   ]
  },
  {
   "cell_type": "code",
   "execution_count": 25,
   "id": "6c948ee3-89bb-4259-982f-4cd42ec7229b",
   "metadata": {},
   "outputs": [
    {
     "data": {
      "text/plain": [
       "100"
      ]
     },
     "execution_count": 25,
     "metadata": {},
     "output_type": "execute_result"
    }
   ],
   "source": [
    "obj.get_private_variable()"
   ]
  },
  {
   "cell_type": "code",
   "execution_count": 26,
   "id": "87fdee77-1e9c-4d40-8c2b-415d9584dd83",
   "metadata": {},
   "outputs": [
    {
     "data": {
      "text/plain": [
       "210"
      ]
     },
     "execution_count": 26,
     "metadata": {},
     "output_type": "execute_result"
    }
   ],
   "source": [
    "obj1.get_private_variable()"
   ]
  },
  {
   "cell_type": "markdown",
   "id": "2355413f-9bdc-4142-b7e2-02f10e3c478a",
   "metadata": {},
   "source": [
    "# Data Abstraction"
   ]
  },
  {
   "cell_type": "code",
   "execution_count": 50,
   "id": "13292a51-d529-482c-9291-7952f204cff3",
   "metadata": {},
   "outputs": [],
   "source": [
    "from abc import ABC, abstractmethod\n",
    "class bank(ABC):\n",
    "    def database(self):\n",
    "        print('Connected to database')\n",
    "\n",
    "    @abstractmethod\n",
    "    def security1(self):\n",
    "        pass\n",
    "\n",
    "    @abstractmethod\n",
    "    def security2(self):\n",
    "        pass\n",
    "\n",
    "    @abstractmethod\n",
    "    def apple(self):\n",
    "        pass\n"
   ]
  },
  {
   "cell_type": "code",
   "execution_count": 54,
   "id": "47633477-52e4-40f9-9865-aa052cc6db28",
   "metadata": {},
   "outputs": [
    {
     "name": "stdout",
     "output_type": "stream",
     "text": [
      "Login Success\n",
      "Connected to database\n"
     ]
    }
   ],
   "source": [
    "class mob_bank(bank):\n",
    "    def mob_bank(self):\n",
    "        print('Login Success')\n",
    "\n",
    "    def security1(self):\n",
    "        pass\n",
    "\n",
    "    def security2(self):\n",
    "        pass\n",
    "\n",
    "    def apple(self):\n",
    "        pass\n",
    "\n",
    "obj=mob_bank()\n",
    "obj.mob_bank()\n",
    "obj.database()"
   ]
  },
  {
   "cell_type": "code",
   "execution_count": null,
   "id": "6903b29c-5a3c-4876-9c0e-6ebb8e97d6ea",
   "metadata": {},
   "outputs": [],
   "source": []
  },
  {
   "cell_type": "code",
   "execution_count": null,
   "id": "10cd1872-1b67-4bd8-8165-d98cfa5ab968",
   "metadata": {},
   "outputs": [],
   "source": []
  },
  {
   "cell_type": "code",
   "execution_count": null,
   "id": "6ee5a00e-3609-4ba8-8981-5f40a0effe0f",
   "metadata": {},
   "outputs": [],
   "source": []
  }
 ],
 "metadata": {
  "kernelspec": {
   "display_name": "Python 3 (ipykernel)",
   "language": "python",
   "name": "python3"
  },
  "language_info": {
   "codemirror_mode": {
    "name": "ipython",
    "version": 3
   },
   "file_extension": ".py",
   "mimetype": "text/x-python",
   "name": "python",
   "nbconvert_exporter": "python",
   "pygments_lexer": "ipython3",
   "version": "3.12.2"
  }
 },
 "nbformat": 4,
 "nbformat_minor": 5
}
