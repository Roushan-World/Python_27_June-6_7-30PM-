{
 "cells": [
  {
   "cell_type": "markdown",
   "id": "facabc65-2f07-4384-b984-cea37e473083",
   "metadata": {},
   "source": [
    "# 19. Generator in Python"
   ]
  },
  {
   "cell_type": "code",
   "execution_count": 3,
   "id": "f42a2346-48ce-471a-a5ed-ab0106da854f",
   "metadata": {},
   "outputs": [
    {
     "name": "stdin",
     "output_type": "stream",
     "text": [
      "Enter your range: 10\n"
     ]
    },
    {
     "name": "stdout",
     "output_type": "stream",
     "text": [
      "[2, 4, 6, 8, 10]\n"
     ]
    }
   ],
   "source": [
    "# print even number user input range()\n",
    "\n",
    "def function():\n",
    "    user1=int(input('Enter your range:'))\n",
    "    even_list=[]\n",
    "    for i in range(1,user1+1):\n",
    "        if i%2==0:\n",
    "            even_list.append(i)\n",
    "\n",
    "\n",
    "    print(even_list)\n",
    "\n",
    "function()"
   ]
  },
  {
   "cell_type": "code",
   "execution_count": 7,
   "id": "4a12b994-49fd-427f-8625-72ff97b7a5d6",
   "metadata": {},
   "outputs": [
    {
     "name": "stdout",
     "output_type": "stream",
     "text": [
      "Hey Rishabh\n",
      "Hello Dev\n",
      "Hello Aman\n",
      "Hello Anupam\n"
     ]
    }
   ],
   "source": [
    "def message1():\n",
    "    return \"Hey Rishabh\"\n",
    "\n",
    "def message2():\n",
    "    return \"Hello Dev\"\n",
    "\n",
    "def message3():\n",
    "    return \"Hello Aman\"\n",
    "\n",
    "def message4():\n",
    "    return \"Hello Anupam\"\n",
    "\n",
    "\n",
    "print(message1())\n",
    "print(message2())\n",
    "print(message3())\n",
    "print(message4())"
   ]
  },
  {
   "cell_type": "code",
   "execution_count": 11,
   "id": "892c6e79-108b-4422-bd5e-3d31f29dffae",
   "metadata": {},
   "outputs": [
    {
     "name": "stdout",
     "output_type": "stream",
     "text": [
      "Hey Rishabh\n"
     ]
    }
   ],
   "source": [
    "def messge1():\n",
    "    one_msg=\"Hey Rishabh\"\n",
    "    yield one_msg\n",
    "\n",
    "    two_msg=\"Hello dev\"\n",
    "    yield two_msg\n",
    "\n",
    "    three_msg=\"Hy aman\"\n",
    "    yield three_msg\n",
    "\n",
    "    four_msg=\"Hello Sonali\"\n",
    "    yield four_msg\n",
    "\n",
    "\n",
    "\n",
    "obj1=messge1()\n",
    "print(next(obj1))"
   ]
  },
  {
   "cell_type": "code",
   "execution_count": 12,
   "id": "db5ab570-2d00-40f2-a8ed-101f7de36a96",
   "metadata": {},
   "outputs": [
    {
     "name": "stdout",
     "output_type": "stream",
     "text": [
      "Hello dev\n"
     ]
    }
   ],
   "source": [
    "print(next(obj1))"
   ]
  },
  {
   "cell_type": "code",
   "execution_count": 13,
   "id": "dc4647ca-2150-4d59-8d15-9be16ef7ffc8",
   "metadata": {},
   "outputs": [
    {
     "name": "stdout",
     "output_type": "stream",
     "text": [
      "Hy aman\n"
     ]
    }
   ],
   "source": [
    "print(next(obj1))"
   ]
  },
  {
   "cell_type": "code",
   "execution_count": 14,
   "id": "0ca1367d-9544-4e94-a006-f104a2dc6942",
   "metadata": {},
   "outputs": [
    {
     "name": "stdout",
     "output_type": "stream",
     "text": [
      "Hello Sonali\n"
     ]
    }
   ],
   "source": [
    "print(next(obj1))"
   ]
  },
  {
   "cell_type": "code",
   "execution_count": 15,
   "id": "868b6373-febd-4ec9-9f47-71ef11b46155",
   "metadata": {},
   "outputs": [
    {
     "ename": "StopIteration",
     "evalue": "",
     "output_type": "error",
     "traceback": [
      "\u001b[1;31m---------------------------------------------------------------------------\u001b[0m",
      "\u001b[1;31mStopIteration\u001b[0m                             Traceback (most recent call last)",
      "Cell \u001b[1;32mIn[15], line 1\u001b[0m\n\u001b[1;32m----> 1\u001b[0m \u001b[38;5;28mprint\u001b[39m(\u001b[38;5;28;43mnext\u001b[39;49m\u001b[43m(\u001b[49m\u001b[43mobj1\u001b[49m\u001b[43m)\u001b[49m)\n",
      "\u001b[1;31mStopIteration\u001b[0m: "
     ]
    }
   ],
   "source": [
    "print(next(obj1))"
   ]
  },
  {
   "cell_type": "code",
   "execution_count": null,
   "id": "8fe15209-286e-4461-823c-97c37149c89c",
   "metadata": {},
   "outputs": [],
   "source": []
  }
 ],
 "metadata": {
  "kernelspec": {
   "display_name": "Python 3 (ipykernel)",
   "language": "python",
   "name": "python3"
  },
  "language_info": {
   "codemirror_mode": {
    "name": "ipython",
    "version": 3
   },
   "file_extension": ".py",
   "mimetype": "text/x-python",
   "name": "python",
   "nbconvert_exporter": "python",
   "pygments_lexer": "ipython3",
   "version": "3.12.2"
  }
 },
 "nbformat": 4,
 "nbformat_minor": 5
}
